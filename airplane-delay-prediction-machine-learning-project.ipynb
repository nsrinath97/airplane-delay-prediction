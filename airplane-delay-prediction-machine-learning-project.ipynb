{
 "cells": [
  {
   "cell_type": "markdown",
   "metadata": {
    "id": "J4tP0RvDmNgZ"
   },
   "source": [
    "# Airplane Delay Machine Learning Project\n",
    "\n",
    "![](https://i.imgur.com/3xMAbgy.png)\n",
    "\n",
    "## Introduction\n",
    "\n",
    "This project is attempting to use supervised machine learning to predict the delay of an airplane given various data points gathered from previous flight data to help predict future delays. That is essentially the core of machine learning as a concept; we take a set of data, sanitize it to be readable for a computer, and give it to a machine learning algorithm to produce a result to predict the future.\n",
    "\n",
    "There are two forms of supervised machine learning problems: Regression and Classification.\n",
    "\n",
    "Regression is producing an output number or numbers given a variable number of inputs such as date, weather, price, depending on the dataset \n",
    "\n",
    "Classification on the other hand is more often a yes or no question such as does this person have X medical condition, given a variable number of inputs such as age, weight, height, once again depending on the dataset.\n",
    "\n",
    "This project is a classification problem as it requires the machine learning model to predict airplane delay based on certain classes of delay.\n",
    "\n",
    "\n",
    "## Project Outline\n",
    "\n",
    "1. Install and Import Required Libraries\n",
    "2. Download the Dataset\n",
    "3. Column Description\n",
    "4. Cleaning Data\n",
    "5. Exploratory Data Analysis\n",
    "6. Feature Engineering\n",
    "7. Training/Test/Validation\n",
    "8. Imputation, Scaling and Encoding\n",
    "9. Machine Learning Models\n",
    "10. Comparing Results\n",
    "11. Conclusion and Further Improvements\n",
    "\n",
    "\n",
    "## Libraries Used\n",
    "\n",
    " - [os](https://docs.python.org/3/library/os.html)\n",
    " - [opendatasets](https://github.com/JovianML/opendatasets)\n",
    " - [numpy](https://numpy.org/)\n",
    " - [pandas](https://pandas.pydata.org/)\n",
    " - [matplotlib](https://matplotlib.org/)\n",
    " - [seaborn](https://seaborn.pydata.org/)\n",
    " - [selenium](https://www.selenium.dev/)\n",
    " - [time](https://docs.python.org/3/library/time.html)\n",
    " - [psutil](https://pypi.org/project/psutil/)\n",
    " - [scikit-learn](https://scikit-learn.org/)\n",
    " - [xgboost](https://xgboost.readthedocs.io/)\n",
    " - [regex](https://docs.python.org/3/library/re.html)"
   ]
  },
  {
   "cell_type": "markdown",
   "metadata": {
    "id": "kX9YRHZuvljG"
   },
   "source": [
    "# 1. Install and Import Required Libraries\n",
    "\n",
    "## Section Outline\n",
    "\n",
    "- Install required libraries\n",
    "- Import libraries\n",
    "- set options for matplotlib, pandas and chromedriver"
   ]
  },
  {
   "cell_type": "code",
   "execution_count": 2,
   "metadata": {
    "executionInfo": {
     "elapsed": 3889,
     "status": "ok",
     "timestamp": 1663262189086,
     "user": {
      "displayName": "Srinath Nanduri",
      "userId": "16683609937496845667"
     },
     "user_tz": 420
    },
    "id": "MJ8d5NNGmNgb"
   },
   "outputs": [],
   "source": [
    "# Install all of the libraries \n",
    "!pip install numpy pandas-profiling matplotlib seaborn opendatasets selenium bayesian-optimization --quiet"
   ]
  },
  {
   "cell_type": "code",
   "execution_count": 3,
   "metadata": {
    "colab": {
     "base_uri": "https://localhost:8080/"
    },
    "executionInfo": {
     "elapsed": 7206,
     "status": "ok",
     "timestamp": 1663262196289,
     "user": {
      "displayName": "Srinath Nanduri",
      "userId": "16683609937496845667"
     },
     "user_tz": 420
    },
    "id": "2uiMWMWHXz6G",
    "outputId": "d9fae2e7-1a90-40f2-adcc-5de041f2ad4f"
   },
   "outputs": [
    {
     "name": "stdout",
     "output_type": "stream",
     "text": [
      "Hit:1 http://ppa.launchpad.net/c2d4u.team/c2d4u4.0+/ubuntu bionic InRelease\n",
      "Hit:2 http://ppa.launchpad.net/cran/libgit2/ubuntu bionic InRelease\n",
      "Hit:3 https://cloud.r-project.org/bin/linux/ubuntu bionic-cran40/ InRelease\n",
      "Hit:4 http://ppa.launchpad.net/deadsnakes/ppa/ubuntu bionic InRelease\n",
      "Hit:5 http://ppa.launchpad.net/graphics-drivers/ppa/ubuntu bionic InRelease\n",
      "Hit:6 http://archive.ubuntu.com/ubuntu bionic InRelease\n",
      "Hit:7 http://security.ubuntu.com/ubuntu bionic-security InRelease\n",
      "Hit:8 http://archive.ubuntu.com/ubuntu bionic-updates InRelease\n",
      "Hit:9 http://archive.ubuntu.com/ubuntu bionic-backports InRelease\n",
      "Ign:10 https://developer.download.nvidia.com/compute/machine-learning/repos/ubuntu1804/x86_64  InRelease\n",
      "Hit:11 https://developer.download.nvidia.com/compute/cuda/repos/ubuntu1804/x86_64  InRelease\n",
      "Hit:12 https://developer.download.nvidia.com/compute/machine-learning/repos/ubuntu1804/x86_64  Release\n",
      "Reading package lists...\n",
      "Reading package lists...\n",
      "Building dependency tree...\n",
      "Reading state information...\n",
      "chromium-chromedriver is already the newest version (105.0.5195.102-0ubuntu0.18.04.1).\n",
      "The following package was automatically installed and is no longer required:\n",
      "  libnvidia-common-460\n",
      "Use 'apt autoremove' to remove it.\n",
      "0 upgraded, 0 newly installed, 0 to remove and 56 not upgraded.\n"
     ]
    }
   ],
   "source": [
    "# Install chromedriver for selenium web scraping\n",
    "!apt-get update --quiet\n",
    "!apt install chromium-chromedriver --quiet"
   ]
  },
  {
   "cell_type": "code",
   "execution_count": 4,
   "metadata": {
    "executionInfo": {
     "elapsed": 1793,
     "status": "ok",
     "timestamp": 1663262198079,
     "user": {
      "displayName": "Srinath Nanduri",
      "userId": "16683609937496845667"
     },
     "user_tz": 420
    },
    "id": "BK4PvGW2malV"
   },
   "outputs": [],
   "source": [
    "# Import all of the libraries to be used in the project\n",
    "import os\n",
    "import matplotlib\n",
    "import opendatasets as od\n",
    "import numpy as np\n",
    "import pandas as pd\n",
    "import matplotlib.pyplot as plt\n",
    "import seaborn as sns\n",
    "from selenium import webdriver\n",
    "from selenium.webdriver.common.by import By\n",
    "import time\n",
    "import psutil\n",
    "from sklearn.impute import SimpleImputer\n",
    "from sklearn.preprocessing import MinMaxScaler\n",
    "from sklearn.preprocessing import LabelEncoder\n",
    "from sklearn.model_selection import RandomizedSearchCV\n",
    "from sklearn.linear_model import LogisticRegression\n",
    "from sklearn.svm import SVC\n",
    "from sklearn.tree import DecisionTreeClassifier\n",
    "from sklearn.ensemble import RandomForestClassifier\n",
    "from sklearn.metrics import accuracy_score\n",
    "from sklearn.metrics import confusion_matrix\n",
    "import xgboost as xgb\n",
    "import re\n",
    "%matplotlib inline\n",
    "\n",
    "# Set options for matplotlib, pandas and chromedriver\n",
    "matplotlib.rcParams['font.size'] = 14\n",
    "matplotlib.rcParams['figure.figsize'] = (10, 6)\n",
    "matplotlib.rcParams['figure.facecolor'] = '#00000000'\n",
    "pd.options.display.max_columns = 100\n",
    "pd.options.display.max_rows = 50\n",
    "chrome_options = webdriver.ChromeOptions()\n",
    "chrome_options.add_argument('--headless')\n",
    "chrome_options.add_argument('--no-sandbox')\n",
    "chrome_options.add_argument('--disable-dev-shm-usage')\n",
    "driver = webdriver.Chrome('chromedriver', options=chrome_options)"
   ]
  },
  {
   "cell_type": "code",
   "execution_count": 5,
   "metadata": {
    "colab": {
     "base_uri": "https://localhost:8080/",
     "height": 88
    },
    "executionInfo": {
     "elapsed": 2743,
     "status": "ok",
     "timestamp": 1663262200818,
     "user": {
      "displayName": "Srinath Nanduri",
      "userId": "16683609937496845667"
     },
     "user_tz": 420
    },
    "id": "IWSClBcZr-yI",
    "outputId": "2f91bb85-1830-4452-c849-79758485c358"
   },
   "outputs": [
    {
     "name": "stdout",
     "output_type": "stream",
     "text": [
      "[jovian] Detected Colab notebook...\u001b[0m\n",
      "[jovian] Uploading colab notebook to Jovian...\u001b[0m\n",
      "Committed successfully! https://jovian.ai/nsrinath97/airplane-delay-prediction-machine-learning-project\n"
     ]
    },
    {
     "data": {
      "application/vnd.google.colaboratory.intrinsic+json": {
       "type": "string"
      },
      "text/plain": [
       "'https://jovian.ai/nsrinath97/airplane-delay-prediction-machine-learning-project'"
      ]
     },
     "execution_count": 5,
     "metadata": {},
     "output_type": "execute_result"
    }
   ],
   "source": [
    "# Save the project\n",
    "jovian.commit()"
   ]
  },
  {
   "cell_type": "markdown",
   "metadata": {
    "id": "BPdVFAqSv0gL"
   },
   "source": [
    "# 2. Download the Dataset\n",
    "\n",
    "## Section Outline\n",
    "\n",
    "- Download the dataset from kaggle using opendatasets\n",
    "- Create the dataframe using pandas to read the downloaded csv file\n",
    "- Show information about the raw data "
   ]
  },
  {
   "cell_type": "code",
   "execution_count": 6,
   "metadata": {
    "colab": {
     "base_uri": "https://localhost:8080/"
    },
    "executionInfo": {
     "elapsed": 10,
     "status": "ok",
     "timestamp": 1663262200818,
     "user": {
      "displayName": "Srinath Nanduri",
      "userId": "16683609937496845667"
     },
     "user_tz": 420
    },
    "id": "lizEwDD0meod",
    "outputId": "cfbc7f96-6201-4ec1-9f98-dd0d91ea0c6b"
   },
   "outputs": [
    {
     "name": "stdout",
     "output_type": "stream",
     "text": [
      "Skipping, found downloaded files in \"./airlinedelaycauses\" (use force=True to force download)\n"
     ]
    }
   ],
   "source": [
    "# Download the required dataset with opendatasets\n",
    "od.download('https://www.kaggle.com/datasets/giovamata/airlinedelaycauses')"
   ]
  },
  {
   "cell_type": "code",
   "execution_count": 7,
   "metadata": {
    "colab": {
     "base_uri": "https://localhost:8080/"
    },
    "executionInfo": {
     "elapsed": 7,
     "status": "ok",
     "timestamp": 1663262200818,
     "user": {
      "displayName": "Srinath Nanduri",
      "userId": "16683609937496845667"
     },
     "user_tz": 420
    },
    "id": "KfTdBPjKCO9R",
    "outputId": "55030726-13f2-41da-8616-72709f41f3b1"
   },
   "outputs": [
    {
     "name": "stdout",
     "output_type": "stream",
     "text": [
      "Skipping, found downloaded files in \"./weather-data-for-265-airports-in-the-united-states\" (use force=True to force download)\n"
     ]
    }
   ],
   "source": [
    "# Supplementary dataset to be used later in the project\n",
    "od.download('https://www.kaggle.com/datasets/srinathnanduri97/weather-data-for-265-airports-in-the-united-states')"
   ]
  },
  {
   "cell_type": "code",
   "execution_count": 8,
   "metadata": {
    "colab": {
     "base_uri": "https://localhost:8080/",
     "height": 505
    },
    "executionInfo": {
     "elapsed": 10021,
     "status": "ok",
     "timestamp": 1663262210834,
     "user": {
      "displayName": "Srinath Nanduri",
      "userId": "16683609937496845667"
     },
     "user_tz": 420
    },
    "id": "q3kE4fL1oZO8",
    "outputId": "41ff26b0-7751-4d60-9267-32f62703ef33"
   },
   "outputs": [
    {
     "data": {
      "text/html": [
       "\n",
       "  <div id=\"df-5de23e8a-caae-4925-9022-27dc1435c889\">\n",
       "    <div class=\"colab-df-container\">\n",
       "      <div>\n",
       "<style scoped>\n",
       "    .dataframe tbody tr th:only-of-type {\n",
       "        vertical-align: middle;\n",
       "    }\n",
       "\n",
       "    .dataframe tbody tr th {\n",
       "        vertical-align: top;\n",
       "    }\n",
       "\n",
       "    .dataframe thead th {\n",
       "        text-align: right;\n",
       "    }\n",
       "</style>\n",
       "<table border=\"1\" class=\"dataframe\">\n",
       "  <thead>\n",
       "    <tr style=\"text-align: right;\">\n",
       "      <th></th>\n",
       "      <th>Unnamed: 0</th>\n",
       "      <th>Year</th>\n",
       "      <th>Month</th>\n",
       "      <th>DayofMonth</th>\n",
       "      <th>DayOfWeek</th>\n",
       "      <th>DepTime</th>\n",
       "      <th>CRSDepTime</th>\n",
       "      <th>ArrTime</th>\n",
       "      <th>CRSArrTime</th>\n",
       "      <th>UniqueCarrier</th>\n",
       "      <th>FlightNum</th>\n",
       "      <th>TailNum</th>\n",
       "      <th>ActualElapsedTime</th>\n",
       "      <th>CRSElapsedTime</th>\n",
       "      <th>AirTime</th>\n",
       "      <th>ArrDelay</th>\n",
       "      <th>DepDelay</th>\n",
       "      <th>Origin</th>\n",
       "      <th>Dest</th>\n",
       "      <th>Distance</th>\n",
       "      <th>TaxiIn</th>\n",
       "      <th>TaxiOut</th>\n",
       "      <th>Cancelled</th>\n",
       "      <th>CancellationCode</th>\n",
       "      <th>Diverted</th>\n",
       "      <th>CarrierDelay</th>\n",
       "      <th>WeatherDelay</th>\n",
       "      <th>NASDelay</th>\n",
       "      <th>SecurityDelay</th>\n",
       "      <th>LateAircraftDelay</th>\n",
       "    </tr>\n",
       "  </thead>\n",
       "  <tbody>\n",
       "    <tr>\n",
       "      <th>0</th>\n",
       "      <td>0</td>\n",
       "      <td>2008</td>\n",
       "      <td>1</td>\n",
       "      <td>3</td>\n",
       "      <td>4</td>\n",
       "      <td>2003.0</td>\n",
       "      <td>1955</td>\n",
       "      <td>2211.0</td>\n",
       "      <td>2225</td>\n",
       "      <td>WN</td>\n",
       "      <td>335</td>\n",
       "      <td>N712SW</td>\n",
       "      <td>128.0</td>\n",
       "      <td>150.0</td>\n",
       "      <td>116.0</td>\n",
       "      <td>-14.0</td>\n",
       "      <td>8.0</td>\n",
       "      <td>IAD</td>\n",
       "      <td>TPA</td>\n",
       "      <td>810</td>\n",
       "      <td>4.0</td>\n",
       "      <td>8.0</td>\n",
       "      <td>0</td>\n",
       "      <td>N</td>\n",
       "      <td>0</td>\n",
       "      <td>NaN</td>\n",
       "      <td>NaN</td>\n",
       "      <td>NaN</td>\n",
       "      <td>NaN</td>\n",
       "      <td>NaN</td>\n",
       "    </tr>\n",
       "    <tr>\n",
       "      <th>1</th>\n",
       "      <td>1</td>\n",
       "      <td>2008</td>\n",
       "      <td>1</td>\n",
       "      <td>3</td>\n",
       "      <td>4</td>\n",
       "      <td>754.0</td>\n",
       "      <td>735</td>\n",
       "      <td>1002.0</td>\n",
       "      <td>1000</td>\n",
       "      <td>WN</td>\n",
       "      <td>3231</td>\n",
       "      <td>N772SW</td>\n",
       "      <td>128.0</td>\n",
       "      <td>145.0</td>\n",
       "      <td>113.0</td>\n",
       "      <td>2.0</td>\n",
       "      <td>19.0</td>\n",
       "      <td>IAD</td>\n",
       "      <td>TPA</td>\n",
       "      <td>810</td>\n",
       "      <td>5.0</td>\n",
       "      <td>10.0</td>\n",
       "      <td>0</td>\n",
       "      <td>N</td>\n",
       "      <td>0</td>\n",
       "      <td>NaN</td>\n",
       "      <td>NaN</td>\n",
       "      <td>NaN</td>\n",
       "      <td>NaN</td>\n",
       "      <td>NaN</td>\n",
       "    </tr>\n",
       "    <tr>\n",
       "      <th>2</th>\n",
       "      <td>2</td>\n",
       "      <td>2008</td>\n",
       "      <td>1</td>\n",
       "      <td>3</td>\n",
       "      <td>4</td>\n",
       "      <td>628.0</td>\n",
       "      <td>620</td>\n",
       "      <td>804.0</td>\n",
       "      <td>750</td>\n",
       "      <td>WN</td>\n",
       "      <td>448</td>\n",
       "      <td>N428WN</td>\n",
       "      <td>96.0</td>\n",
       "      <td>90.0</td>\n",
       "      <td>76.0</td>\n",
       "      <td>14.0</td>\n",
       "      <td>8.0</td>\n",
       "      <td>IND</td>\n",
       "      <td>BWI</td>\n",
       "      <td>515</td>\n",
       "      <td>3.0</td>\n",
       "      <td>17.0</td>\n",
       "      <td>0</td>\n",
       "      <td>N</td>\n",
       "      <td>0</td>\n",
       "      <td>NaN</td>\n",
       "      <td>NaN</td>\n",
       "      <td>NaN</td>\n",
       "      <td>NaN</td>\n",
       "      <td>NaN</td>\n",
       "    </tr>\n",
       "    <tr>\n",
       "      <th>3</th>\n",
       "      <td>4</td>\n",
       "      <td>2008</td>\n",
       "      <td>1</td>\n",
       "      <td>3</td>\n",
       "      <td>4</td>\n",
       "      <td>1829.0</td>\n",
       "      <td>1755</td>\n",
       "      <td>1959.0</td>\n",
       "      <td>1925</td>\n",
       "      <td>WN</td>\n",
       "      <td>3920</td>\n",
       "      <td>N464WN</td>\n",
       "      <td>90.0</td>\n",
       "      <td>90.0</td>\n",
       "      <td>77.0</td>\n",
       "      <td>34.0</td>\n",
       "      <td>34.0</td>\n",
       "      <td>IND</td>\n",
       "      <td>BWI</td>\n",
       "      <td>515</td>\n",
       "      <td>3.0</td>\n",
       "      <td>10.0</td>\n",
       "      <td>0</td>\n",
       "      <td>N</td>\n",
       "      <td>0</td>\n",
       "      <td>2.0</td>\n",
       "      <td>0.0</td>\n",
       "      <td>0.0</td>\n",
       "      <td>0.0</td>\n",
       "      <td>32.0</td>\n",
       "    </tr>\n",
       "    <tr>\n",
       "      <th>4</th>\n",
       "      <td>5</td>\n",
       "      <td>2008</td>\n",
       "      <td>1</td>\n",
       "      <td>3</td>\n",
       "      <td>4</td>\n",
       "      <td>1940.0</td>\n",
       "      <td>1915</td>\n",
       "      <td>2121.0</td>\n",
       "      <td>2110</td>\n",
       "      <td>WN</td>\n",
       "      <td>378</td>\n",
       "      <td>N726SW</td>\n",
       "      <td>101.0</td>\n",
       "      <td>115.0</td>\n",
       "      <td>87.0</td>\n",
       "      <td>11.0</td>\n",
       "      <td>25.0</td>\n",
       "      <td>IND</td>\n",
       "      <td>JAX</td>\n",
       "      <td>688</td>\n",
       "      <td>4.0</td>\n",
       "      <td>10.0</td>\n",
       "      <td>0</td>\n",
       "      <td>N</td>\n",
       "      <td>0</td>\n",
       "      <td>NaN</td>\n",
       "      <td>NaN</td>\n",
       "      <td>NaN</td>\n",
       "      <td>NaN</td>\n",
       "      <td>NaN</td>\n",
       "    </tr>\n",
       "    <tr>\n",
       "      <th>...</th>\n",
       "      <td>...</td>\n",
       "      <td>...</td>\n",
       "      <td>...</td>\n",
       "      <td>...</td>\n",
       "      <td>...</td>\n",
       "      <td>...</td>\n",
       "      <td>...</td>\n",
       "      <td>...</td>\n",
       "      <td>...</td>\n",
       "      <td>...</td>\n",
       "      <td>...</td>\n",
       "      <td>...</td>\n",
       "      <td>...</td>\n",
       "      <td>...</td>\n",
       "      <td>...</td>\n",
       "      <td>...</td>\n",
       "      <td>...</td>\n",
       "      <td>...</td>\n",
       "      <td>...</td>\n",
       "      <td>...</td>\n",
       "      <td>...</td>\n",
       "      <td>...</td>\n",
       "      <td>...</td>\n",
       "      <td>...</td>\n",
       "      <td>...</td>\n",
       "      <td>...</td>\n",
       "      <td>...</td>\n",
       "      <td>...</td>\n",
       "      <td>...</td>\n",
       "      <td>...</td>\n",
       "    </tr>\n",
       "    <tr>\n",
       "      <th>1936753</th>\n",
       "      <td>7009710</td>\n",
       "      <td>2008</td>\n",
       "      <td>12</td>\n",
       "      <td>13</td>\n",
       "      <td>6</td>\n",
       "      <td>1250.0</td>\n",
       "      <td>1220</td>\n",
       "      <td>1617.0</td>\n",
       "      <td>1552</td>\n",
       "      <td>DL</td>\n",
       "      <td>1621</td>\n",
       "      <td>N938DL</td>\n",
       "      <td>147.0</td>\n",
       "      <td>152.0</td>\n",
       "      <td>120.0</td>\n",
       "      <td>25.0</td>\n",
       "      <td>30.0</td>\n",
       "      <td>MSP</td>\n",
       "      <td>ATL</td>\n",
       "      <td>906</td>\n",
       "      <td>9.0</td>\n",
       "      <td>18.0</td>\n",
       "      <td>0</td>\n",
       "      <td>N</td>\n",
       "      <td>0</td>\n",
       "      <td>3.0</td>\n",
       "      <td>0.0</td>\n",
       "      <td>0.0</td>\n",
       "      <td>0.0</td>\n",
       "      <td>22.0</td>\n",
       "    </tr>\n",
       "    <tr>\n",
       "      <th>1936754</th>\n",
       "      <td>7009717</td>\n",
       "      <td>2008</td>\n",
       "      <td>12</td>\n",
       "      <td>13</td>\n",
       "      <td>6</td>\n",
       "      <td>657.0</td>\n",
       "      <td>600</td>\n",
       "      <td>904.0</td>\n",
       "      <td>749</td>\n",
       "      <td>DL</td>\n",
       "      <td>1631</td>\n",
       "      <td>N3743H</td>\n",
       "      <td>127.0</td>\n",
       "      <td>109.0</td>\n",
       "      <td>78.0</td>\n",
       "      <td>75.0</td>\n",
       "      <td>57.0</td>\n",
       "      <td>RIC</td>\n",
       "      <td>ATL</td>\n",
       "      <td>481</td>\n",
       "      <td>15.0</td>\n",
       "      <td>34.0</td>\n",
       "      <td>0</td>\n",
       "      <td>N</td>\n",
       "      <td>0</td>\n",
       "      <td>0.0</td>\n",
       "      <td>57.0</td>\n",
       "      <td>18.0</td>\n",
       "      <td>0.0</td>\n",
       "      <td>0.0</td>\n",
       "    </tr>\n",
       "    <tr>\n",
       "      <th>1936755</th>\n",
       "      <td>7009718</td>\n",
       "      <td>2008</td>\n",
       "      <td>12</td>\n",
       "      <td>13</td>\n",
       "      <td>6</td>\n",
       "      <td>1007.0</td>\n",
       "      <td>847</td>\n",
       "      <td>1149.0</td>\n",
       "      <td>1010</td>\n",
       "      <td>DL</td>\n",
       "      <td>1631</td>\n",
       "      <td>N909DA</td>\n",
       "      <td>162.0</td>\n",
       "      <td>143.0</td>\n",
       "      <td>122.0</td>\n",
       "      <td>99.0</td>\n",
       "      <td>80.0</td>\n",
       "      <td>ATL</td>\n",
       "      <td>IAH</td>\n",
       "      <td>689</td>\n",
       "      <td>8.0</td>\n",
       "      <td>32.0</td>\n",
       "      <td>0</td>\n",
       "      <td>N</td>\n",
       "      <td>0</td>\n",
       "      <td>1.0</td>\n",
       "      <td>0.0</td>\n",
       "      <td>19.0</td>\n",
       "      <td>0.0</td>\n",
       "      <td>79.0</td>\n",
       "    </tr>\n",
       "    <tr>\n",
       "      <th>1936756</th>\n",
       "      <td>7009726</td>\n",
       "      <td>2008</td>\n",
       "      <td>12</td>\n",
       "      <td>13</td>\n",
       "      <td>6</td>\n",
       "      <td>1251.0</td>\n",
       "      <td>1240</td>\n",
       "      <td>1446.0</td>\n",
       "      <td>1437</td>\n",
       "      <td>DL</td>\n",
       "      <td>1639</td>\n",
       "      <td>N646DL</td>\n",
       "      <td>115.0</td>\n",
       "      <td>117.0</td>\n",
       "      <td>89.0</td>\n",
       "      <td>9.0</td>\n",
       "      <td>11.0</td>\n",
       "      <td>IAD</td>\n",
       "      <td>ATL</td>\n",
       "      <td>533</td>\n",
       "      <td>13.0</td>\n",
       "      <td>13.0</td>\n",
       "      <td>0</td>\n",
       "      <td>N</td>\n",
       "      <td>0</td>\n",
       "      <td>NaN</td>\n",
       "      <td>NaN</td>\n",
       "      <td>NaN</td>\n",
       "      <td>NaN</td>\n",
       "      <td>NaN</td>\n",
       "    </tr>\n",
       "    <tr>\n",
       "      <th>1936757</th>\n",
       "      <td>7009727</td>\n",
       "      <td>2008</td>\n",
       "      <td>12</td>\n",
       "      <td>13</td>\n",
       "      <td>6</td>\n",
       "      <td>1110.0</td>\n",
       "      <td>1103</td>\n",
       "      <td>1413.0</td>\n",
       "      <td>1418</td>\n",
       "      <td>DL</td>\n",
       "      <td>1641</td>\n",
       "      <td>N908DL</td>\n",
       "      <td>123.0</td>\n",
       "      <td>135.0</td>\n",
       "      <td>104.0</td>\n",
       "      <td>-5.0</td>\n",
       "      <td>7.0</td>\n",
       "      <td>SAT</td>\n",
       "      <td>ATL</td>\n",
       "      <td>874</td>\n",
       "      <td>8.0</td>\n",
       "      <td>11.0</td>\n",
       "      <td>0</td>\n",
       "      <td>N</td>\n",
       "      <td>0</td>\n",
       "      <td>NaN</td>\n",
       "      <td>NaN</td>\n",
       "      <td>NaN</td>\n",
       "      <td>NaN</td>\n",
       "      <td>NaN</td>\n",
       "    </tr>\n",
       "  </tbody>\n",
       "</table>\n",
       "<p>1936758 rows × 30 columns</p>\n",
       "</div>\n",
       "      <button class=\"colab-df-convert\" onclick=\"convertToInteractive('df-5de23e8a-caae-4925-9022-27dc1435c889')\"\n",
       "              title=\"Convert this dataframe to an interactive table.\"\n",
       "              style=\"display:none;\">\n",
       "        \n",
       "  <svg xmlns=\"http://www.w3.org/2000/svg\" height=\"24px\"viewBox=\"0 0 24 24\"\n",
       "       width=\"24px\">\n",
       "    <path d=\"M0 0h24v24H0V0z\" fill=\"none\"/>\n",
       "    <path d=\"M18.56 5.44l.94 2.06.94-2.06 2.06-.94-2.06-.94-.94-2.06-.94 2.06-2.06.94zm-11 1L8.5 8.5l.94-2.06 2.06-.94-2.06-.94L8.5 2.5l-.94 2.06-2.06.94zm10 10l.94 2.06.94-2.06 2.06-.94-2.06-.94-.94-2.06-.94 2.06-2.06.94z\"/><path d=\"M17.41 7.96l-1.37-1.37c-.4-.4-.92-.59-1.43-.59-.52 0-1.04.2-1.43.59L10.3 9.45l-7.72 7.72c-.78.78-.78 2.05 0 2.83L4 21.41c.39.39.9.59 1.41.59.51 0 1.02-.2 1.41-.59l7.78-7.78 2.81-2.81c.8-.78.8-2.07 0-2.86zM5.41 20L4 18.59l7.72-7.72 1.47 1.35L5.41 20z\"/>\n",
       "  </svg>\n",
       "      </button>\n",
       "      \n",
       "  <style>\n",
       "    .colab-df-container {\n",
       "      display:flex;\n",
       "      flex-wrap:wrap;\n",
       "      gap: 12px;\n",
       "    }\n",
       "\n",
       "    .colab-df-convert {\n",
       "      background-color: #E8F0FE;\n",
       "      border: none;\n",
       "      border-radius: 50%;\n",
       "      cursor: pointer;\n",
       "      display: none;\n",
       "      fill: #1967D2;\n",
       "      height: 32px;\n",
       "      padding: 0 0 0 0;\n",
       "      width: 32px;\n",
       "    }\n",
       "\n",
       "    .colab-df-convert:hover {\n",
       "      background-color: #E2EBFA;\n",
       "      box-shadow: 0px 1px 2px rgba(60, 64, 67, 0.3), 0px 1px 3px 1px rgba(60, 64, 67, 0.15);\n",
       "      fill: #174EA6;\n",
       "    }\n",
       "\n",
       "    [theme=dark] .colab-df-convert {\n",
       "      background-color: #3B4455;\n",
       "      fill: #D2E3FC;\n",
       "    }\n",
       "\n",
       "    [theme=dark] .colab-df-convert:hover {\n",
       "      background-color: #434B5C;\n",
       "      box-shadow: 0px 1px 3px 1px rgba(0, 0, 0, 0.15);\n",
       "      filter: drop-shadow(0px 1px 2px rgba(0, 0, 0, 0.3));\n",
       "      fill: #FFFFFF;\n",
       "    }\n",
       "  </style>\n",
       "\n",
       "      <script>\n",
       "        const buttonEl =\n",
       "          document.querySelector('#df-5de23e8a-caae-4925-9022-27dc1435c889 button.colab-df-convert');\n",
       "        buttonEl.style.display =\n",
       "          google.colab.kernel.accessAllowed ? 'block' : 'none';\n",
       "\n",
       "        async function convertToInteractive(key) {\n",
       "          const element = document.querySelector('#df-5de23e8a-caae-4925-9022-27dc1435c889');\n",
       "          const dataTable =\n",
       "            await google.colab.kernel.invokeFunction('convertToInteractive',\n",
       "                                                     [key], {});\n",
       "          if (!dataTable) return;\n",
       "\n",
       "          const docLinkHtml = 'Like what you see? Visit the ' +\n",
       "            '<a target=\"_blank\" href=https://colab.research.google.com/notebooks/data_table.ipynb>data table notebook</a>'\n",
       "            + ' to learn more about interactive tables.';\n",
       "          element.innerHTML = '';\n",
       "          dataTable['output_type'] = 'display_data';\n",
       "          await google.colab.output.renderOutput(dataTable, element);\n",
       "          const docLink = document.createElement('div');\n",
       "          docLink.innerHTML = docLinkHtml;\n",
       "          element.appendChild(docLink);\n",
       "        }\n",
       "      </script>\n",
       "    </div>\n",
       "  </div>\n",
       "  "
      ],
      "text/plain": [
       "         Unnamed: 0  Year  Month  DayofMonth  DayOfWeek  DepTime  CRSDepTime  \\\n",
       "0                 0  2008      1           3          4   2003.0        1955   \n",
       "1                 1  2008      1           3          4    754.0         735   \n",
       "2                 2  2008      1           3          4    628.0         620   \n",
       "3                 4  2008      1           3          4   1829.0        1755   \n",
       "4                 5  2008      1           3          4   1940.0        1915   \n",
       "...             ...   ...    ...         ...        ...      ...         ...   \n",
       "1936753     7009710  2008     12          13          6   1250.0        1220   \n",
       "1936754     7009717  2008     12          13          6    657.0         600   \n",
       "1936755     7009718  2008     12          13          6   1007.0         847   \n",
       "1936756     7009726  2008     12          13          6   1251.0        1240   \n",
       "1936757     7009727  2008     12          13          6   1110.0        1103   \n",
       "\n",
       "         ArrTime  CRSArrTime UniqueCarrier  FlightNum TailNum  \\\n",
       "0         2211.0        2225            WN        335  N712SW   \n",
       "1         1002.0        1000            WN       3231  N772SW   \n",
       "2          804.0         750            WN        448  N428WN   \n",
       "3         1959.0        1925            WN       3920  N464WN   \n",
       "4         2121.0        2110            WN        378  N726SW   \n",
       "...          ...         ...           ...        ...     ...   \n",
       "1936753   1617.0        1552            DL       1621  N938DL   \n",
       "1936754    904.0         749            DL       1631  N3743H   \n",
       "1936755   1149.0        1010            DL       1631  N909DA   \n",
       "1936756   1446.0        1437            DL       1639  N646DL   \n",
       "1936757   1413.0        1418            DL       1641  N908DL   \n",
       "\n",
       "         ActualElapsedTime  CRSElapsedTime  AirTime  ArrDelay  DepDelay  \\\n",
       "0                    128.0           150.0    116.0     -14.0       8.0   \n",
       "1                    128.0           145.0    113.0       2.0      19.0   \n",
       "2                     96.0            90.0     76.0      14.0       8.0   \n",
       "3                     90.0            90.0     77.0      34.0      34.0   \n",
       "4                    101.0           115.0     87.0      11.0      25.0   \n",
       "...                    ...             ...      ...       ...       ...   \n",
       "1936753              147.0           152.0    120.0      25.0      30.0   \n",
       "1936754              127.0           109.0     78.0      75.0      57.0   \n",
       "1936755              162.0           143.0    122.0      99.0      80.0   \n",
       "1936756              115.0           117.0     89.0       9.0      11.0   \n",
       "1936757              123.0           135.0    104.0      -5.0       7.0   \n",
       "\n",
       "        Origin Dest  Distance  TaxiIn  TaxiOut  Cancelled CancellationCode  \\\n",
       "0          IAD  TPA       810     4.0      8.0          0                N   \n",
       "1          IAD  TPA       810     5.0     10.0          0                N   \n",
       "2          IND  BWI       515     3.0     17.0          0                N   \n",
       "3          IND  BWI       515     3.0     10.0          0                N   \n",
       "4          IND  JAX       688     4.0     10.0          0                N   \n",
       "...        ...  ...       ...     ...      ...        ...              ...   \n",
       "1936753    MSP  ATL       906     9.0     18.0          0                N   \n",
       "1936754    RIC  ATL       481    15.0     34.0          0                N   \n",
       "1936755    ATL  IAH       689     8.0     32.0          0                N   \n",
       "1936756    IAD  ATL       533    13.0     13.0          0                N   \n",
       "1936757    SAT  ATL       874     8.0     11.0          0                N   \n",
       "\n",
       "         Diverted  CarrierDelay  WeatherDelay  NASDelay  SecurityDelay  \\\n",
       "0               0           NaN           NaN       NaN            NaN   \n",
       "1               0           NaN           NaN       NaN            NaN   \n",
       "2               0           NaN           NaN       NaN            NaN   \n",
       "3               0           2.0           0.0       0.0            0.0   \n",
       "4               0           NaN           NaN       NaN            NaN   \n",
       "...           ...           ...           ...       ...            ...   \n",
       "1936753         0           3.0           0.0       0.0            0.0   \n",
       "1936754         0           0.0          57.0      18.0            0.0   \n",
       "1936755         0           1.0           0.0      19.0            0.0   \n",
       "1936756         0           NaN           NaN       NaN            NaN   \n",
       "1936757         0           NaN           NaN       NaN            NaN   \n",
       "\n",
       "         LateAircraftDelay  \n",
       "0                      NaN  \n",
       "1                      NaN  \n",
       "2                      NaN  \n",
       "3                     32.0  \n",
       "4                      NaN  \n",
       "...                    ...  \n",
       "1936753               22.0  \n",
       "1936754                0.0  \n",
       "1936755               79.0  \n",
       "1936756                NaN  \n",
       "1936757                NaN  \n",
       "\n",
       "[1936758 rows x 30 columns]"
      ]
     },
     "execution_count": 8,
     "metadata": {},
     "output_type": "execute_result"
    }
   ],
   "source": [
    "# Create DataFrame\n",
    "airline_df = pd.read_csv('./airlinedelaycauses/DelayedFlights.csv')\n",
    "airline_df"
   ]
  },
  {
   "cell_type": "code",
   "execution_count": 9,
   "metadata": {
    "colab": {
     "base_uri": "https://localhost:8080/"
    },
    "executionInfo": {
     "elapsed": 4,
     "status": "ok",
     "timestamp": 1663262210835,
     "user": {
      "displayName": "Srinath Nanduri",
      "userId": "16683609937496845667"
     },
     "user_tz": 420
    },
    "id": "GyYjJE_maTWQ",
    "outputId": "f3b128de-7d43-4382-91a1-f6056436ec93"
   },
   "outputs": [
    {
     "name": "stdout",
     "output_type": "stream",
     "text": [
      "<class 'pandas.core.frame.DataFrame'>\n",
      "RangeIndex: 1936758 entries, 0 to 1936757\n",
      "Data columns (total 30 columns):\n",
      " #   Column             Dtype  \n",
      "---  ------             -----  \n",
      " 0   Unnamed: 0         int64  \n",
      " 1   Year               int64  \n",
      " 2   Month              int64  \n",
      " 3   DayofMonth         int64  \n",
      " 4   DayOfWeek          int64  \n",
      " 5   DepTime            float64\n",
      " 6   CRSDepTime         int64  \n",
      " 7   ArrTime            float64\n",
      " 8   CRSArrTime         int64  \n",
      " 9   UniqueCarrier      object \n",
      " 10  FlightNum          int64  \n",
      " 11  TailNum            object \n",
      " 12  ActualElapsedTime  float64\n",
      " 13  CRSElapsedTime     float64\n",
      " 14  AirTime            float64\n",
      " 15  ArrDelay           float64\n",
      " 16  DepDelay           float64\n",
      " 17  Origin             object \n",
      " 18  Dest               object \n",
      " 19  Distance           int64  \n",
      " 20  TaxiIn             float64\n",
      " 21  TaxiOut            float64\n",
      " 22  Cancelled          int64  \n",
      " 23  CancellationCode   object \n",
      " 24  Diverted           int64  \n",
      " 25  CarrierDelay       float64\n",
      " 26  WeatherDelay       float64\n",
      " 27  NASDelay           float64\n",
      " 28  SecurityDelay      float64\n",
      " 29  LateAircraftDelay  float64\n",
      "dtypes: float64(14), int64(11), object(5)\n",
      "memory usage: 443.3+ MB\n"
     ]
    }
   ],
   "source": [
    "airline_df.info()"
   ]
  },
  {
   "cell_type": "code",
   "execution_count": 10,
   "metadata": {
    "colab": {
     "base_uri": "https://localhost:8080/",
     "height": 382
    },
    "executionInfo": {
     "elapsed": 3363,
     "status": "ok",
     "timestamp": 1663262214196,
     "user": {
      "displayName": "Srinath Nanduri",
      "userId": "16683609937496845667"
     },
     "user_tz": 420
    },
    "id": "TDaYg5vGaVDa",
    "outputId": "dca17ce2-ca3e-4778-ecf4-c6e3596dbe8d"
   },
   "outputs": [
    {
     "data": {
      "text/html": [
       "\n",
       "  <div id=\"df-e4dba4d7-2040-4b21-889e-34af2c69fcd0\">\n",
       "    <div class=\"colab-df-container\">\n",
       "      <div>\n",
       "<style scoped>\n",
       "    .dataframe tbody tr th:only-of-type {\n",
       "        vertical-align: middle;\n",
       "    }\n",
       "\n",
       "    .dataframe tbody tr th {\n",
       "        vertical-align: top;\n",
       "    }\n",
       "\n",
       "    .dataframe thead th {\n",
       "        text-align: right;\n",
       "    }\n",
       "</style>\n",
       "<table border=\"1\" class=\"dataframe\">\n",
       "  <thead>\n",
       "    <tr style=\"text-align: right;\">\n",
       "      <th></th>\n",
       "      <th>Unnamed: 0</th>\n",
       "      <th>Year</th>\n",
       "      <th>Month</th>\n",
       "      <th>DayofMonth</th>\n",
       "      <th>DayOfWeek</th>\n",
       "      <th>DepTime</th>\n",
       "      <th>CRSDepTime</th>\n",
       "      <th>ArrTime</th>\n",
       "      <th>CRSArrTime</th>\n",
       "      <th>FlightNum</th>\n",
       "      <th>ActualElapsedTime</th>\n",
       "      <th>CRSElapsedTime</th>\n",
       "      <th>AirTime</th>\n",
       "      <th>ArrDelay</th>\n",
       "      <th>DepDelay</th>\n",
       "      <th>Distance</th>\n",
       "      <th>TaxiIn</th>\n",
       "      <th>TaxiOut</th>\n",
       "      <th>Cancelled</th>\n",
       "      <th>Diverted</th>\n",
       "      <th>CarrierDelay</th>\n",
       "      <th>WeatherDelay</th>\n",
       "      <th>NASDelay</th>\n",
       "      <th>SecurityDelay</th>\n",
       "      <th>LateAircraftDelay</th>\n",
       "    </tr>\n",
       "  </thead>\n",
       "  <tbody>\n",
       "    <tr>\n",
       "      <th>count</th>\n",
       "      <td>1936758.00</td>\n",
       "      <td>1936758.0</td>\n",
       "      <td>1936758.00</td>\n",
       "      <td>1936758.00</td>\n",
       "      <td>1936758.00</td>\n",
       "      <td>1936758.00</td>\n",
       "      <td>1936758.00</td>\n",
       "      <td>1929648.00</td>\n",
       "      <td>1936758.00</td>\n",
       "      <td>1936758.00</td>\n",
       "      <td>1928371.00</td>\n",
       "      <td>1936560.00</td>\n",
       "      <td>1928371.00</td>\n",
       "      <td>1928371.00</td>\n",
       "      <td>1936758.00</td>\n",
       "      <td>1936758.00</td>\n",
       "      <td>1929648.00</td>\n",
       "      <td>1936303.00</td>\n",
       "      <td>1936758.00</td>\n",
       "      <td>1936758.00</td>\n",
       "      <td>1247488.00</td>\n",
       "      <td>1247488.00</td>\n",
       "      <td>1247488.00</td>\n",
       "      <td>1247488.00</td>\n",
       "      <td>1247488.00</td>\n",
       "    </tr>\n",
       "    <tr>\n",
       "      <th>mean</th>\n",
       "      <td>3341651.15</td>\n",
       "      <td>2008.0</td>\n",
       "      <td>6.11</td>\n",
       "      <td>15.75</td>\n",
       "      <td>3.98</td>\n",
       "      <td>1518.53</td>\n",
       "      <td>1467.47</td>\n",
       "      <td>1610.14</td>\n",
       "      <td>1634.22</td>\n",
       "      <td>2184.26</td>\n",
       "      <td>133.31</td>\n",
       "      <td>134.30</td>\n",
       "      <td>108.28</td>\n",
       "      <td>42.20</td>\n",
       "      <td>43.19</td>\n",
       "      <td>765.69</td>\n",
       "      <td>6.81</td>\n",
       "      <td>18.23</td>\n",
       "      <td>0.00</td>\n",
       "      <td>0.00</td>\n",
       "      <td>19.18</td>\n",
       "      <td>3.70</td>\n",
       "      <td>15.02</td>\n",
       "      <td>0.09</td>\n",
       "      <td>25.30</td>\n",
       "    </tr>\n",
       "    <tr>\n",
       "      <th>std</th>\n",
       "      <td>2066064.96</td>\n",
       "      <td>0.0</td>\n",
       "      <td>3.48</td>\n",
       "      <td>8.78</td>\n",
       "      <td>2.00</td>\n",
       "      <td>450.49</td>\n",
       "      <td>424.77</td>\n",
       "      <td>548.18</td>\n",
       "      <td>464.63</td>\n",
       "      <td>1944.70</td>\n",
       "      <td>72.06</td>\n",
       "      <td>71.34</td>\n",
       "      <td>68.64</td>\n",
       "      <td>56.78</td>\n",
       "      <td>53.40</td>\n",
       "      <td>574.48</td>\n",
       "      <td>5.27</td>\n",
       "      <td>14.34</td>\n",
       "      <td>0.02</td>\n",
       "      <td>0.06</td>\n",
       "      <td>43.55</td>\n",
       "      <td>21.49</td>\n",
       "      <td>33.83</td>\n",
       "      <td>2.02</td>\n",
       "      <td>42.05</td>\n",
       "    </tr>\n",
       "    <tr>\n",
       "      <th>min</th>\n",
       "      <td>0.00</td>\n",
       "      <td>2008.0</td>\n",
       "      <td>1.00</td>\n",
       "      <td>1.00</td>\n",
       "      <td>1.00</td>\n",
       "      <td>1.00</td>\n",
       "      <td>0.00</td>\n",
       "      <td>1.00</td>\n",
       "      <td>0.00</td>\n",
       "      <td>1.00</td>\n",
       "      <td>14.00</td>\n",
       "      <td>-25.00</td>\n",
       "      <td>0.00</td>\n",
       "      <td>-109.00</td>\n",
       "      <td>6.00</td>\n",
       "      <td>11.00</td>\n",
       "      <td>0.00</td>\n",
       "      <td>0.00</td>\n",
       "      <td>0.00</td>\n",
       "      <td>0.00</td>\n",
       "      <td>0.00</td>\n",
       "      <td>0.00</td>\n",
       "      <td>0.00</td>\n",
       "      <td>0.00</td>\n",
       "      <td>0.00</td>\n",
       "    </tr>\n",
       "    <tr>\n",
       "      <th>25%</th>\n",
       "      <td>1517452.50</td>\n",
       "      <td>2008.0</td>\n",
       "      <td>3.00</td>\n",
       "      <td>8.00</td>\n",
       "      <td>2.00</td>\n",
       "      <td>1203.00</td>\n",
       "      <td>1135.00</td>\n",
       "      <td>1316.00</td>\n",
       "      <td>1325.00</td>\n",
       "      <td>610.00</td>\n",
       "      <td>80.00</td>\n",
       "      <td>82.00</td>\n",
       "      <td>58.00</td>\n",
       "      <td>9.00</td>\n",
       "      <td>12.00</td>\n",
       "      <td>338.00</td>\n",
       "      <td>4.00</td>\n",
       "      <td>10.00</td>\n",
       "      <td>0.00</td>\n",
       "      <td>0.00</td>\n",
       "      <td>0.00</td>\n",
       "      <td>0.00</td>\n",
       "      <td>0.00</td>\n",
       "      <td>0.00</td>\n",
       "      <td>0.00</td>\n",
       "    </tr>\n",
       "    <tr>\n",
       "      <th>50%</th>\n",
       "      <td>3242558.00</td>\n",
       "      <td>2008.0</td>\n",
       "      <td>6.00</td>\n",
       "      <td>16.00</td>\n",
       "      <td>4.00</td>\n",
       "      <td>1545.00</td>\n",
       "      <td>1510.00</td>\n",
       "      <td>1715.00</td>\n",
       "      <td>1705.00</td>\n",
       "      <td>1543.00</td>\n",
       "      <td>116.00</td>\n",
       "      <td>116.00</td>\n",
       "      <td>90.00</td>\n",
       "      <td>24.00</td>\n",
       "      <td>24.00</td>\n",
       "      <td>606.00</td>\n",
       "      <td>6.00</td>\n",
       "      <td>14.00</td>\n",
       "      <td>0.00</td>\n",
       "      <td>0.00</td>\n",
       "      <td>2.00</td>\n",
       "      <td>0.00</td>\n",
       "      <td>2.00</td>\n",
       "      <td>0.00</td>\n",
       "      <td>8.00</td>\n",
       "    </tr>\n",
       "    <tr>\n",
       "      <th>75%</th>\n",
       "      <td>4972466.75</td>\n",
       "      <td>2008.0</td>\n",
       "      <td>9.00</td>\n",
       "      <td>23.00</td>\n",
       "      <td>6.00</td>\n",
       "      <td>1900.00</td>\n",
       "      <td>1815.00</td>\n",
       "      <td>2030.00</td>\n",
       "      <td>2014.00</td>\n",
       "      <td>3422.00</td>\n",
       "      <td>165.00</td>\n",
       "      <td>165.00</td>\n",
       "      <td>137.00</td>\n",
       "      <td>56.00</td>\n",
       "      <td>53.00</td>\n",
       "      <td>998.00</td>\n",
       "      <td>8.00</td>\n",
       "      <td>21.00</td>\n",
       "      <td>0.00</td>\n",
       "      <td>0.00</td>\n",
       "      <td>21.00</td>\n",
       "      <td>0.00</td>\n",
       "      <td>15.00</td>\n",
       "      <td>0.00</td>\n",
       "      <td>33.00</td>\n",
       "    </tr>\n",
       "    <tr>\n",
       "      <th>max</th>\n",
       "      <td>7009727.00</td>\n",
       "      <td>2008.0</td>\n",
       "      <td>12.00</td>\n",
       "      <td>31.00</td>\n",
       "      <td>7.00</td>\n",
       "      <td>2400.00</td>\n",
       "      <td>2359.00</td>\n",
       "      <td>2400.00</td>\n",
       "      <td>2400.00</td>\n",
       "      <td>9742.00</td>\n",
       "      <td>1114.00</td>\n",
       "      <td>660.00</td>\n",
       "      <td>1091.00</td>\n",
       "      <td>2461.00</td>\n",
       "      <td>2467.00</td>\n",
       "      <td>4962.00</td>\n",
       "      <td>240.00</td>\n",
       "      <td>422.00</td>\n",
       "      <td>1.00</td>\n",
       "      <td>1.00</td>\n",
       "      <td>2436.00</td>\n",
       "      <td>1352.00</td>\n",
       "      <td>1357.00</td>\n",
       "      <td>392.00</td>\n",
       "      <td>1316.00</td>\n",
       "    </tr>\n",
       "  </tbody>\n",
       "</table>\n",
       "</div>\n",
       "      <button class=\"colab-df-convert\" onclick=\"convertToInteractive('df-e4dba4d7-2040-4b21-889e-34af2c69fcd0')\"\n",
       "              title=\"Convert this dataframe to an interactive table.\"\n",
       "              style=\"display:none;\">\n",
       "        \n",
       "  <svg xmlns=\"http://www.w3.org/2000/svg\" height=\"24px\"viewBox=\"0 0 24 24\"\n",
       "       width=\"24px\">\n",
       "    <path d=\"M0 0h24v24H0V0z\" fill=\"none\"/>\n",
       "    <path d=\"M18.56 5.44l.94 2.06.94-2.06 2.06-.94-2.06-.94-.94-2.06-.94 2.06-2.06.94zm-11 1L8.5 8.5l.94-2.06 2.06-.94-2.06-.94L8.5 2.5l-.94 2.06-2.06.94zm10 10l.94 2.06.94-2.06 2.06-.94-2.06-.94-.94-2.06-.94 2.06-2.06.94z\"/><path d=\"M17.41 7.96l-1.37-1.37c-.4-.4-.92-.59-1.43-.59-.52 0-1.04.2-1.43.59L10.3 9.45l-7.72 7.72c-.78.78-.78 2.05 0 2.83L4 21.41c.39.39.9.59 1.41.59.51 0 1.02-.2 1.41-.59l7.78-7.78 2.81-2.81c.8-.78.8-2.07 0-2.86zM5.41 20L4 18.59l7.72-7.72 1.47 1.35L5.41 20z\"/>\n",
       "  </svg>\n",
       "      </button>\n",
       "      \n",
       "  <style>\n",
       "    .colab-df-container {\n",
       "      display:flex;\n",
       "      flex-wrap:wrap;\n",
       "      gap: 12px;\n",
       "    }\n",
       "\n",
       "    .colab-df-convert {\n",
       "      background-color: #E8F0FE;\n",
       "      border: none;\n",
       "      border-radius: 50%;\n",
       "      cursor: pointer;\n",
       "      display: none;\n",
       "      fill: #1967D2;\n",
       "      height: 32px;\n",
       "      padding: 0 0 0 0;\n",
       "      width: 32px;\n",
       "    }\n",
       "\n",
       "    .colab-df-convert:hover {\n",
       "      background-color: #E2EBFA;\n",
       "      box-shadow: 0px 1px 2px rgba(60, 64, 67, 0.3), 0px 1px 3px 1px rgba(60, 64, 67, 0.15);\n",
       "      fill: #174EA6;\n",
       "    }\n",
       "\n",
       "    [theme=dark] .colab-df-convert {\n",
       "      background-color: #3B4455;\n",
       "      fill: #D2E3FC;\n",
       "    }\n",
       "\n",
       "    [theme=dark] .colab-df-convert:hover {\n",
       "      background-color: #434B5C;\n",
       "      box-shadow: 0px 1px 3px 1px rgba(0, 0, 0, 0.15);\n",
       "      filter: drop-shadow(0px 1px 2px rgba(0, 0, 0, 0.3));\n",
       "      fill: #FFFFFF;\n",
       "    }\n",
       "  </style>\n",
       "\n",
       "      <script>\n",
       "        const buttonEl =\n",
       "          document.querySelector('#df-e4dba4d7-2040-4b21-889e-34af2c69fcd0 button.colab-df-convert');\n",
       "        buttonEl.style.display =\n",
       "          google.colab.kernel.accessAllowed ? 'block' : 'none';\n",
       "\n",
       "        async function convertToInteractive(key) {\n",
       "          const element = document.querySelector('#df-e4dba4d7-2040-4b21-889e-34af2c69fcd0');\n",
       "          const dataTable =\n",
       "            await google.colab.kernel.invokeFunction('convertToInteractive',\n",
       "                                                     [key], {});\n",
       "          if (!dataTable) return;\n",
       "\n",
       "          const docLinkHtml = 'Like what you see? Visit the ' +\n",
       "            '<a target=\"_blank\" href=https://colab.research.google.com/notebooks/data_table.ipynb>data table notebook</a>'\n",
       "            + ' to learn more about interactive tables.';\n",
       "          element.innerHTML = '';\n",
       "          dataTable['output_type'] = 'display_data';\n",
       "          await google.colab.output.renderOutput(dataTable, element);\n",
       "          const docLink = document.createElement('div');\n",
       "          docLink.innerHTML = docLinkHtml;\n",
       "          element.appendChild(docLink);\n",
       "        }\n",
       "      </script>\n",
       "    </div>\n",
       "  </div>\n",
       "  "
      ],
      "text/plain": [
       "       Unnamed: 0       Year       Month  DayofMonth   DayOfWeek     DepTime  \\\n",
       "count  1936758.00  1936758.0  1936758.00  1936758.00  1936758.00  1936758.00   \n",
       "mean   3341651.15     2008.0        6.11       15.75        3.98     1518.53   \n",
       "std    2066064.96        0.0        3.48        8.78        2.00      450.49   \n",
       "min          0.00     2008.0        1.00        1.00        1.00        1.00   \n",
       "25%    1517452.50     2008.0        3.00        8.00        2.00     1203.00   \n",
       "50%    3242558.00     2008.0        6.00       16.00        4.00     1545.00   \n",
       "75%    4972466.75     2008.0        9.00       23.00        6.00     1900.00   \n",
       "max    7009727.00     2008.0       12.00       31.00        7.00     2400.00   \n",
       "\n",
       "       CRSDepTime     ArrTime  CRSArrTime   FlightNum  ActualElapsedTime  \\\n",
       "count  1936758.00  1929648.00  1936758.00  1936758.00         1928371.00   \n",
       "mean      1467.47     1610.14     1634.22     2184.26             133.31   \n",
       "std        424.77      548.18      464.63     1944.70              72.06   \n",
       "min          0.00        1.00        0.00        1.00              14.00   \n",
       "25%       1135.00     1316.00     1325.00      610.00              80.00   \n",
       "50%       1510.00     1715.00     1705.00     1543.00             116.00   \n",
       "75%       1815.00     2030.00     2014.00     3422.00             165.00   \n",
       "max       2359.00     2400.00     2400.00     9742.00            1114.00   \n",
       "\n",
       "       CRSElapsedTime     AirTime    ArrDelay    DepDelay    Distance  \\\n",
       "count      1936560.00  1928371.00  1928371.00  1936758.00  1936758.00   \n",
       "mean           134.30      108.28       42.20       43.19      765.69   \n",
       "std             71.34       68.64       56.78       53.40      574.48   \n",
       "min            -25.00        0.00     -109.00        6.00       11.00   \n",
       "25%             82.00       58.00        9.00       12.00      338.00   \n",
       "50%            116.00       90.00       24.00       24.00      606.00   \n",
       "75%            165.00      137.00       56.00       53.00      998.00   \n",
       "max            660.00     1091.00     2461.00     2467.00     4962.00   \n",
       "\n",
       "           TaxiIn     TaxiOut   Cancelled    Diverted  CarrierDelay  \\\n",
       "count  1929648.00  1936303.00  1936758.00  1936758.00    1247488.00   \n",
       "mean         6.81       18.23        0.00        0.00         19.18   \n",
       "std          5.27       14.34        0.02        0.06         43.55   \n",
       "min          0.00        0.00        0.00        0.00          0.00   \n",
       "25%          4.00       10.00        0.00        0.00          0.00   \n",
       "50%          6.00       14.00        0.00        0.00          2.00   \n",
       "75%          8.00       21.00        0.00        0.00         21.00   \n",
       "max        240.00      422.00        1.00        1.00       2436.00   \n",
       "\n",
       "       WeatherDelay    NASDelay  SecurityDelay  LateAircraftDelay  \n",
       "count    1247488.00  1247488.00     1247488.00         1247488.00  \n",
       "mean           3.70       15.02           0.09              25.30  \n",
       "std           21.49       33.83           2.02              42.05  \n",
       "min            0.00        0.00           0.00               0.00  \n",
       "25%            0.00        0.00           0.00               0.00  \n",
       "50%            0.00        2.00           0.00               8.00  \n",
       "75%            0.00       15.00           0.00              33.00  \n",
       "max         1352.00     1357.00         392.00            1316.00  "
      ]
     },
     "execution_count": 10,
     "metadata": {},
     "output_type": "execute_result"
    }
   ],
   "source": [
    "round(airline_df.describe(), 2)"
   ]
  },
  {
   "cell_type": "markdown",
   "metadata": {
    "id": "cxsq00lrWV2b"
   },
   "source": [
    "# 3. Column Description\n",
    "\n",
    "## Description of each column as taken from the data source"
   ]
  },
  {
   "cell_type": "markdown",
   "metadata": {
    "id": "cf4OwYV4Uy8x"
   },
   "source": [
    "\n",
    "\n",
    "![image.png](data:image/png;base64,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)"
   ]
  },
  {
   "cell_type": "markdown",
   "metadata": {
    "id": "wohQF034xpOz"
   },
   "source": [
    "# 4. Cleaning Data\n",
    "\n",
    "## Section Outline\n",
    "\n",
    "- Remove unnecessary columns and unusable data\n",
    "- Drop all null values*\n",
    "- Convert the datatypes of each numeric column to reduce memory consumption\n",
    "\n",
    "*All null values were dropped specifically for this dataset to reduce memory consumption and increase processing speed. In many cases, imputation is a viable strategy of dealing with null values rather than discarding all of the data.\n",
    "\n"
   ]
  },
  {
   "cell_type": "code",
   "execution_count": 11,
   "metadata": {
    "colab": {
     "base_uri": "https://localhost:8080/"
    },
    "executionInfo": {
     "elapsed": 4,
     "status": "ok",
     "timestamp": 1663262214196,
     "user": {
      "displayName": "Srinath Nanduri",
      "userId": "16683609937496845667"
     },
     "user_tz": 420
    },
    "id": "BbvA5Q_uYW9L",
    "outputId": "d3de8f23-5e73-420c-db3c-f366b58830d8"
   },
   "outputs": [
    {
     "name": "stdout",
     "output_type": "stream",
     "text": [
      "<class 'pandas.core.frame.DataFrame'>\n",
      "RangeIndex: 1936758 entries, 0 to 1936757\n",
      "Data columns (total 20 columns):\n",
      " #   Column             Dtype  \n",
      "---  ------             -----  \n",
      " 0   Month              int64  \n",
      " 1   DayofMonth         int64  \n",
      " 2   DayOfWeek          int64  \n",
      " 3   CRSDepTime         int64  \n",
      " 4   CRSArrTime         int64  \n",
      " 5   CRSElapsedTime     float64\n",
      " 6   DepTime            float64\n",
      " 7   ArrTime            float64\n",
      " 8   ActualElapsedTime  float64\n",
      " 9   UniqueCarrier      object \n",
      " 10  AirTime            float64\n",
      " 11  ArrDelay           float64\n",
      " 12  DepDelay           float64\n",
      " 13  Origin             object \n",
      " 14  Dest               object \n",
      " 15  Distance           int64  \n",
      " 16  TaxiIn             float64\n",
      " 17  TaxiOut            float64\n",
      " 18  FlightNum          int64  \n",
      " 19  TailNum            object \n",
      "dtypes: float64(9), int64(7), object(4)\n",
      "memory usage: 295.5+ MB\n"
     ]
    }
   ],
   "source": [
    "# Filter out unneccessary columns\n",
    "\n",
    "# 'CarrierDelay', 'WeatherDelay', 'NASDelay', 'SecurityDelay', 'LateAircraftDelay'\n",
    "# were all filtered out as they represent future data, something that a person\n",
    "# wouldn't have when trying to predict the delay of a plane\n",
    "data_df = airline_df[['Month', 'DayofMonth', 'DayOfWeek', 'CRSDepTime', 'CRSArrTime', \n",
    "      'CRSElapsedTime', 'DepTime', 'ArrTime', 'ActualElapsedTime', 'UniqueCarrier', 'AirTime', \n",
    "      'ArrDelay', 'DepDelay', 'Origin', 'Dest', 'Distance', 'TaxiIn', 'TaxiOut','FlightNum', 'TailNum']]\n",
    "\n",
    "\n",
    "# Check the datatypes of each column\n",
    "data_df.info()"
   ]
  },
  {
   "cell_type": "code",
   "execution_count": 12,
   "metadata": {
    "executionInfo": {
     "elapsed": 2861,
     "status": "ok",
     "timestamp": 1663262217055,
     "user": {
      "displayName": "Srinath Nanduri",
      "userId": "16683609937496845667"
     },
     "user_tz": 420
    },
    "id": "iuWiCs33WUuc"
   },
   "outputs": [],
   "source": [
    "# Drop all null values\n",
    "data_df = data_df.dropna()\n",
    "\n",
    "# Convert the datatypes for each column to allocate less maxiumum space per data entry\n",
    "conversion = {\"Month\": np.uint8,\n",
    "              \"DayofMonth\": np.uint8,\n",
    "              \"DayOfWeek\": np.uint8,\n",
    "              \"CRSDepTime\": np.uint16,\n",
    "              \"CRSArrTime\": np.uint16,\n",
    "              \"CRSElapsedTime\": np.int16,\n",
    "              \"DepTime\":np.uint16,\n",
    "              \"ArrTime\":np.uint16,\n",
    "              \"ActualElapsedTime\": np.uint16,\n",
    "              \"AirTime\": np.uint16,\n",
    "              \"ArrDelay\": np.uint16,\n",
    "              \"DepDelay\": np.uint16,\n",
    "              \"Distance\": np.uint16,\n",
    "              \"TaxiIn\": np.uint16,\n",
    "              \"TaxiOut\": np.uint16,\n",
    "              \"FlightNum\": np.uint16\n",
    "              }\n",
    "data_df = data_df.astype(conversion)\n",
    "\n",
    "DelayCategories = []\n",
    "\n",
    "for row in data_df['ArrDelay']:\n",
    "  if row <= 15:\n",
    "    DelayCategories.append(0) # little to no delay\n",
    "\n",
    "  elif 15 < row <= 45:\n",
    "    DelayCategories.append(1) # small delay\n",
    "\n",
    "  elif 45 < row <= 120:\n",
    "    DelayCategories.append(2) # medium delay\n",
    "  \n",
    "  elif row > 120:\n",
    "    DelayCategories.append(3) # large delay\n",
    "\n",
    "data_df['DelayCategories'] = DelayCategories  "
   ]
  },
  {
   "cell_type": "markdown",
   "metadata": {
    "id": "Iv9Rzp1i5xVu"
   },
   "source": [
    "# 5. Exploratory Data Analysis\n",
    "\n",
    "## Section Outline\n",
    "\n",
    "- Plot graphs for various columns vs departure delay to visualize the correlation"
   ]
  },
  {
   "cell_type": "code",
   "execution_count": 13,
   "metadata": {
    "colab": {
     "base_uri": "https://localhost:8080/",
     "height": 433
    },
    "executionInfo": {
     "elapsed": 801,
     "status": "ok",
     "timestamp": 1663262217848,
     "user": {
      "displayName": "Srinath Nanduri",
      "userId": "16683609937496845667"
     },
     "user_tz": 420
    },
    "id": "74pD8gK2UV7W",
    "outputId": "73fbca06-b2ff-4790-95d7-96114afd0575"
   },
   "outputs": [
    {
     "data": {
      "text/plain": [
       "<matplotlib.axes._subplots.AxesSubplot at 0x7f8dd897ead0>"
      ]
     },
     "execution_count": 13,
     "metadata": {},
     "output_type": "execute_result"
    },
    {
     "data": {
      "image/png": "[encoded data removed]",
      "text/plain": [
       "<Figure size 720x432 with 1 Axes>"
      ]
     },
     "metadata": {
      "needs_background": "light"
     },
     "output_type": "display_data"
    }
   ],
   "source": [
    "plt.title('Departure Delay vs. Arrival Delay Categories')\n",
    "sns.barplot(data=data_df.sample(10000), x='DelayCategories', y='DepDelay', order=[0, 1, 2, 3])"
   ]
  },
  {
   "cell_type": "markdown",
   "metadata": {
    "id": "2V8rdaZgD07Y"
   },
   "source": [
    "Find the correlation between departure delay and the arrival delay."
   ]
  },
  {
   "cell_type": "code",
   "execution_count": 14,
   "metadata": {
    "colab": {
     "base_uri": "https://localhost:8080/",
     "height": 433
    },
    "executionInfo": {
     "elapsed": 20649,
     "status": "ok",
     "timestamp": 1663262238495,
     "user": {
      "displayName": "Srinath Nanduri",
      "userId": "16683609937496845667"
     },
     "user_tz": 420
    },
    "id": "rh5ggXJ05UgR",
    "outputId": "227bd19a-6cc4-48bd-af2e-6bb048a7abba"
   },
   "outputs": [
    {
     "data": {
      "text/plain": [
       "<matplotlib.axes._subplots.AxesSubplot at 0x7f8dd829b350>"
      ]
     },
     "execution_count": 14,
     "metadata": {},
     "output_type": "execute_result"
    },
    {
     "data": {
      "image/png": "[encoded data removed]",
      "text/plain": [
       "<Figure size 720x432 with 1 Axes>"
      ]
     },
     "metadata": {
      "needs_background": "light"
     },
     "output_type": "display_data"
    }
   ],
   "source": [
    "plt.title('Arrival Delay')\n",
    "sns.histplot(data_df.sample(10000), x='ArrDelay')"
   ]
  },
  {
   "cell_type": "markdown",
   "metadata": {
    "id": "MaJ1oaz1D9uU"
   },
   "source": [
    "Show the distribution of arrival delays"
   ]
  },
  {
   "cell_type": "code",
   "execution_count": 15,
   "metadata": {
    "colab": {
     "base_uri": "https://localhost:8080/",
     "height": 433
    },
    "executionInfo": {
     "elapsed": 1688,
     "status": "ok",
     "timestamp": 1663262240181,
     "user": {
      "displayName": "Srinath Nanduri",
      "userId": "16683609937496845667"
     },
     "user_tz": 420
    },
    "id": "PTrcuxagdiZg",
    "outputId": "70da3898-6040-4aa8-ae50-fdd0a2912c33"
   },
   "outputs": [
    {
     "data": {
      "text/plain": [
       "<matplotlib.axes._subplots.AxesSubplot at 0x7f8dd0913cd0>"
      ]
     },
     "execution_count": 15,
     "metadata": {},
     "output_type": "execute_result"
    },
    {
     "data": {
      "image/png": "[encoded data removed]",
      "text/plain": [
       "<Figure size 720x432 with 1 Axes>"
      ]
     },
     "metadata": {
      "needs_background": "light"
     },
     "output_type": "display_data"
    }
   ],
   "source": [
    "plt.title('Arrival Delay Per Unique Carrier')\n",
    "sns.barplot(data=data_df.sample(10000), x='UniqueCarrier', y='ArrDelay')"
   ]
  },
  {
   "cell_type": "markdown",
   "metadata": {
    "id": "UZDJskDzENOG"
   },
   "source": [
    "Find the delay for each unique type of carrier."
   ]
  },
  {
   "cell_type": "code",
   "execution_count": 16,
   "metadata": {
    "colab": {
     "base_uri": "https://localhost:8080/",
     "height": 433
    },
    "executionInfo": {
     "elapsed": 5,
     "status": "ok",
     "timestamp": 1663262240181,
     "user": {
      "displayName": "Srinath Nanduri",
      "userId": "16683609937496845667"
     },
     "user_tz": 420
    },
    "id": "5c7EnCZogWiX",
    "outputId": "f9a6d6a6-a03f-4b95-9679-df0fb062aa22"
   },
   "outputs": [
    {
     "data": {
      "text/plain": [
       "<matplotlib.axes._subplots.AxesSubplot at 0x7f8dcff098d0>"
      ]
     },
     "execution_count": 16,
     "metadata": {},
     "output_type": "execute_result"
    },
    {
     "data": {
      "image/png": "[encoded data removed]",
      "text/plain": [
       "<Figure size 720x432 with 1 Axes>"
      ]
     },
     "metadata": {
      "needs_background": "light"
     },
     "output_type": "display_data"
    }
   ],
   "source": [
    "plt.title('Arrival Delay Per Day of Week')\n",
    "sns.barplot(data=data_df.sample(10000), x='DayOfWeek', y='ArrDelay')"
   ]
  },
  {
   "cell_type": "markdown",
   "metadata": {
    "id": "-xzJgqgCEaRK"
   },
   "source": [
    "Find the arrival delay per day of the week (1 is Monday, 7 is Sunday). The graph shows Saturday to have the highest delay."
   ]
  },
  {
   "cell_type": "code",
   "execution_count": 17,
   "metadata": {
    "colab": {
     "base_uri": "https://localhost:8080/",
     "height": 433
    },
    "executionInfo": {
     "elapsed": 716,
     "status": "ok",
     "timestamp": 1663262240894,
     "user": {
      "displayName": "Srinath Nanduri",
      "userId": "16683609937496845667"
     },
     "user_tz": 420
    },
    "id": "21Q2j55yg1lU",
    "outputId": "8d6d0471-01db-4596-b170-619693c4ed7d"
   },
   "outputs": [
    {
     "data": {
      "text/plain": [
       "<matplotlib.axes._subplots.AxesSubplot at 0x7f8dd1d39790>"
      ]
     },
     "execution_count": 17,
     "metadata": {},
     "output_type": "execute_result"
    },
    {
     "data": {
      "image/png": "[encoded data removed]",
      "text/plain": [
       "<Figure size 720x432 with 1 Axes>"
      ]
     },
     "metadata": {
      "needs_background": "light"
     },
     "output_type": "display_data"
    }
   ],
   "source": [
    "plt.title('Arrival Delay Per Month')\n",
    "sns.barplot(data=data_df.sample(10000), x='Month', y='ArrDelay')"
   ]
  },
  {
   "cell_type": "markdown",
   "metadata": {
    "id": "hIoicKm8E2Jh"
   },
   "source": [
    "The graph shows that the months leading up to the holidays seem to have the highest delay. May is right before summer vacation for schoolchildren and has the highest delay for the drier months. November is the highest for the winter months and is also far more likely to have extreme weather conditions, which could account for the large amount of delay in the two previous months as well compared to the rest."
   ]
  },
  {
   "cell_type": "code",
   "execution_count": 18,
   "metadata": {
    "colab": {
     "base_uri": "https://localhost:8080/",
     "height": 433
    },
    "executionInfo": {
     "elapsed": 593,
     "status": "ok",
     "timestamp": 1663262241485,
     "user": {
      "displayName": "Srinath Nanduri",
      "userId": "16683609937496845667"
     },
     "user_tz": 420
    },
    "id": "1p-gI4LTSSgu",
    "outputId": "ad055f7d-5f66-417a-cd7a-3eebff4e6e8e"
   },
   "outputs": [
    {
     "data": {
      "text/plain": [
       "<matplotlib.axes._subplots.AxesSubplot at 0x7f8dcfe00a10>"
      ]
     },
     "execution_count": 18,
     "metadata": {},
     "output_type": "execute_result"
    },
    {
     "data": {
      "image/png": "[encoded data removed]",
      "text/plain": [
       "<Figure size 720x432 with 1 Axes>"
      ]
     },
     "metadata": {
      "needs_background": "light"
     },
     "output_type": "display_data"
    }
   ],
   "source": [
    "plt.title('Arrival Delay Vs. Taxi In')\n",
    "sns.barplot(data=data_df.sample(10000), y='TaxiIn', x='DelayCategories', order=[0, 1, 2, 3])"
   ]
  },
  {
   "cell_type": "markdown",
   "metadata": {
    "id": "n7lGVJrnGATw"
   },
   "source": [
    "There seems to be a correlation between delay and taxi in up to the very last category of the large delay. This could be due to that a large delay would have many other extenuating factors that the slight delay caused by a long taxi time would not affect the delay amount by a lot."
   ]
  },
  {
   "cell_type": "code",
   "execution_count": 19,
   "metadata": {
    "colab": {
     "base_uri": "https://localhost:8080/",
     "height": 433
    },
    "executionInfo": {
     "elapsed": 535,
     "status": "ok",
     "timestamp": 1663262242017,
     "user": {
      "displayName": "Srinath Nanduri",
      "userId": "16683609937496845667"
     },
     "user_tz": 420
    },
    "id": "t5d1wOyhaepr",
    "outputId": "bb4f66f9-52a6-4f23-e837-72972de4d7a9"
   },
   "outputs": [
    {
     "data": {
      "text/plain": [
       "<matplotlib.axes._subplots.AxesSubplot at 0x7f8dcfe5df10>"
      ]
     },
     "execution_count": 19,
     "metadata": {},
     "output_type": "execute_result"
    },
    {
     "data": {
      "image/png": "[encoded data removed]",
      "text/plain": [
       "<Figure size 720x432 with 1 Axes>"
      ]
     },
     "metadata": {
      "needs_background": "light"
     },
     "output_type": "display_data"
    }
   ],
   "source": [
    "plt.title('Arrival Delay Vs. Taxi Out')\n",
    "sns.barplot(data=data_df.sample(10000), y='TaxiOut', x='DelayCategories', order=[0, 1, 2, 3])"
   ]
  },
  {
   "cell_type": "markdown",
   "metadata": {
    "id": "scxfst5lGhTi"
   },
   "source": [
    "The same observation can be found on this graph as well as the previous one. There is correlation between delay and taxi time until the delay gets too large for the taxi time to matter much."
   ]
  },
  {
   "cell_type": "markdown",
   "metadata": {
    "id": "KClrqda4PfnS"
   },
   "source": [
    "# 6. Feature Engineering\n",
    "\n",
    "## Section Outline\n",
    "\n",
    "- Obtain supplementary weather dataset to help increase the number of features and columns the machine learning models have to make an accurate prediction\n",
    "  - Read new dataset to pandas dataframe and clean it\n",
    "  - Convert datatypes of columns to reduce memory consumption\n",
    "  - Merge the airline delay dataframe and the weather dataframe into one\n",
    "\n",
    "- Extract what features can be gotten from the existing data\n"
   ]
  },
  {
   "cell_type": "markdown",
   "metadata": {
    "id": "aTLqw0R9kwIZ"
   },
   "source": [
    "## Obtaining New Dataset\n",
    "\n",
    "![](https://imgs.search.brave.com/QflXKGV6wDxap38CcLi-q5L3l0d72NxeMhnVLSlnR_E/rs:fit:1104:658:1/g:ce/aHR0cHM6Ly9jZG4u/d2FsbHBhcGVyc2Fm/YXJpLmNvbS80MC8y/My9yRnZBaE0ucG5n)\n",
    "\n",
    "The new dataset contains the weather data for the airports in the airline dataframe for every day of 2008. Using Selenium, the  [Weather Underground](https://www.wunderground.com/) website was scraped for historical data. For the purposes of this project, the code executing the below functions has been commented out to save time. It was originally ran locally and the output was compiled into a single csv file containing all of the weather data. The runtime of this scraper is approximately 10hrs long."
   ]
  },
  {
   "cell_type": "code",
   "execution_count": 20,
   "metadata": {
    "executionInfo": {
     "elapsed": 3,
     "status": "ok",
     "timestamp": 1663262242017,
     "user": {
      "displayName": "Srinath Nanduri",
      "userId": "16683609937496845667"
     },
     "user_tz": 420
    },
    "id": "5er2D7Srkvbu"
   },
   "outputs": [],
   "source": [
    "# Headers for the CSV files\n",
    "headers = [\"Month\", \"Day\", \"Temperature (°F)\", \"Dew Point (°F)\", \"Humidity (%)\", \"Wind Speed (mph)\", \"Pressure (in)\",\n",
    "           \"Precipitation (in)\", \"Location\"]"
   ]
  },
  {
   "cell_type": "code",
   "execution_count": 21,
   "metadata": {
    "executionInfo": {
     "elapsed": 649,
     "status": "ok",
     "timestamp": 1663262242664,
     "user": {
      "displayName": "Srinath Nanduri",
      "userId": "16683609937496845667"
     },
     "user_tz": 420
    },
    "id": "ayaV2ruumIeL"
   },
   "outputs": [],
   "source": [
    "# Get the table from the website using selenium webdriver to locate the class name for the table\n",
    "def get_table(page_url):\n",
    "    # Fetching page\n",
    "    driver.get(page_url)\n",
    "    time.sleep(10)\n",
    "\n",
    "    # Get table\n",
    "    table_class = \"observation-table.ng-star-inserted\"\n",
    "    table = driver.find_elements(By.CLASS_NAME, table_class)\n",
    "    return table"
   ]
  },
  {
   "cell_type": "code",
   "execution_count": 22,
   "metadata": {
    "executionInfo": {
     "elapsed": 4,
     "status": "ok",
     "timestamp": 1663262242665,
     "user": {
      "displayName": "Srinath Nanduri",
      "userId": "16683609937496845667"
     },
     "user_tz": 420
    },
    "id": "AbeAb4VTmK-8"
   },
   "outputs": [],
   "source": [
    "# Parse each column of the table into a dictionary which can be converted to a Pandas dataframe\n",
    "def parse_table(observation_table, location_code):\n",
    "\n",
    "    # Write the data into a text file\n",
    "    with open('table.txt', 'w') as f:\n",
    "        for row in observation_table:\n",
    "            f.write(row.text)\n",
    "\n",
    "    # Read the data from the text file\n",
    "    with open('table.txt', 'r') as f:\n",
    "\n",
    "        # If the text file has a size of 0, then there is no data to read\n",
    "        if os.stat('table.txt').st_size == 0:\n",
    "            return\n",
    "\n",
    "        # Find how many rows the table has\n",
    "        rows = driver.find_elements(By.XPATH,\n",
    "                                    \"\"\"//*[@id=\"inner-content\"]/div[2]/div[1]/div[5]/div[1]/div/lib-city-history-observation/div/div[2]/table/tbody/tr/td[1]/table/tr\"\"\")\n",
    "        num_rows = len(rows) - 1\n",
    "\n",
    "        # Create a list for each of the columns\n",
    "        month, day, temperature, dew_point, humidity, wind_spd, pressure, precip, location = [], [], [], [], [], [], [], [], []\n",
    "        header_list = [month, day, temperature, dew_point, humidity, wind_spd, pressure, precip, location]\n",
    "\n",
    "        # Month column\n",
    "        f.readline()\n",
    "        month.append(f.readline().strip('\\n'))\n",
    "        month *= num_rows\n",
    "\n",
    "        # Location column\n",
    "        location.append(location_code)\n",
    "        location *= num_rows\n",
    "\n",
    "        # Days column\n",
    "        for i in range(num_rows):\n",
    "            day.append(f.readline().strip('\\n'))\n",
    "        f.readline()\n",
    "\n",
    "        # Temperature, Dew Point, Humidity, Wind Speed, Pressure columns\n",
    "        for header in header_list[2:-2]:\n",
    "            for i in range(num_rows):\n",
    "                templine = f.readline().split(' ')[1]\n",
    "                header.append(templine)\n",
    "            f.readline()\n",
    "\n",
    "        # Precipitation column\n",
    "        for i in range(num_rows):\n",
    "            precip.append(f.readline().strip('\\n'))\n",
    "\n",
    "    # Create a dictionary and format it in the shape of a dataframe\n",
    "    data_dict = dict()\n",
    "    for i, j in zip(headers, header_list):\n",
    "        data_dict[i] = j\n",
    "\n",
    "    # Return the dictionary as the output of the function\n",
    "    return data_dict"
   ]
  },
  {
   "cell_type": "code",
   "execution_count": 23,
   "metadata": {
    "executionInfo": {
     "elapsed": 4,
     "status": "ok",
     "timestamp": 1663262242665,
     "user": {
      "displayName": "Srinath Nanduri",
      "userId": "16683609937496845667"
     },
     "user_tz": 420
    },
    "id": "YGYtP36vmN6Z"
   },
   "outputs": [],
   "source": [
    "# origin = data_df.Origin.unique().tolist()\n",
    "# dest = data_df.Dest.unique().tolist()\n",
    "# locations = list(set(origin + dest))\n",
    "# len(locations)\n",
    "\n",
    "# # Create the directory to store the csv files for each airport\n",
    "# if not os.path.exists('weather-csv-files'):\n",
    "#     os.makedirs('weather-csv-files')\n",
    "\n",
    "# # For each location\n",
    "# for code in locations:\n",
    "\n",
    "#     # Empty dataframe with the columns to add to\n",
    "#     weather_df = pd.DataFrame(columns=[\"Month\", \"Day\", \"Temperature (°F)\", \"Dew Point (°F)\", \"Humidity (%)\",\n",
    "#                                        \"Wind Speed (mph)\", \"Pressure (in)\", \"Precipitation (in)\", \"Location\"])\n",
    "    \n",
    "#     # The base url to modify for each page\n",
    "#     base_url = 'https://www.wunderground.com/history/monthly/K' + code + '/date/2008-'\n",
    "#     print(code)\n",
    "\n",
    "#     # For the whole year\n",
    "#     for months in range(1, 13):\n",
    "#         print(months)\n",
    "#         url = base_url + str(months)\n",
    "\n",
    "#         # Get the data dictionary with weather data\n",
    "#         obs_table = get_table(url)\n",
    "#         month_dict = parse_table(obs_table, code)\n",
    "\n",
    "#         # If the dictionary doesn't exist (i.e. there is no data) go to the next location\n",
    "#         if not month_dict:\n",
    "#             break\n",
    "\n",
    "#         # add the dictionary as a dataframe to the weather dataframe\n",
    "#         weather_df = pd.concat([weather_df, pd.DataFrame(month_dict)])\n",
    "\n",
    "#     # send the dataframe to a csv file\n",
    "#     weather_df.to_csv(\"weather-csv-files\\\\\" + code + \".csv\", index=False)"
   ]
  },
  {
   "cell_type": "markdown",
   "metadata": {
    "id": "Z91D22RcUIQ2"
   },
   "source": [
    "![](https://i.imgur.com/4ZSy4uZ.png)"
   ]
  },
  {
   "cell_type": "markdown",
   "metadata": {
    "id": "durD6GlL0w_F"
   },
   "source": [
    "The dataset was uploaded to [Kaggle](https://www.kaggle.com/datasets/srinathnanduri97/weather-data-for-265-airports-in-the-united-states) and is the supplementary dataset downloaded at the beginning."
   ]
  },
  {
   "cell_type": "code",
   "execution_count": 24,
   "metadata": {
    "colab": {
     "base_uri": "https://localhost:8080/",
     "height": 424
    },
    "executionInfo": {
     "elapsed": 4,
     "status": "ok",
     "timestamp": 1663262242665,
     "user": {
      "displayName": "Srinath Nanduri",
      "userId": "16683609937496845667"
     },
     "user_tz": 420
    },
    "id": "xX24c2E82ErL",
    "outputId": "34475ee7-4917-419b-ef31-29e7ad923950"
   },
   "outputs": [
    {
     "data": {
      "text/html": [
       "\n",
       "  <div id=\"df-e3191d24-30d5-462f-b57c-1fc92643a21a\">\n",
       "    <div class=\"colab-df-container\">\n",
       "      <div>\n",
       "<style scoped>\n",
       "    .dataframe tbody tr th:only-of-type {\n",
       "        vertical-align: middle;\n",
       "    }\n",
       "\n",
       "    .dataframe tbody tr th {\n",
       "        vertical-align: top;\n",
       "    }\n",
       "\n",
       "    .dataframe thead th {\n",
       "        text-align: right;\n",
       "    }\n",
       "</style>\n",
       "<table border=\"1\" class=\"dataframe\">\n",
       "  <thead>\n",
       "    <tr style=\"text-align: right;\">\n",
       "      <th></th>\n",
       "      <th>Month</th>\n",
       "      <th>Day</th>\n",
       "      <th>Temperature (°F)</th>\n",
       "      <th>Dew Point (°F)</th>\n",
       "      <th>Humidity (%)</th>\n",
       "      <th>Wind Speed (mph)</th>\n",
       "      <th>Pressure (in)</th>\n",
       "      <th>Precipitation (in)</th>\n",
       "      <th>Location</th>\n",
       "    </tr>\n",
       "  </thead>\n",
       "  <tbody>\n",
       "    <tr>\n",
       "      <th>0</th>\n",
       "      <td>Jan</td>\n",
       "      <td>1</td>\n",
       "      <td>38.1</td>\n",
       "      <td>28.2</td>\n",
       "      <td>72.3</td>\n",
       "      <td>11.5</td>\n",
       "      <td>29.4</td>\n",
       "      <td>0.0</td>\n",
       "      <td>ABE</td>\n",
       "    </tr>\n",
       "    <tr>\n",
       "      <th>1</th>\n",
       "      <td>Jan</td>\n",
       "      <td>2</td>\n",
       "      <td>26.0</td>\n",
       "      <td>11.0</td>\n",
       "      <td>53.5</td>\n",
       "      <td>16.4</td>\n",
       "      <td>29.6</td>\n",
       "      <td>0.0</td>\n",
       "      <td>ABE</td>\n",
       "    </tr>\n",
       "    <tr>\n",
       "      <th>2</th>\n",
       "      <td>Jan</td>\n",
       "      <td>3</td>\n",
       "      <td>17.2</td>\n",
       "      <td>1.6</td>\n",
       "      <td>51.4</td>\n",
       "      <td>8.5</td>\n",
       "      <td>30.2</td>\n",
       "      <td>0.0</td>\n",
       "      <td>ABE</td>\n",
       "    </tr>\n",
       "    <tr>\n",
       "      <th>3</th>\n",
       "      <td>Jan</td>\n",
       "      <td>4</td>\n",
       "      <td>24.8</td>\n",
       "      <td>10.3</td>\n",
       "      <td>56.4</td>\n",
       "      <td>6.1</td>\n",
       "      <td>30.1</td>\n",
       "      <td>0.0</td>\n",
       "      <td>ABE</td>\n",
       "    </tr>\n",
       "    <tr>\n",
       "      <th>4</th>\n",
       "      <td>Jan</td>\n",
       "      <td>5</td>\n",
       "      <td>30.9</td>\n",
       "      <td>20.1</td>\n",
       "      <td>66.6</td>\n",
       "      <td>1.8</td>\n",
       "      <td>29.9</td>\n",
       "      <td>0.0</td>\n",
       "      <td>ABE</td>\n",
       "    </tr>\n",
       "    <tr>\n",
       "      <th>...</th>\n",
       "      <td>...</td>\n",
       "      <td>...</td>\n",
       "      <td>...</td>\n",
       "      <td>...</td>\n",
       "      <td>...</td>\n",
       "      <td>...</td>\n",
       "      <td>...</td>\n",
       "      <td>...</td>\n",
       "      <td>...</td>\n",
       "    </tr>\n",
       "    <tr>\n",
       "      <th>96545</th>\n",
       "      <td>Dec</td>\n",
       "      <td>27</td>\n",
       "      <td>20.0</td>\n",
       "      <td>16.7</td>\n",
       "      <td>87.8</td>\n",
       "      <td>1.4</td>\n",
       "      <td>28.7</td>\n",
       "      <td>0.0</td>\n",
       "      <td>YKM</td>\n",
       "    </tr>\n",
       "    <tr>\n",
       "      <th>96546</th>\n",
       "      <td>Dec</td>\n",
       "      <td>28</td>\n",
       "      <td>32.0</td>\n",
       "      <td>25.7</td>\n",
       "      <td>83.2</td>\n",
       "      <td>4.0</td>\n",
       "      <td>28.8</td>\n",
       "      <td>0.0</td>\n",
       "      <td>YKM</td>\n",
       "    </tr>\n",
       "    <tr>\n",
       "      <th>96547</th>\n",
       "      <td>Dec</td>\n",
       "      <td>29</td>\n",
       "      <td>30.1</td>\n",
       "      <td>23.3</td>\n",
       "      <td>88.9</td>\n",
       "      <td>4.1</td>\n",
       "      <td>28.7</td>\n",
       "      <td>0.0</td>\n",
       "      <td>YKM</td>\n",
       "    </tr>\n",
       "    <tr>\n",
       "      <th>96548</th>\n",
       "      <td>Dec</td>\n",
       "      <td>30</td>\n",
       "      <td>27.2</td>\n",
       "      <td>23.6</td>\n",
       "      <td>86.8</td>\n",
       "      <td>3.4</td>\n",
       "      <td>29.1</td>\n",
       "      <td>0.0</td>\n",
       "      <td>YKM</td>\n",
       "    </tr>\n",
       "    <tr>\n",
       "      <th>96549</th>\n",
       "      <td>Dec</td>\n",
       "      <td>31</td>\n",
       "      <td>30.0</td>\n",
       "      <td>25.6</td>\n",
       "      <td>85.6</td>\n",
       "      <td>4.9</td>\n",
       "      <td>28.8</td>\n",
       "      <td>0.0</td>\n",
       "      <td>YKM</td>\n",
       "    </tr>\n",
       "  </tbody>\n",
       "</table>\n",
       "<p>96550 rows × 9 columns</p>\n",
       "</div>\n",
       "      <button class=\"colab-df-convert\" onclick=\"convertToInteractive('df-e3191d24-30d5-462f-b57c-1fc92643a21a')\"\n",
       "              title=\"Convert this dataframe to an interactive table.\"\n",
       "              style=\"display:none;\">\n",
       "        \n",
       "  <svg xmlns=\"http://www.w3.org/2000/svg\" height=\"24px\"viewBox=\"0 0 24 24\"\n",
       "       width=\"24px\">\n",
       "    <path d=\"M0 0h24v24H0V0z\" fill=\"none\"/>\n",
       "    <path d=\"M18.56 5.44l.94 2.06.94-2.06 2.06-.94-2.06-.94-.94-2.06-.94 2.06-2.06.94zm-11 1L8.5 8.5l.94-2.06 2.06-.94-2.06-.94L8.5 2.5l-.94 2.06-2.06.94zm10 10l.94 2.06.94-2.06 2.06-.94-2.06-.94-.94-2.06-.94 2.06-2.06.94z\"/><path d=\"M17.41 7.96l-1.37-1.37c-.4-.4-.92-.59-1.43-.59-.52 0-1.04.2-1.43.59L10.3 9.45l-7.72 7.72c-.78.78-.78 2.05 0 2.83L4 21.41c.39.39.9.59 1.41.59.51 0 1.02-.2 1.41-.59l7.78-7.78 2.81-2.81c.8-.78.8-2.07 0-2.86zM5.41 20L4 18.59l7.72-7.72 1.47 1.35L5.41 20z\"/>\n",
       "  </svg>\n",
       "      </button>\n",
       "      \n",
       "  <style>\n",
       "    .colab-df-container {\n",
       "      display:flex;\n",
       "      flex-wrap:wrap;\n",
       "      gap: 12px;\n",
       "    }\n",
       "\n",
       "    .colab-df-convert {\n",
       "      background-color: #E8F0FE;\n",
       "      border: none;\n",
       "      border-radius: 50%;\n",
       "      cursor: pointer;\n",
       "      display: none;\n",
       "      fill: #1967D2;\n",
       "      height: 32px;\n",
       "      padding: 0 0 0 0;\n",
       "      width: 32px;\n",
       "    }\n",
       "\n",
       "    .colab-df-convert:hover {\n",
       "      background-color: #E2EBFA;\n",
       "      box-shadow: 0px 1px 2px rgba(60, 64, 67, 0.3), 0px 1px 3px 1px rgba(60, 64, 67, 0.15);\n",
       "      fill: #174EA6;\n",
       "    }\n",
       "\n",
       "    [theme=dark] .colab-df-convert {\n",
       "      background-color: #3B4455;\n",
       "      fill: #D2E3FC;\n",
       "    }\n",
       "\n",
       "    [theme=dark] .colab-df-convert:hover {\n",
       "      background-color: #434B5C;\n",
       "      box-shadow: 0px 1px 3px 1px rgba(0, 0, 0, 0.15);\n",
       "      filter: drop-shadow(0px 1px 2px rgba(0, 0, 0, 0.3));\n",
       "      fill: #FFFFFF;\n",
       "    }\n",
       "  </style>\n",
       "\n",
       "      <script>\n",
       "        const buttonEl =\n",
       "          document.querySelector('#df-e3191d24-30d5-462f-b57c-1fc92643a21a button.colab-df-convert');\n",
       "        buttonEl.style.display =\n",
       "          google.colab.kernel.accessAllowed ? 'block' : 'none';\n",
       "\n",
       "        async function convertToInteractive(key) {\n",
       "          const element = document.querySelector('#df-e3191d24-30d5-462f-b57c-1fc92643a21a');\n",
       "          const dataTable =\n",
       "            await google.colab.kernel.invokeFunction('convertToInteractive',\n",
       "                                                     [key], {});\n",
       "          if (!dataTable) return;\n",
       "\n",
       "          const docLinkHtml = 'Like what you see? Visit the ' +\n",
       "            '<a target=\"_blank\" href=https://colab.research.google.com/notebooks/data_table.ipynb>data table notebook</a>'\n",
       "            + ' to learn more about interactive tables.';\n",
       "          element.innerHTML = '';\n",
       "          dataTable['output_type'] = 'display_data';\n",
       "          await google.colab.output.renderOutput(dataTable, element);\n",
       "          const docLink = document.createElement('div');\n",
       "          docLink.innerHTML = docLinkHtml;\n",
       "          element.appendChild(docLink);\n",
       "        }\n",
       "      </script>\n",
       "    </div>\n",
       "  </div>\n",
       "  "
      ],
      "text/plain": [
       "      Month  Day  Temperature (°F)  Dew Point (°F)  Humidity (%)  \\\n",
       "0       Jan    1              38.1            28.2          72.3   \n",
       "1       Jan    2              26.0            11.0          53.5   \n",
       "2       Jan    3              17.2             1.6          51.4   \n",
       "3       Jan    4              24.8            10.3          56.4   \n",
       "4       Jan    5              30.9            20.1          66.6   \n",
       "...     ...  ...               ...             ...           ...   \n",
       "96545   Dec   27              20.0            16.7          87.8   \n",
       "96546   Dec   28              32.0            25.7          83.2   \n",
       "96547   Dec   29              30.1            23.3          88.9   \n",
       "96548   Dec   30              27.2            23.6          86.8   \n",
       "96549   Dec   31              30.0            25.6          85.6   \n",
       "\n",
       "       Wind Speed (mph)  Pressure (in)  Precipitation (in) Location  \n",
       "0                  11.5           29.4                 0.0      ABE  \n",
       "1                  16.4           29.6                 0.0      ABE  \n",
       "2                   8.5           30.2                 0.0      ABE  \n",
       "3                   6.1           30.1                 0.0      ABE  \n",
       "4                   1.8           29.9                 0.0      ABE  \n",
       "...                 ...            ...                 ...      ...  \n",
       "96545               1.4           28.7                 0.0      YKM  \n",
       "96546               4.0           28.8                 0.0      YKM  \n",
       "96547               4.1           28.7                 0.0      YKM  \n",
       "96548               3.4           29.1                 0.0      YKM  \n",
       "96549               4.9           28.8                 0.0      YKM  \n",
       "\n",
       "[96550 rows x 9 columns]"
      ]
     },
     "execution_count": 24,
     "metadata": {},
     "output_type": "execute_result"
    }
   ],
   "source": [
    "weather_df = pd.read_csv('./weather-data-for-265-airports-in-the-united-states/weather.csv')\n",
    "weather_df"
   ]
  },
  {
   "cell_type": "code",
   "execution_count": 25,
   "metadata": {
    "executionInfo": {
     "elapsed": 3,
     "status": "ok",
     "timestamp": 1663262242665,
     "user": {
      "displayName": "Srinath Nanduri",
      "userId": "16683609937496845667"
     },
     "user_tz": 420
    },
    "id": "ej3bcBlj2dra"
   },
   "outputs": [],
   "source": [
    "# Drop the precipitation column as they are all 0s and therefore useless data\n",
    "weather_df = weather_df.drop('Precipitation (in)', axis=1)\n",
    "\n",
    "# Rename shared columns for merging dataframes\n",
    "weather_df = weather_df.rename(columns={'Location': \"Dest\", \"Day\": \"DayofMonth\"})\n",
    "\n",
    "# Convert the month abbreviations into numbers representing each month\n",
    "month_conversion = {\"Jan\": 1, \"Feb\": 2, \"Mar\": 3, \"Apr\": 4, \"May\": 5, \"Jun\": 6, \n",
    "                    \"Jul\": 7, \"Aug\": 8, \"Sep\": 9, \"Oct\": 10, \"Nov\": 11, \"Dec\": 12}\n",
    "weather_df['Month'] = weather_df['Month'].apply(lambda x: month_conversion[x])\n",
    "\n",
    "# Conver the dtypes of each column to reduce memory consumption\n",
    "conversion_weather = {\"DayofMonth\": np.uint8,\n",
    "                      \"Month\": np.uint8,\n",
    "                      \"Temperature (°F)\" :np.float16,\n",
    "                      \"Dew Point (°F)\": np.float16,\n",
    "                      \"Humidity (%)\": np.float16,\n",
    "                      \"Wind Speed (mph)\": np.float16,\n",
    "                      \"Pressure (in)\": np.float16}\n",
    "weather_df = weather_df.astype(conversion_weather)"
   ]
  },
  {
   "cell_type": "code",
   "execution_count": 26,
   "metadata": {
    "colab": {
     "base_uri": "https://localhost:8080/",
     "height": 522
    },
    "executionInfo": {
     "elapsed": 1868,
     "status": "ok",
     "timestamp": 1663262244530,
     "user": {
      "displayName": "Srinath Nanduri",
      "userId": "16683609937496845667"
     },
     "user_tz": 420
    },
    "id": "wUdYJHZGr7T0",
    "outputId": "ceea031d-f083-4136-9809-421e7ef65bc2"
   },
   "outputs": [
    {
     "data": {
      "text/html": [
       "\n",
       "  <div id=\"df-0854535f-7b49-4de1-a8cc-e426e86408a6\">\n",
       "    <div class=\"colab-df-container\">\n",
       "      <div>\n",
       "<style scoped>\n",
       "    .dataframe tbody tr th:only-of-type {\n",
       "        vertical-align: middle;\n",
       "    }\n",
       "\n",
       "    .dataframe tbody tr th {\n",
       "        vertical-align: top;\n",
       "    }\n",
       "\n",
       "    .dataframe thead th {\n",
       "        text-align: right;\n",
       "    }\n",
       "</style>\n",
       "<table border=\"1\" class=\"dataframe\">\n",
       "  <thead>\n",
       "    <tr style=\"text-align: right;\">\n",
       "      <th></th>\n",
       "      <th>Month</th>\n",
       "      <th>DayofMonth</th>\n",
       "      <th>DayOfWeek</th>\n",
       "      <th>CRSDepTime</th>\n",
       "      <th>CRSArrTime</th>\n",
       "      <th>CRSElapsedTime</th>\n",
       "      <th>DepTime</th>\n",
       "      <th>ArrTime</th>\n",
       "      <th>ActualElapsedTime</th>\n",
       "      <th>UniqueCarrier</th>\n",
       "      <th>AirTime</th>\n",
       "      <th>ArrDelay</th>\n",
       "      <th>DepDelay</th>\n",
       "      <th>Origin</th>\n",
       "      <th>Dest</th>\n",
       "      <th>Distance</th>\n",
       "      <th>TaxiIn</th>\n",
       "      <th>TaxiOut</th>\n",
       "      <th>FlightNum</th>\n",
       "      <th>TailNum</th>\n",
       "      <th>DelayCategories</th>\n",
       "      <th>Temperature (°F)</th>\n",
       "      <th>Dew Point (°F)</th>\n",
       "      <th>Humidity (%)</th>\n",
       "      <th>Wind Speed (mph)</th>\n",
       "      <th>Pressure (in)</th>\n",
       "    </tr>\n",
       "  </thead>\n",
       "  <tbody>\n",
       "    <tr>\n",
       "      <th>0</th>\n",
       "      <td>1</td>\n",
       "      <td>3</td>\n",
       "      <td>4</td>\n",
       "      <td>1955</td>\n",
       "      <td>2225</td>\n",
       "      <td>150</td>\n",
       "      <td>2003</td>\n",
       "      <td>2211</td>\n",
       "      <td>128</td>\n",
       "      <td>WN</td>\n",
       "      <td>116</td>\n",
       "      <td>65522</td>\n",
       "      <td>8</td>\n",
       "      <td>IAD</td>\n",
       "      <td>TPA</td>\n",
       "      <td>810</td>\n",
       "      <td>4</td>\n",
       "      <td>8</td>\n",
       "      <td>335</td>\n",
       "      <td>N712SW</td>\n",
       "      <td>3</td>\n",
       "      <td>41.093750</td>\n",
       "      <td>19.406250</td>\n",
       "      <td>42.50000</td>\n",
       "      <td>13.203125</td>\n",
       "      <td>30.593750</td>\n",
       "    </tr>\n",
       "    <tr>\n",
       "      <th>1</th>\n",
       "      <td>1</td>\n",
       "      <td>3</td>\n",
       "      <td>4</td>\n",
       "      <td>735</td>\n",
       "      <td>1000</td>\n",
       "      <td>145</td>\n",
       "      <td>754</td>\n",
       "      <td>1002</td>\n",
       "      <td>128</td>\n",
       "      <td>WN</td>\n",
       "      <td>113</td>\n",
       "      <td>2</td>\n",
       "      <td>19</td>\n",
       "      <td>IAD</td>\n",
       "      <td>TPA</td>\n",
       "      <td>810</td>\n",
       "      <td>5</td>\n",
       "      <td>10</td>\n",
       "      <td>3231</td>\n",
       "      <td>N772SW</td>\n",
       "      <td>0</td>\n",
       "      <td>41.093750</td>\n",
       "      <td>19.406250</td>\n",
       "      <td>42.50000</td>\n",
       "      <td>13.203125</td>\n",
       "      <td>30.593750</td>\n",
       "    </tr>\n",
       "    <tr>\n",
       "      <th>2</th>\n",
       "      <td>1</td>\n",
       "      <td>3</td>\n",
       "      <td>4</td>\n",
       "      <td>620</td>\n",
       "      <td>750</td>\n",
       "      <td>90</td>\n",
       "      <td>628</td>\n",
       "      <td>804</td>\n",
       "      <td>96</td>\n",
       "      <td>WN</td>\n",
       "      <td>76</td>\n",
       "      <td>14</td>\n",
       "      <td>8</td>\n",
       "      <td>IND</td>\n",
       "      <td>BWI</td>\n",
       "      <td>515</td>\n",
       "      <td>3</td>\n",
       "      <td>17</td>\n",
       "      <td>448</td>\n",
       "      <td>N428WN</td>\n",
       "      <td>0</td>\n",
       "      <td>23.296875</td>\n",
       "      <td>6.898438</td>\n",
       "      <td>50.59375</td>\n",
       "      <td>7.898438</td>\n",
       "      <td>30.500000</td>\n",
       "    </tr>\n",
       "    <tr>\n",
       "      <th>3</th>\n",
       "      <td>1</td>\n",
       "      <td>3</td>\n",
       "      <td>4</td>\n",
       "      <td>1755</td>\n",
       "      <td>1925</td>\n",
       "      <td>90</td>\n",
       "      <td>1829</td>\n",
       "      <td>1959</td>\n",
       "      <td>90</td>\n",
       "      <td>WN</td>\n",
       "      <td>77</td>\n",
       "      <td>34</td>\n",
       "      <td>34</td>\n",
       "      <td>IND</td>\n",
       "      <td>BWI</td>\n",
       "      <td>515</td>\n",
       "      <td>3</td>\n",
       "      <td>10</td>\n",
       "      <td>3920</td>\n",
       "      <td>N464WN</td>\n",
       "      <td>1</td>\n",
       "      <td>23.296875</td>\n",
       "      <td>6.898438</td>\n",
       "      <td>50.59375</td>\n",
       "      <td>7.898438</td>\n",
       "      <td>30.500000</td>\n",
       "    </tr>\n",
       "    <tr>\n",
       "      <th>4</th>\n",
       "      <td>1</td>\n",
       "      <td>3</td>\n",
       "      <td>4</td>\n",
       "      <td>1915</td>\n",
       "      <td>2110</td>\n",
       "      <td>115</td>\n",
       "      <td>1940</td>\n",
       "      <td>2121</td>\n",
       "      <td>101</td>\n",
       "      <td>WN</td>\n",
       "      <td>87</td>\n",
       "      <td>11</td>\n",
       "      <td>25</td>\n",
       "      <td>IND</td>\n",
       "      <td>JAX</td>\n",
       "      <td>688</td>\n",
       "      <td>4</td>\n",
       "      <td>10</td>\n",
       "      <td>378</td>\n",
       "      <td>N726SW</td>\n",
       "      <td>0</td>\n",
       "      <td>32.687500</td>\n",
       "      <td>17.296875</td>\n",
       "      <td>53.59375</td>\n",
       "      <td>9.101562</td>\n",
       "      <td>30.593750</td>\n",
       "    </tr>\n",
       "    <tr>\n",
       "      <th>...</th>\n",
       "      <td>...</td>\n",
       "      <td>...</td>\n",
       "      <td>...</td>\n",
       "      <td>...</td>\n",
       "      <td>...</td>\n",
       "      <td>...</td>\n",
       "      <td>...</td>\n",
       "      <td>...</td>\n",
       "      <td>...</td>\n",
       "      <td>...</td>\n",
       "      <td>...</td>\n",
       "      <td>...</td>\n",
       "      <td>...</td>\n",
       "      <td>...</td>\n",
       "      <td>...</td>\n",
       "      <td>...</td>\n",
       "      <td>...</td>\n",
       "      <td>...</td>\n",
       "      <td>...</td>\n",
       "      <td>...</td>\n",
       "      <td>...</td>\n",
       "      <td>...</td>\n",
       "      <td>...</td>\n",
       "      <td>...</td>\n",
       "      <td>...</td>\n",
       "      <td>...</td>\n",
       "    </tr>\n",
       "    <tr>\n",
       "      <th>1928368</th>\n",
       "      <td>12</td>\n",
       "      <td>13</td>\n",
       "      <td>6</td>\n",
       "      <td>1220</td>\n",
       "      <td>1552</td>\n",
       "      <td>152</td>\n",
       "      <td>1250</td>\n",
       "      <td>1617</td>\n",
       "      <td>147</td>\n",
       "      <td>DL</td>\n",
       "      <td>120</td>\n",
       "      <td>25</td>\n",
       "      <td>30</td>\n",
       "      <td>MSP</td>\n",
       "      <td>ATL</td>\n",
       "      <td>906</td>\n",
       "      <td>9</td>\n",
       "      <td>18</td>\n",
       "      <td>1621</td>\n",
       "      <td>N938DL</td>\n",
       "      <td>1</td>\n",
       "      <td>37.593750</td>\n",
       "      <td>23.906250</td>\n",
       "      <td>60.09375</td>\n",
       "      <td>6.699219</td>\n",
       "      <td>29.203125</td>\n",
       "    </tr>\n",
       "    <tr>\n",
       "      <th>1928369</th>\n",
       "      <td>12</td>\n",
       "      <td>13</td>\n",
       "      <td>6</td>\n",
       "      <td>600</td>\n",
       "      <td>749</td>\n",
       "      <td>109</td>\n",
       "      <td>657</td>\n",
       "      <td>904</td>\n",
       "      <td>127</td>\n",
       "      <td>DL</td>\n",
       "      <td>78</td>\n",
       "      <td>75</td>\n",
       "      <td>57</td>\n",
       "      <td>RIC</td>\n",
       "      <td>ATL</td>\n",
       "      <td>481</td>\n",
       "      <td>15</td>\n",
       "      <td>34</td>\n",
       "      <td>1631</td>\n",
       "      <td>N3743H</td>\n",
       "      <td>2</td>\n",
       "      <td>37.593750</td>\n",
       "      <td>23.906250</td>\n",
       "      <td>60.09375</td>\n",
       "      <td>6.699219</td>\n",
       "      <td>29.203125</td>\n",
       "    </tr>\n",
       "    <tr>\n",
       "      <th>1928370</th>\n",
       "      <td>12</td>\n",
       "      <td>13</td>\n",
       "      <td>6</td>\n",
       "      <td>847</td>\n",
       "      <td>1010</td>\n",
       "      <td>143</td>\n",
       "      <td>1007</td>\n",
       "      <td>1149</td>\n",
       "      <td>162</td>\n",
       "      <td>DL</td>\n",
       "      <td>122</td>\n",
       "      <td>99</td>\n",
       "      <td>80</td>\n",
       "      <td>ATL</td>\n",
       "      <td>IAH</td>\n",
       "      <td>689</td>\n",
       "      <td>8</td>\n",
       "      <td>32</td>\n",
       "      <td>1631</td>\n",
       "      <td>N909DA</td>\n",
       "      <td>2</td>\n",
       "      <td>58.406250</td>\n",
       "      <td>50.812500</td>\n",
       "      <td>73.68750</td>\n",
       "      <td>11.898438</td>\n",
       "      <td>29.906250</td>\n",
       "    </tr>\n",
       "    <tr>\n",
       "      <th>1928371</th>\n",
       "      <td>12</td>\n",
       "      <td>13</td>\n",
       "      <td>6</td>\n",
       "      <td>1240</td>\n",
       "      <td>1437</td>\n",
       "      <td>117</td>\n",
       "      <td>1251</td>\n",
       "      <td>1446</td>\n",
       "      <td>115</td>\n",
       "      <td>DL</td>\n",
       "      <td>89</td>\n",
       "      <td>9</td>\n",
       "      <td>11</td>\n",
       "      <td>IAD</td>\n",
       "      <td>ATL</td>\n",
       "      <td>533</td>\n",
       "      <td>13</td>\n",
       "      <td>13</td>\n",
       "      <td>1639</td>\n",
       "      <td>N646DL</td>\n",
       "      <td>0</td>\n",
       "      <td>37.593750</td>\n",
       "      <td>23.906250</td>\n",
       "      <td>60.09375</td>\n",
       "      <td>6.699219</td>\n",
       "      <td>29.203125</td>\n",
       "    </tr>\n",
       "    <tr>\n",
       "      <th>1928372</th>\n",
       "      <td>12</td>\n",
       "      <td>13</td>\n",
       "      <td>6</td>\n",
       "      <td>1103</td>\n",
       "      <td>1418</td>\n",
       "      <td>135</td>\n",
       "      <td>1110</td>\n",
       "      <td>1413</td>\n",
       "      <td>123</td>\n",
       "      <td>DL</td>\n",
       "      <td>104</td>\n",
       "      <td>65531</td>\n",
       "      <td>7</td>\n",
       "      <td>SAT</td>\n",
       "      <td>ATL</td>\n",
       "      <td>874</td>\n",
       "      <td>8</td>\n",
       "      <td>11</td>\n",
       "      <td>1641</td>\n",
       "      <td>N908DL</td>\n",
       "      <td>3</td>\n",
       "      <td>37.593750</td>\n",
       "      <td>23.906250</td>\n",
       "      <td>60.09375</td>\n",
       "      <td>6.699219</td>\n",
       "      <td>29.203125</td>\n",
       "    </tr>\n",
       "  </tbody>\n",
       "</table>\n",
       "<p>1928373 rows × 26 columns</p>\n",
       "</div>\n",
       "      <button class=\"colab-df-convert\" onclick=\"convertToInteractive('df-0854535f-7b49-4de1-a8cc-e426e86408a6')\"\n",
       "              title=\"Convert this dataframe to an interactive table.\"\n",
       "              style=\"display:none;\">\n",
       "        \n",
       "  <svg xmlns=\"http://www.w3.org/2000/svg\" height=\"24px\"viewBox=\"0 0 24 24\"\n",
       "       width=\"24px\">\n",
       "    <path d=\"M0 0h24v24H0V0z\" fill=\"none\"/>\n",
       "    <path d=\"M18.56 5.44l.94 2.06.94-2.06 2.06-.94-2.06-.94-.94-2.06-.94 2.06-2.06.94zm-11 1L8.5 8.5l.94-2.06 2.06-.94-2.06-.94L8.5 2.5l-.94 2.06-2.06.94zm10 10l.94 2.06.94-2.06 2.06-.94-2.06-.94-.94-2.06-.94 2.06-2.06.94z\"/><path d=\"M17.41 7.96l-1.37-1.37c-.4-.4-.92-.59-1.43-.59-.52 0-1.04.2-1.43.59L10.3 9.45l-7.72 7.72c-.78.78-.78 2.05 0 2.83L4 21.41c.39.39.9.59 1.41.59.51 0 1.02-.2 1.41-.59l7.78-7.78 2.81-2.81c.8-.78.8-2.07 0-2.86zM5.41 20L4 18.59l7.72-7.72 1.47 1.35L5.41 20z\"/>\n",
       "  </svg>\n",
       "      </button>\n",
       "      \n",
       "  <style>\n",
       "    .colab-df-container {\n",
       "      display:flex;\n",
       "      flex-wrap:wrap;\n",
       "      gap: 12px;\n",
       "    }\n",
       "\n",
       "    .colab-df-convert {\n",
       "      background-color: #E8F0FE;\n",
       "      border: none;\n",
       "      border-radius: 50%;\n",
       "      cursor: pointer;\n",
       "      display: none;\n",
       "      fill: #1967D2;\n",
       "      height: 32px;\n",
       "      padding: 0 0 0 0;\n",
       "      width: 32px;\n",
       "    }\n",
       "\n",
       "    .colab-df-convert:hover {\n",
       "      background-color: #E2EBFA;\n",
       "      box-shadow: 0px 1px 2px rgba(60, 64, 67, 0.3), 0px 1px 3px 1px rgba(60, 64, 67, 0.15);\n",
       "      fill: #174EA6;\n",
       "    }\n",
       "\n",
       "    [theme=dark] .colab-df-convert {\n",
       "      background-color: #3B4455;\n",
       "      fill: #D2E3FC;\n",
       "    }\n",
       "\n",
       "    [theme=dark] .colab-df-convert:hover {\n",
       "      background-color: #434B5C;\n",
       "      box-shadow: 0px 1px 3px 1px rgba(0, 0, 0, 0.15);\n",
       "      filter: drop-shadow(0px 1px 2px rgba(0, 0, 0, 0.3));\n",
       "      fill: #FFFFFF;\n",
       "    }\n",
       "  </style>\n",
       "\n",
       "      <script>\n",
       "        const buttonEl =\n",
       "          document.querySelector('#df-0854535f-7b49-4de1-a8cc-e426e86408a6 button.colab-df-convert');\n",
       "        buttonEl.style.display =\n",
       "          google.colab.kernel.accessAllowed ? 'block' : 'none';\n",
       "\n",
       "        async function convertToInteractive(key) {\n",
       "          const element = document.querySelector('#df-0854535f-7b49-4de1-a8cc-e426e86408a6');\n",
       "          const dataTable =\n",
       "            await google.colab.kernel.invokeFunction('convertToInteractive',\n",
       "                                                     [key], {});\n",
       "          if (!dataTable) return;\n",
       "\n",
       "          const docLinkHtml = 'Like what you see? Visit the ' +\n",
       "            '<a target=\"_blank\" href=https://colab.research.google.com/notebooks/data_table.ipynb>data table notebook</a>'\n",
       "            + ' to learn more about interactive tables.';\n",
       "          element.innerHTML = '';\n",
       "          dataTable['output_type'] = 'display_data';\n",
       "          await google.colab.output.renderOutput(dataTable, element);\n",
       "          const docLink = document.createElement('div');\n",
       "          docLink.innerHTML = docLinkHtml;\n",
       "          element.appendChild(docLink);\n",
       "        }\n",
       "      </script>\n",
       "    </div>\n",
       "  </div>\n",
       "  "
      ],
      "text/plain": [
       "         Month  DayofMonth  DayOfWeek  CRSDepTime  CRSArrTime  CRSElapsedTime  \\\n",
       "0            1           3          4        1955        2225             150   \n",
       "1            1           3          4         735        1000             145   \n",
       "2            1           3          4         620         750              90   \n",
       "3            1           3          4        1755        1925              90   \n",
       "4            1           3          4        1915        2110             115   \n",
       "...        ...         ...        ...         ...         ...             ...   \n",
       "1928368     12          13          6        1220        1552             152   \n",
       "1928369     12          13          6         600         749             109   \n",
       "1928370     12          13          6         847        1010             143   \n",
       "1928371     12          13          6        1240        1437             117   \n",
       "1928372     12          13          6        1103        1418             135   \n",
       "\n",
       "         DepTime  ArrTime  ActualElapsedTime UniqueCarrier  AirTime  ArrDelay  \\\n",
       "0           2003     2211                128            WN      116     65522   \n",
       "1            754     1002                128            WN      113         2   \n",
       "2            628      804                 96            WN       76        14   \n",
       "3           1829     1959                 90            WN       77        34   \n",
       "4           1940     2121                101            WN       87        11   \n",
       "...          ...      ...                ...           ...      ...       ...   \n",
       "1928368     1250     1617                147            DL      120        25   \n",
       "1928369      657      904                127            DL       78        75   \n",
       "1928370     1007     1149                162            DL      122        99   \n",
       "1928371     1251     1446                115            DL       89         9   \n",
       "1928372     1110     1413                123            DL      104     65531   \n",
       "\n",
       "         DepDelay Origin Dest  Distance  TaxiIn  TaxiOut  FlightNum TailNum  \\\n",
       "0               8    IAD  TPA       810       4        8        335  N712SW   \n",
       "1              19    IAD  TPA       810       5       10       3231  N772SW   \n",
       "2               8    IND  BWI       515       3       17        448  N428WN   \n",
       "3              34    IND  BWI       515       3       10       3920  N464WN   \n",
       "4              25    IND  JAX       688       4       10        378  N726SW   \n",
       "...           ...    ...  ...       ...     ...      ...        ...     ...   \n",
       "1928368        30    MSP  ATL       906       9       18       1621  N938DL   \n",
       "1928369        57    RIC  ATL       481      15       34       1631  N3743H   \n",
       "1928370        80    ATL  IAH       689       8       32       1631  N909DA   \n",
       "1928371        11    IAD  ATL       533      13       13       1639  N646DL   \n",
       "1928372         7    SAT  ATL       874       8       11       1641  N908DL   \n",
       "\n",
       "         DelayCategories  Temperature (°F)  Dew Point (°F)  Humidity (%)  \\\n",
       "0                      3         41.093750       19.406250      42.50000   \n",
       "1                      0         41.093750       19.406250      42.50000   \n",
       "2                      0         23.296875        6.898438      50.59375   \n",
       "3                      1         23.296875        6.898438      50.59375   \n",
       "4                      0         32.687500       17.296875      53.59375   \n",
       "...                  ...               ...             ...           ...   \n",
       "1928368                1         37.593750       23.906250      60.09375   \n",
       "1928369                2         37.593750       23.906250      60.09375   \n",
       "1928370                2         58.406250       50.812500      73.68750   \n",
       "1928371                0         37.593750       23.906250      60.09375   \n",
       "1928372                3         37.593750       23.906250      60.09375   \n",
       "\n",
       "         Wind Speed (mph)  Pressure (in)  \n",
       "0               13.203125      30.593750  \n",
       "1               13.203125      30.593750  \n",
       "2                7.898438      30.500000  \n",
       "3                7.898438      30.500000  \n",
       "4                9.101562      30.593750  \n",
       "...                   ...            ...  \n",
       "1928368          6.699219      29.203125  \n",
       "1928369          6.699219      29.203125  \n",
       "1928370         11.898438      29.906250  \n",
       "1928371          6.699219      29.203125  \n",
       "1928372          6.699219      29.203125  \n",
       "\n",
       "[1928373 rows x 26 columns]"
      ]
     },
     "execution_count": 26,
     "metadata": {},
     "output_type": "execute_result"
    }
   ],
   "source": [
    "# Merge the two dataframes on the three common columns using left join\n",
    "merged_df = pd.merge(data_df, weather_df, on=[\"Month\", \"DayofMonth\", \"Dest\"], how=\"left\")\n",
    "merged_df"
   ]
  },
  {
   "cell_type": "code",
   "execution_count": 27,
   "metadata": {
    "executionInfo": {
     "elapsed": 849,
     "status": "ok",
     "timestamp": 1663262245377,
     "user": {
      "displayName": "Srinath Nanduri",
      "userId": "16683609937496845667"
     },
     "user_tz": 420
    },
    "id": "GdNNjOK8scHc"
   },
   "outputs": [],
   "source": [
    "# Drop all null values\n",
    "merged_df = merged_df.dropna()"
   ]
  },
  {
   "cell_type": "markdown",
   "metadata": {
    "id": "Iimbn4oNdGTj"
   },
   "source": [
    "## Extract Features From Data"
   ]
  },
  {
   "cell_type": "markdown",
   "metadata": {
    "id": "4iHLmJRqd90M"
   },
   "source": [
    "Feature engineer is the process of creating new features (columns) by transforming/combining existing features or by incorporating data from external sources.\n",
    "\n",
    "From the \"Month\" column, we can create the \"Season\" feature, which can help decipher if people fly more during summer vacation or winter holidays for example."
   ]
  },
  {
   "cell_type": "code",
   "execution_count": 28,
   "metadata": {
    "colab": {
     "base_uri": "https://localhost:8080/"
    },
    "executionInfo": {
     "elapsed": 9,
     "status": "ok",
     "timestamp": 1663262245378,
     "user": {
      "displayName": "Srinath Nanduri",
      "userId": "16683609937496845667"
     },
     "user_tz": 420
    },
    "id": "0KzXWzcud6n4",
    "outputId": "789e06a2-b3a7-450c-f3c2-a6997ab90831"
   },
   "outputs": [
    {
     "name": "stderr",
     "output_type": "stream",
     "text": [
      "/usr/local/lib/python3.7/dist-packages/ipykernel_launcher.py:2: SettingWithCopyWarning: \n",
      "A value is trying to be set on a copy of a slice from a DataFrame.\n",
      "Try using .loc[row_indexer,col_indexer] = value instead\n",
      "\n",
      "See the caveats in the documentation: https://pandas.pydata.org/pandas-docs/stable/user_guide/indexing.html#returning-a-view-versus-a-copy\n",
      "  \n"
     ]
    }
   ],
   "source": [
    "# Grab the season from the months\n",
    "merged_df['Season'] = merged_df.Month % 12 // 3 + 1"
   ]
  },
  {
   "cell_type": "code",
   "execution_count": 29,
   "metadata": {
    "colab": {
     "base_uri": "https://localhost:8080/"
    },
    "executionInfo": {
     "elapsed": 7,
     "status": "ok",
     "timestamp": 1663262245379,
     "user": {
      "displayName": "Srinath Nanduri",
      "userId": "16683609937496845667"
     },
     "user_tz": 420
    },
    "id": "Ys3e9dBU6-E0",
    "outputId": "bd4a1636-530d-4d64-a476-62045bbf72ee"
   },
   "outputs": [
    {
     "data": {
      "text/plain": [
       "array([1, 2, 3, 4], dtype=uint8)"
      ]
     },
     "execution_count": 29,
     "metadata": {},
     "output_type": "execute_result"
    }
   ],
   "source": [
    "merged_df.Season.unique()"
   ]
  },
  {
   "cell_type": "markdown",
   "metadata": {
    "id": "7-QTJnQtAAQh"
   },
   "source": [
    "Season Legend:\n",
    "\n",
    "1. Winter\n",
    "2. Spring\n",
    "3. Summer\n",
    "4. Fall"
   ]
  },
  {
   "cell_type": "code",
   "execution_count": 30,
   "metadata": {
    "colab": {
     "base_uri": "https://localhost:8080/",
     "height": 522
    },
    "executionInfo": {
     "elapsed": 5,
     "status": "ok",
     "timestamp": 1663262245379,
     "user": {
      "displayName": "Srinath Nanduri",
      "userId": "16683609937496845667"
     },
     "user_tz": 420
    },
    "id": "z1qGTFTp6P5b",
    "outputId": "77234d77-9ded-4bc7-d88c-4de464f79883"
   },
   "outputs": [
    {
     "data": {
      "text/html": [
       "\n",
       "  <div id=\"df-45a19c5f-9810-4dfc-ade7-70e87e63cede\">\n",
       "    <div class=\"colab-df-container\">\n",
       "      <div>\n",
       "<style scoped>\n",
       "    .dataframe tbody tr th:only-of-type {\n",
       "        vertical-align: middle;\n",
       "    }\n",
       "\n",
       "    .dataframe tbody tr th {\n",
       "        vertical-align: top;\n",
       "    }\n",
       "\n",
       "    .dataframe thead th {\n",
       "        text-align: right;\n",
       "    }\n",
       "</style>\n",
       "<table border=\"1\" class=\"dataframe\">\n",
       "  <thead>\n",
       "    <tr style=\"text-align: right;\">\n",
       "      <th></th>\n",
       "      <th>Month</th>\n",
       "      <th>DayofMonth</th>\n",
       "      <th>DayOfWeek</th>\n",
       "      <th>CRSDepTime</th>\n",
       "      <th>CRSArrTime</th>\n",
       "      <th>CRSElapsedTime</th>\n",
       "      <th>DepTime</th>\n",
       "      <th>ArrTime</th>\n",
       "      <th>ActualElapsedTime</th>\n",
       "      <th>UniqueCarrier</th>\n",
       "      <th>AirTime</th>\n",
       "      <th>ArrDelay</th>\n",
       "      <th>DepDelay</th>\n",
       "      <th>Origin</th>\n",
       "      <th>Dest</th>\n",
       "      <th>Distance</th>\n",
       "      <th>TaxiIn</th>\n",
       "      <th>TaxiOut</th>\n",
       "      <th>FlightNum</th>\n",
       "      <th>TailNum</th>\n",
       "      <th>DelayCategories</th>\n",
       "      <th>Temperature (°F)</th>\n",
       "      <th>Dew Point (°F)</th>\n",
       "      <th>Humidity (%)</th>\n",
       "      <th>Wind Speed (mph)</th>\n",
       "      <th>Pressure (in)</th>\n",
       "      <th>Season</th>\n",
       "    </tr>\n",
       "  </thead>\n",
       "  <tbody>\n",
       "    <tr>\n",
       "      <th>0</th>\n",
       "      <td>1</td>\n",
       "      <td>3</td>\n",
       "      <td>4</td>\n",
       "      <td>1955</td>\n",
       "      <td>2225</td>\n",
       "      <td>150</td>\n",
       "      <td>2003</td>\n",
       "      <td>2211</td>\n",
       "      <td>128</td>\n",
       "      <td>WN</td>\n",
       "      <td>116</td>\n",
       "      <td>65522</td>\n",
       "      <td>8</td>\n",
       "      <td>IAD</td>\n",
       "      <td>TPA</td>\n",
       "      <td>810</td>\n",
       "      <td>4</td>\n",
       "      <td>8</td>\n",
       "      <td>335</td>\n",
       "      <td>N712SW</td>\n",
       "      <td>3</td>\n",
       "      <td>41.093750</td>\n",
       "      <td>19.406250</td>\n",
       "      <td>42.50000</td>\n",
       "      <td>13.203125</td>\n",
       "      <td>30.593750</td>\n",
       "      <td>1</td>\n",
       "    </tr>\n",
       "    <tr>\n",
       "      <th>1</th>\n",
       "      <td>1</td>\n",
       "      <td>3</td>\n",
       "      <td>4</td>\n",
       "      <td>735</td>\n",
       "      <td>1000</td>\n",
       "      <td>145</td>\n",
       "      <td>754</td>\n",
       "      <td>1002</td>\n",
       "      <td>128</td>\n",
       "      <td>WN</td>\n",
       "      <td>113</td>\n",
       "      <td>2</td>\n",
       "      <td>19</td>\n",
       "      <td>IAD</td>\n",
       "      <td>TPA</td>\n",
       "      <td>810</td>\n",
       "      <td>5</td>\n",
       "      <td>10</td>\n",
       "      <td>3231</td>\n",
       "      <td>N772SW</td>\n",
       "      <td>0</td>\n",
       "      <td>41.093750</td>\n",
       "      <td>19.406250</td>\n",
       "      <td>42.50000</td>\n",
       "      <td>13.203125</td>\n",
       "      <td>30.593750</td>\n",
       "      <td>1</td>\n",
       "    </tr>\n",
       "    <tr>\n",
       "      <th>2</th>\n",
       "      <td>1</td>\n",
       "      <td>3</td>\n",
       "      <td>4</td>\n",
       "      <td>620</td>\n",
       "      <td>750</td>\n",
       "      <td>90</td>\n",
       "      <td>628</td>\n",
       "      <td>804</td>\n",
       "      <td>96</td>\n",
       "      <td>WN</td>\n",
       "      <td>76</td>\n",
       "      <td>14</td>\n",
       "      <td>8</td>\n",
       "      <td>IND</td>\n",
       "      <td>BWI</td>\n",
       "      <td>515</td>\n",
       "      <td>3</td>\n",
       "      <td>17</td>\n",
       "      <td>448</td>\n",
       "      <td>N428WN</td>\n",
       "      <td>0</td>\n",
       "      <td>23.296875</td>\n",
       "      <td>6.898438</td>\n",
       "      <td>50.59375</td>\n",
       "      <td>7.898438</td>\n",
       "      <td>30.500000</td>\n",
       "      <td>1</td>\n",
       "    </tr>\n",
       "    <tr>\n",
       "      <th>3</th>\n",
       "      <td>1</td>\n",
       "      <td>3</td>\n",
       "      <td>4</td>\n",
       "      <td>1755</td>\n",
       "      <td>1925</td>\n",
       "      <td>90</td>\n",
       "      <td>1829</td>\n",
       "      <td>1959</td>\n",
       "      <td>90</td>\n",
       "      <td>WN</td>\n",
       "      <td>77</td>\n",
       "      <td>34</td>\n",
       "      <td>34</td>\n",
       "      <td>IND</td>\n",
       "      <td>BWI</td>\n",
       "      <td>515</td>\n",
       "      <td>3</td>\n",
       "      <td>10</td>\n",
       "      <td>3920</td>\n",
       "      <td>N464WN</td>\n",
       "      <td>1</td>\n",
       "      <td>23.296875</td>\n",
       "      <td>6.898438</td>\n",
       "      <td>50.59375</td>\n",
       "      <td>7.898438</td>\n",
       "      <td>30.500000</td>\n",
       "      <td>1</td>\n",
       "    </tr>\n",
       "    <tr>\n",
       "      <th>4</th>\n",
       "      <td>1</td>\n",
       "      <td>3</td>\n",
       "      <td>4</td>\n",
       "      <td>1915</td>\n",
       "      <td>2110</td>\n",
       "      <td>115</td>\n",
       "      <td>1940</td>\n",
       "      <td>2121</td>\n",
       "      <td>101</td>\n",
       "      <td>WN</td>\n",
       "      <td>87</td>\n",
       "      <td>11</td>\n",
       "      <td>25</td>\n",
       "      <td>IND</td>\n",
       "      <td>JAX</td>\n",
       "      <td>688</td>\n",
       "      <td>4</td>\n",
       "      <td>10</td>\n",
       "      <td>378</td>\n",
       "      <td>N726SW</td>\n",
       "      <td>0</td>\n",
       "      <td>32.687500</td>\n",
       "      <td>17.296875</td>\n",
       "      <td>53.59375</td>\n",
       "      <td>9.101562</td>\n",
       "      <td>30.593750</td>\n",
       "      <td>1</td>\n",
       "    </tr>\n",
       "    <tr>\n",
       "      <th>...</th>\n",
       "      <td>...</td>\n",
       "      <td>...</td>\n",
       "      <td>...</td>\n",
       "      <td>...</td>\n",
       "      <td>...</td>\n",
       "      <td>...</td>\n",
       "      <td>...</td>\n",
       "      <td>...</td>\n",
       "      <td>...</td>\n",
       "      <td>...</td>\n",
       "      <td>...</td>\n",
       "      <td>...</td>\n",
       "      <td>...</td>\n",
       "      <td>...</td>\n",
       "      <td>...</td>\n",
       "      <td>...</td>\n",
       "      <td>...</td>\n",
       "      <td>...</td>\n",
       "      <td>...</td>\n",
       "      <td>...</td>\n",
       "      <td>...</td>\n",
       "      <td>...</td>\n",
       "      <td>...</td>\n",
       "      <td>...</td>\n",
       "      <td>...</td>\n",
       "      <td>...</td>\n",
       "      <td>...</td>\n",
       "    </tr>\n",
       "    <tr>\n",
       "      <th>1750741</th>\n",
       "      <td>12</td>\n",
       "      <td>13</td>\n",
       "      <td>6</td>\n",
       "      <td>1220</td>\n",
       "      <td>1552</td>\n",
       "      <td>152</td>\n",
       "      <td>1250</td>\n",
       "      <td>1617</td>\n",
       "      <td>147</td>\n",
       "      <td>DL</td>\n",
       "      <td>120</td>\n",
       "      <td>25</td>\n",
       "      <td>30</td>\n",
       "      <td>MSP</td>\n",
       "      <td>ATL</td>\n",
       "      <td>906</td>\n",
       "      <td>9</td>\n",
       "      <td>18</td>\n",
       "      <td>1621</td>\n",
       "      <td>N938DL</td>\n",
       "      <td>1</td>\n",
       "      <td>37.593750</td>\n",
       "      <td>23.906250</td>\n",
       "      <td>60.09375</td>\n",
       "      <td>6.699219</td>\n",
       "      <td>29.203125</td>\n",
       "      <td>1</td>\n",
       "    </tr>\n",
       "    <tr>\n",
       "      <th>1750742</th>\n",
       "      <td>12</td>\n",
       "      <td>13</td>\n",
       "      <td>6</td>\n",
       "      <td>600</td>\n",
       "      <td>749</td>\n",
       "      <td>109</td>\n",
       "      <td>657</td>\n",
       "      <td>904</td>\n",
       "      <td>127</td>\n",
       "      <td>DL</td>\n",
       "      <td>78</td>\n",
       "      <td>75</td>\n",
       "      <td>57</td>\n",
       "      <td>RIC</td>\n",
       "      <td>ATL</td>\n",
       "      <td>481</td>\n",
       "      <td>15</td>\n",
       "      <td>34</td>\n",
       "      <td>1631</td>\n",
       "      <td>N3743H</td>\n",
       "      <td>2</td>\n",
       "      <td>37.593750</td>\n",
       "      <td>23.906250</td>\n",
       "      <td>60.09375</td>\n",
       "      <td>6.699219</td>\n",
       "      <td>29.203125</td>\n",
       "      <td>1</td>\n",
       "    </tr>\n",
       "    <tr>\n",
       "      <th>1750743</th>\n",
       "      <td>12</td>\n",
       "      <td>13</td>\n",
       "      <td>6</td>\n",
       "      <td>847</td>\n",
       "      <td>1010</td>\n",
       "      <td>143</td>\n",
       "      <td>1007</td>\n",
       "      <td>1149</td>\n",
       "      <td>162</td>\n",
       "      <td>DL</td>\n",
       "      <td>122</td>\n",
       "      <td>99</td>\n",
       "      <td>80</td>\n",
       "      <td>ATL</td>\n",
       "      <td>IAH</td>\n",
       "      <td>689</td>\n",
       "      <td>8</td>\n",
       "      <td>32</td>\n",
       "      <td>1631</td>\n",
       "      <td>N909DA</td>\n",
       "      <td>2</td>\n",
       "      <td>58.406250</td>\n",
       "      <td>50.812500</td>\n",
       "      <td>73.68750</td>\n",
       "      <td>11.898438</td>\n",
       "      <td>29.906250</td>\n",
       "      <td>1</td>\n",
       "    </tr>\n",
       "    <tr>\n",
       "      <th>1750744</th>\n",
       "      <td>12</td>\n",
       "      <td>13</td>\n",
       "      <td>6</td>\n",
       "      <td>1240</td>\n",
       "      <td>1437</td>\n",
       "      <td>117</td>\n",
       "      <td>1251</td>\n",
       "      <td>1446</td>\n",
       "      <td>115</td>\n",
       "      <td>DL</td>\n",
       "      <td>89</td>\n",
       "      <td>9</td>\n",
       "      <td>11</td>\n",
       "      <td>IAD</td>\n",
       "      <td>ATL</td>\n",
       "      <td>533</td>\n",
       "      <td>13</td>\n",
       "      <td>13</td>\n",
       "      <td>1639</td>\n",
       "      <td>N646DL</td>\n",
       "      <td>0</td>\n",
       "      <td>37.593750</td>\n",
       "      <td>23.906250</td>\n",
       "      <td>60.09375</td>\n",
       "      <td>6.699219</td>\n",
       "      <td>29.203125</td>\n",
       "      <td>1</td>\n",
       "    </tr>\n",
       "    <tr>\n",
       "      <th>1750745</th>\n",
       "      <td>12</td>\n",
       "      <td>13</td>\n",
       "      <td>6</td>\n",
       "      <td>1103</td>\n",
       "      <td>1418</td>\n",
       "      <td>135</td>\n",
       "      <td>1110</td>\n",
       "      <td>1413</td>\n",
       "      <td>123</td>\n",
       "      <td>DL</td>\n",
       "      <td>104</td>\n",
       "      <td>65531</td>\n",
       "      <td>7</td>\n",
       "      <td>SAT</td>\n",
       "      <td>ATL</td>\n",
       "      <td>874</td>\n",
       "      <td>8</td>\n",
       "      <td>11</td>\n",
       "      <td>1641</td>\n",
       "      <td>N908DL</td>\n",
       "      <td>3</td>\n",
       "      <td>37.593750</td>\n",
       "      <td>23.906250</td>\n",
       "      <td>60.09375</td>\n",
       "      <td>6.699219</td>\n",
       "      <td>29.203125</td>\n",
       "      <td>1</td>\n",
       "    </tr>\n",
       "  </tbody>\n",
       "</table>\n",
       "<p>1750746 rows × 27 columns</p>\n",
       "</div>\n",
       "      <button class=\"colab-df-convert\" onclick=\"convertToInteractive('df-45a19c5f-9810-4dfc-ade7-70e87e63cede')\"\n",
       "              title=\"Convert this dataframe to an interactive table.\"\n",
       "              style=\"display:none;\">\n",
       "        \n",
       "  <svg xmlns=\"http://www.w3.org/2000/svg\" height=\"24px\"viewBox=\"0 0 24 24\"\n",
       "       width=\"24px\">\n",
       "    <path d=\"M0 0h24v24H0V0z\" fill=\"none\"/>\n",
       "    <path d=\"M18.56 5.44l.94 2.06.94-2.06 2.06-.94-2.06-.94-.94-2.06-.94 2.06-2.06.94zm-11 1L8.5 8.5l.94-2.06 2.06-.94-2.06-.94L8.5 2.5l-.94 2.06-2.06.94zm10 10l.94 2.06.94-2.06 2.06-.94-2.06-.94-.94-2.06-.94 2.06-2.06.94z\"/><path d=\"M17.41 7.96l-1.37-1.37c-.4-.4-.92-.59-1.43-.59-.52 0-1.04.2-1.43.59L10.3 9.45l-7.72 7.72c-.78.78-.78 2.05 0 2.83L4 21.41c.39.39.9.59 1.41.59.51 0 1.02-.2 1.41-.59l7.78-7.78 2.81-2.81c.8-.78.8-2.07 0-2.86zM5.41 20L4 18.59l7.72-7.72 1.47 1.35L5.41 20z\"/>\n",
       "  </svg>\n",
       "      </button>\n",
       "      \n",
       "  <style>\n",
       "    .colab-df-container {\n",
       "      display:flex;\n",
       "      flex-wrap:wrap;\n",
       "      gap: 12px;\n",
       "    }\n",
       "\n",
       "    .colab-df-convert {\n",
       "      background-color: #E8F0FE;\n",
       "      border: none;\n",
       "      border-radius: 50%;\n",
       "      cursor: pointer;\n",
       "      display: none;\n",
       "      fill: #1967D2;\n",
       "      height: 32px;\n",
       "      padding: 0 0 0 0;\n",
       "      width: 32px;\n",
       "    }\n",
       "\n",
       "    .colab-df-convert:hover {\n",
       "      background-color: #E2EBFA;\n",
       "      box-shadow: 0px 1px 2px rgba(60, 64, 67, 0.3), 0px 1px 3px 1px rgba(60, 64, 67, 0.15);\n",
       "      fill: #174EA6;\n",
       "    }\n",
       "\n",
       "    [theme=dark] .colab-df-convert {\n",
       "      background-color: #3B4455;\n",
       "      fill: #D2E3FC;\n",
       "    }\n",
       "\n",
       "    [theme=dark] .colab-df-convert:hover {\n",
       "      background-color: #434B5C;\n",
       "      box-shadow: 0px 1px 3px 1px rgba(0, 0, 0, 0.15);\n",
       "      filter: drop-shadow(0px 1px 2px rgba(0, 0, 0, 0.3));\n",
       "      fill: #FFFFFF;\n",
       "    }\n",
       "  </style>\n",
       "\n",
       "      <script>\n",
       "        const buttonEl =\n",
       "          document.querySelector('#df-45a19c5f-9810-4dfc-ade7-70e87e63cede button.colab-df-convert');\n",
       "        buttonEl.style.display =\n",
       "          google.colab.kernel.accessAllowed ? 'block' : 'none';\n",
       "\n",
       "        async function convertToInteractive(key) {\n",
       "          const element = document.querySelector('#df-45a19c5f-9810-4dfc-ade7-70e87e63cede');\n",
       "          const dataTable =\n",
       "            await google.colab.kernel.invokeFunction('convertToInteractive',\n",
       "                                                     [key], {});\n",
       "          if (!dataTable) return;\n",
       "\n",
       "          const docLinkHtml = 'Like what you see? Visit the ' +\n",
       "            '<a target=\"_blank\" href=https://colab.research.google.com/notebooks/data_table.ipynb>data table notebook</a>'\n",
       "            + ' to learn more about interactive tables.';\n",
       "          element.innerHTML = '';\n",
       "          dataTable['output_type'] = 'display_data';\n",
       "          await google.colab.output.renderOutput(dataTable, element);\n",
       "          const docLink = document.createElement('div');\n",
       "          docLink.innerHTML = docLinkHtml;\n",
       "          element.appendChild(docLink);\n",
       "        }\n",
       "      </script>\n",
       "    </div>\n",
       "  </div>\n",
       "  "
      ],
      "text/plain": [
       "         Month  DayofMonth  DayOfWeek  CRSDepTime  CRSArrTime  CRSElapsedTime  \\\n",
       "0            1           3          4        1955        2225             150   \n",
       "1            1           3          4         735        1000             145   \n",
       "2            1           3          4         620         750              90   \n",
       "3            1           3          4        1755        1925              90   \n",
       "4            1           3          4        1915        2110             115   \n",
       "...        ...         ...        ...         ...         ...             ...   \n",
       "1750741     12          13          6        1220        1552             152   \n",
       "1750742     12          13          6         600         749             109   \n",
       "1750743     12          13          6         847        1010             143   \n",
       "1750744     12          13          6        1240        1437             117   \n",
       "1750745     12          13          6        1103        1418             135   \n",
       "\n",
       "         DepTime  ArrTime  ActualElapsedTime UniqueCarrier  AirTime  ArrDelay  \\\n",
       "0           2003     2211                128            WN      116     65522   \n",
       "1            754     1002                128            WN      113         2   \n",
       "2            628      804                 96            WN       76        14   \n",
       "3           1829     1959                 90            WN       77        34   \n",
       "4           1940     2121                101            WN       87        11   \n",
       "...          ...      ...                ...           ...      ...       ...   \n",
       "1750741     1250     1617                147            DL      120        25   \n",
       "1750742      657      904                127            DL       78        75   \n",
       "1750743     1007     1149                162            DL      122        99   \n",
       "1750744     1251     1446                115            DL       89         9   \n",
       "1750745     1110     1413                123            DL      104     65531   \n",
       "\n",
       "         DepDelay Origin Dest  Distance  TaxiIn  TaxiOut  FlightNum TailNum  \\\n",
       "0               8    IAD  TPA       810       4        8        335  N712SW   \n",
       "1              19    IAD  TPA       810       5       10       3231  N772SW   \n",
       "2               8    IND  BWI       515       3       17        448  N428WN   \n",
       "3              34    IND  BWI       515       3       10       3920  N464WN   \n",
       "4              25    IND  JAX       688       4       10        378  N726SW   \n",
       "...           ...    ...  ...       ...     ...      ...        ...     ...   \n",
       "1750741        30    MSP  ATL       906       9       18       1621  N938DL   \n",
       "1750742        57    RIC  ATL       481      15       34       1631  N3743H   \n",
       "1750743        80    ATL  IAH       689       8       32       1631  N909DA   \n",
       "1750744        11    IAD  ATL       533      13       13       1639  N646DL   \n",
       "1750745         7    SAT  ATL       874       8       11       1641  N908DL   \n",
       "\n",
       "         DelayCategories  Temperature (°F)  Dew Point (°F)  Humidity (%)  \\\n",
       "0                      3         41.093750       19.406250      42.50000   \n",
       "1                      0         41.093750       19.406250      42.50000   \n",
       "2                      0         23.296875        6.898438      50.59375   \n",
       "3                      1         23.296875        6.898438      50.59375   \n",
       "4                      0         32.687500       17.296875      53.59375   \n",
       "...                  ...               ...             ...           ...   \n",
       "1750741                1         37.593750       23.906250      60.09375   \n",
       "1750742                2         37.593750       23.906250      60.09375   \n",
       "1750743                2         58.406250       50.812500      73.68750   \n",
       "1750744                0         37.593750       23.906250      60.09375   \n",
       "1750745                3         37.593750       23.906250      60.09375   \n",
       "\n",
       "         Wind Speed (mph)  Pressure (in)  Season  \n",
       "0               13.203125      30.593750       1  \n",
       "1               13.203125      30.593750       1  \n",
       "2                7.898438      30.500000       1  \n",
       "3                7.898438      30.500000       1  \n",
       "4                9.101562      30.593750       1  \n",
       "...                   ...            ...     ...  \n",
       "1750741          6.699219      29.203125       1  \n",
       "1750742          6.699219      29.203125       1  \n",
       "1750743         11.898438      29.906250       1  \n",
       "1750744          6.699219      29.203125       1  \n",
       "1750745          6.699219      29.203125       1  \n",
       "\n",
       "[1750746 rows x 27 columns]"
      ]
     },
     "execution_count": 30,
     "metadata": {},
     "output_type": "execute_result"
    }
   ],
   "source": [
    "merged_df = merged_df.reset_index(drop=True)\n",
    "merged_df"
   ]
  },
  {
   "cell_type": "code",
   "execution_count": 31,
   "metadata": {
    "colab": {
     "base_uri": "https://localhost:8080/",
     "height": 416
    },
    "executionInfo": {
     "elapsed": 1026,
     "status": "ok",
     "timestamp": 1663262246401,
     "user": {
      "displayName": "Srinath Nanduri",
      "userId": "16683609937496845667"
     },
     "user_tz": 420
    },
    "id": "q9ESI3qLhVgC",
    "outputId": "f7606183-b4a8-47d6-c123-a04872845b0d"
   },
   "outputs": [
    {
     "data": {
      "image/png": "[encoded data removed]",
      "text/plain": [
       "<Figure size 720x432 with 1 Axes>"
      ]
     },
     "metadata": {
      "needs_background": "light"
     },
     "output_type": "display_data"
    }
   ],
   "source": [
    "plt.title(\"Delay per Season\")\n",
    "season = sns.barplot(data=merged_df.sample(10000), x='Season', y='ArrDelay')\n",
    "season.set_xticklabels(['Winter', 'Spring', 'Summer', 'Fall'], fontdict=None, minor=False)\n",
    "plt.show()"
   ]
  },
  {
   "cell_type": "code",
   "execution_count": 32,
   "metadata": {
    "colab": {
     "base_uri": "https://localhost:8080/",
     "height": 520
    },
    "executionInfo": {
     "elapsed": 3074,
     "status": "ok",
     "timestamp": 1663262249471,
     "user": {
      "displayName": "Srinath Nanduri",
      "userId": "16683609937496845667"
     },
     "user_tz": 420
    },
    "id": "4UAtyX6BMHtL",
    "outputId": "7135ee2f-7c27-4679-bdac-9b31c524390d"
   },
   "outputs": [
    {
     "data": {
      "text/plain": [
       "<matplotlib.axes._subplots.AxesSubplot at 0x7f8dd0bd0910>"
      ]
     },
     "execution_count": 32,
     "metadata": {},
     "output_type": "execute_result"
    },
    {
     "data": {
      "image/png": "[encoded data removed]",
      "text/plain": [
       "<Figure size 720x432 with 2 Axes>"
      ]
     },
     "metadata": {
      "needs_background": "light"
     },
     "output_type": "display_data"
    }
   ],
   "source": [
    "sns.heatmap(merged_df.corr())"
   ]
  },
  {
   "cell_type": "markdown",
   "metadata": {
    "id": "5nRkCHIQ5aia"
   },
   "source": [
    "# 7. Training/Validation/Test\n",
    "\n",
    "## Section Outline\n",
    "\n",
    "- Take a 10% sample of the dataset to reduce the size\n",
    "- Create a split of 60/20/20 for Train/Val/Test datasets\n",
    "- Separate input columns from output\n",
    "- Separate numerical columns from categorical\n",
    "- Create a dataframe for each of the splits for inputs and a series for the output\n"
   ]
  },
  {
   "cell_type": "code",
   "execution_count": 33,
   "metadata": {
    "executionInfo": {
     "elapsed": 7,
     "status": "ok",
     "timestamp": 1663262249471,
     "user": {
      "displayName": "Srinath Nanduri",
      "userId": "16683609937496845667"
     },
     "user_tz": 420
    },
    "id": "jnDf_hcp5tJH"
   },
   "outputs": [],
   "source": [
    "# Create a sample of the database to use for machine learning to reduce processing time\n",
    "use_sample = True\n",
    "sample_fraction = 0.1\n",
    "if use_sample:\n",
    "  merged_df = merged_df.sample(frac=sample_fraction).copy()"
   ]
  },
  {
   "cell_type": "code",
   "execution_count": 34,
   "metadata": {
    "executionInfo": {
     "elapsed": 7,
     "status": "ok",
     "timestamp": 1663262249472,
     "user": {
      "displayName": "Srinath Nanduri",
      "userId": "16683609937496845667"
     },
     "user_tz": 420
    },
    "id": "FtzxNqqpvTmw"
   },
   "outputs": [],
   "source": [
    "# Assign the training dataset size and the split size\n",
    "train_size = int(.6 * len(merged_df))\n",
    "split_size = int(.8 * len(merged_df))"
   ]
  },
  {
   "cell_type": "code",
   "execution_count": 35,
   "metadata": {
    "colab": {
     "base_uri": "https://localhost:8080/"
    },
    "executionInfo": {
     "elapsed": 7,
     "status": "ok",
     "timestamp": 1663262249472,
     "user": {
      "displayName": "Srinath Nanduri",
      "userId": "16683609937496845667"
     },
     "user_tz": 420
    },
    "id": "PlCYe9Fyvt2Z",
    "outputId": "ae74ba18-aeae-4f42-f215-f6632cc14d8f"
   },
   "outputs": [
    {
     "data": {
      "text/plain": [
       "(105045, 35015, 35015)"
      ]
     },
     "execution_count": 35,
     "metadata": {},
     "output_type": "execute_result"
    }
   ],
   "source": [
    "# Create 3 new dataframes, one for each of the splits\n",
    "train_df, val_df, test_df  = merged_df[:train_size], merged_df[train_size:split_size], merged_df[split_size:]\n",
    "len(train_df), len(val_df), len(test_df)"
   ]
  },
  {
   "cell_type": "code",
   "execution_count": 36,
   "metadata": {
    "executionInfo": {
     "elapsed": 5,
     "status": "ok",
     "timestamp": 1663262249472,
     "user": {
      "displayName": "Srinath Nanduri",
      "userId": "16683609937496845667"
     },
     "user_tz": 420
    },
    "id": "ulDUY4Vwzied"
   },
   "outputs": [],
   "source": [
    "# Separate input and target columns\n",
    "input_cols = ['Month', 'DayofMonth', 'DayOfWeek', 'UniqueCarrier', 'TailNum',\n",
    "              'Origin', 'Dest', 'DepDelay', 'Distance', 'TaxiIn', 'TaxiOut', \n",
    "              'Season', 'Temperature (°F)', 'Dew Point (°F)', 'Humidity (%)', \n",
    "              'Wind Speed (mph)', 'Pressure (in)', 'FlightNum']\n",
    "\n",
    "target_cols = 'DelayCategories'\n",
    "\n",
    "\n",
    "# Separate numeric and categorical columns\n",
    "numeric_cols = ['DepDelay', 'Distance', 'TaxiIn', 'TaxiOut', \n",
    "              'Season', 'Temperature (°F)', 'Dew Point (°F)', 'Humidity (%)', \n",
    "              'Wind Speed (mph)', 'Pressure (in)', 'FlightNum']\n",
    "\n",
    "categorical_cols = ['DayofMonth', 'DayOfWeek', 'Month', 'UniqueCarrier', 'Origin', 'Dest', 'Season', 'FlightNum', 'TailNum']\n",
    "\n",
    "\n",
    "# Separate the input and the target values\n",
    "train_inputs = train_df[input_cols].copy()\n",
    "train_targets = train_df[target_cols].copy()\n",
    "\n",
    "val_inputs = val_df[input_cols].copy()\n",
    "val_targets = val_df[target_cols].copy()\n",
    "\n",
    "test_inputs = test_df[input_cols].copy()\n",
    "test_targets = test_df[target_cols].copy()"
   ]
  },
  {
   "cell_type": "markdown",
   "metadata": {
    "id": "H9AK9db07w1x"
   },
   "source": [
    "# 8. Imputation, Scaling and Encoding\n",
    "\n",
    "## Section Outline\n",
    "\n",
    "- Imputing (filling) missing values into the dataset which can use various techniques such as filling missing values using the mean of the column*\n",
    "- Scaling numerical values from 0 to 1 for every numerical column to prevent columns with larger values from eclipsing other columns\n",
    "- Encoding categorical columns using [mean-target encoding](https://towardsdatascience.com/why-you-should-try-mean-encoding-17057262cd0)\n",
    "- Create the final three datasets for training, validation and test using the scaled numerical columns and the encoded columns\n",
    "\n",
    "\n",
    "*For this project, imputing is unnecessary as the null values have been dropped from the DataFrame. This is due to the large size of the dataset to reduce processing time, else the imputer would fill in the null values with the mean of the column."
   ]
  },
  {
   "cell_type": "markdown",
   "metadata": {
    "id": "SxSMaC2b99hm"
   },
   "source": [
    "## Imputation"
   ]
  },
  {
   "cell_type": "code",
   "execution_count": 37,
   "metadata": {
    "executionInfo": {
     "elapsed": 4,
     "status": "ok",
     "timestamp": 1663262249472,
     "user": {
      "displayName": "Srinath Nanduri",
      "userId": "16683609937496845667"
     },
     "user_tz": 420
    },
    "id": "1jpXlG-578c_"
   },
   "outputs": [],
   "source": [
    "# imputer = SimpleImputer(strategy='mean').fit(merged_df[numeric_cols])"
   ]
  },
  {
   "cell_type": "code",
   "execution_count": 38,
   "metadata": {
    "executionInfo": {
     "elapsed": 4,
     "status": "ok",
     "timestamp": 1663262249472,
     "user": {
      "displayName": "Srinath Nanduri",
      "userId": "16683609937496845667"
     },
     "user_tz": 420
    },
    "id": "c-g-HZat8458"
   },
   "outputs": [],
   "source": [
    "# train_inputs[numeric_cols] = imputer.transform(train_inputs[numeric_cols])\n",
    "# val_inputs[numeric_cols] = imputer.transform(val_inputs[numeric_cols])\n",
    "# test_inputs[numeric_cols] = imputer.transform(test_inputs[numeric_cols])"
   ]
  },
  {
   "cell_type": "code",
   "execution_count": 39,
   "metadata": {
    "executionInfo": {
     "elapsed": 4,
     "status": "ok",
     "timestamp": 1663262249472,
     "user": {
      "displayName": "Srinath Nanduri",
      "userId": "16683609937496845667"
     },
     "user_tz": 420
    },
    "id": "V5sKGUsg9QdP"
   },
   "outputs": [],
   "source": [
    "# test_inputs[numeric_cols].isna().sum()"
   ]
  },
  {
   "cell_type": "markdown",
   "metadata": {
    "id": "tgMaIfEF-AvB"
   },
   "source": [
    "## Scaling"
   ]
  },
  {
   "cell_type": "code",
   "execution_count": 40,
   "metadata": {
    "executionInfo": {
     "elapsed": 770,
     "status": "ok",
     "timestamp": 1663262250238,
     "user": {
      "displayName": "Srinath Nanduri",
      "userId": "16683609937496845667"
     },
     "user_tz": 420
    },
    "id": "6NBPF5w0-JpY"
   },
   "outputs": [],
   "source": [
    "scaler = MinMaxScaler().fit(merged_df[numeric_cols])"
   ]
  },
  {
   "cell_type": "code",
   "execution_count": 41,
   "metadata": {
    "executionInfo": {
     "elapsed": 6,
     "status": "ok",
     "timestamp": 1663262250238,
     "user": {
      "displayName": "Srinath Nanduri",
      "userId": "16683609937496845667"
     },
     "user_tz": 420
    },
    "id": "iEzf3D6w-RgH"
   },
   "outputs": [],
   "source": [
    "train_inputs[numeric_cols] = scaler.transform(train_inputs[numeric_cols])\n",
    "val_inputs[numeric_cols] = scaler.transform(val_inputs[numeric_cols])\n",
    "test_inputs[numeric_cols] = scaler.transform(test_inputs[numeric_cols])"
   ]
  },
  {
   "cell_type": "code",
   "execution_count": 42,
   "metadata": {
    "colab": {
     "base_uri": "https://localhost:8080/",
     "height": 112
    },
    "executionInfo": {
     "elapsed": 6,
     "status": "ok",
     "timestamp": 1663262250238,
     "user": {
      "displayName": "Srinath Nanduri",
      "userId": "16683609937496845667"
     },
     "user_tz": 420
    },
    "id": "RlPZFQTf-TZ-",
    "outputId": "598f328c-02fb-4da3-c41d-ea202a85047c"
   },
   "outputs": [
    {
     "data": {
      "text/html": [
       "\n",
       "  <div id=\"df-0030d432-cca0-484f-881a-ee1065507ae1\">\n",
       "    <div class=\"colab-df-container\">\n",
       "      <div>\n",
       "<style scoped>\n",
       "    .dataframe tbody tr th:only-of-type {\n",
       "        vertical-align: middle;\n",
       "    }\n",
       "\n",
       "    .dataframe tbody tr th {\n",
       "        vertical-align: top;\n",
       "    }\n",
       "\n",
       "    .dataframe thead th {\n",
       "        text-align: right;\n",
       "    }\n",
       "</style>\n",
       "<table border=\"1\" class=\"dataframe\">\n",
       "  <thead>\n",
       "    <tr style=\"text-align: right;\">\n",
       "      <th></th>\n",
       "      <th>DepDelay</th>\n",
       "      <th>Distance</th>\n",
       "      <th>TaxiIn</th>\n",
       "      <th>TaxiOut</th>\n",
       "      <th>Season</th>\n",
       "      <th>Temperature (°F)</th>\n",
       "      <th>Dew Point (°F)</th>\n",
       "      <th>Humidity (%)</th>\n",
       "      <th>Wind Speed (mph)</th>\n",
       "      <th>Pressure (in)</th>\n",
       "      <th>FlightNum</th>\n",
       "    </tr>\n",
       "  </thead>\n",
       "  <tbody>\n",
       "    <tr>\n",
       "      <th>min</th>\n",
       "      <td>0.0</td>\n",
       "      <td>0.0</td>\n",
       "      <td>0.000000</td>\n",
       "      <td>0.003021</td>\n",
       "      <td>0.0</td>\n",
       "      <td>0.051039</td>\n",
       "      <td>0.047661</td>\n",
       "      <td>0.0</td>\n",
       "      <td>0.004512</td>\n",
       "      <td>0.0</td>\n",
       "      <td>0.000000</td>\n",
       "    </tr>\n",
       "    <tr>\n",
       "      <th>max</th>\n",
       "      <td>1.0</td>\n",
       "      <td>1.0</td>\n",
       "      <td>0.874286</td>\n",
       "      <td>0.861027</td>\n",
       "      <td>1.0</td>\n",
       "      <td>1.000000</td>\n",
       "      <td>0.974931</td>\n",
       "      <td>1.0</td>\n",
       "      <td>0.895628</td>\n",
       "      <td>1.0</td>\n",
       "      <td>0.803779</td>\n",
       "    </tr>\n",
       "  </tbody>\n",
       "</table>\n",
       "</div>\n",
       "      <button class=\"colab-df-convert\" onclick=\"convertToInteractive('df-0030d432-cca0-484f-881a-ee1065507ae1')\"\n",
       "              title=\"Convert this dataframe to an interactive table.\"\n",
       "              style=\"display:none;\">\n",
       "        \n",
       "  <svg xmlns=\"http://www.w3.org/2000/svg\" height=\"24px\"viewBox=\"0 0 24 24\"\n",
       "       width=\"24px\">\n",
       "    <path d=\"M0 0h24v24H0V0z\" fill=\"none\"/>\n",
       "    <path d=\"M18.56 5.44l.94 2.06.94-2.06 2.06-.94-2.06-.94-.94-2.06-.94 2.06-2.06.94zm-11 1L8.5 8.5l.94-2.06 2.06-.94-2.06-.94L8.5 2.5l-.94 2.06-2.06.94zm10 10l.94 2.06.94-2.06 2.06-.94-2.06-.94-.94-2.06-.94 2.06-2.06.94z\"/><path d=\"M17.41 7.96l-1.37-1.37c-.4-.4-.92-.59-1.43-.59-.52 0-1.04.2-1.43.59L10.3 9.45l-7.72 7.72c-.78.78-.78 2.05 0 2.83L4 21.41c.39.39.9.59 1.41.59.51 0 1.02-.2 1.41-.59l7.78-7.78 2.81-2.81c.8-.78.8-2.07 0-2.86zM5.41 20L4 18.59l7.72-7.72 1.47 1.35L5.41 20z\"/>\n",
       "  </svg>\n",
       "      </button>\n",
       "      \n",
       "  <style>\n",
       "    .colab-df-container {\n",
       "      display:flex;\n",
       "      flex-wrap:wrap;\n",
       "      gap: 12px;\n",
       "    }\n",
       "\n",
       "    .colab-df-convert {\n",
       "      background-color: #E8F0FE;\n",
       "      border: none;\n",
       "      border-radius: 50%;\n",
       "      cursor: pointer;\n",
       "      display: none;\n",
       "      fill: #1967D2;\n",
       "      height: 32px;\n",
       "      padding: 0 0 0 0;\n",
       "      width: 32px;\n",
       "    }\n",
       "\n",
       "    .colab-df-convert:hover {\n",
       "      background-color: #E2EBFA;\n",
       "      box-shadow: 0px 1px 2px rgba(60, 64, 67, 0.3), 0px 1px 3px 1px rgba(60, 64, 67, 0.15);\n",
       "      fill: #174EA6;\n",
       "    }\n",
       "\n",
       "    [theme=dark] .colab-df-convert {\n",
       "      background-color: #3B4455;\n",
       "      fill: #D2E3FC;\n",
       "    }\n",
       "\n",
       "    [theme=dark] .colab-df-convert:hover {\n",
       "      background-color: #434B5C;\n",
       "      box-shadow: 0px 1px 3px 1px rgba(0, 0, 0, 0.15);\n",
       "      filter: drop-shadow(0px 1px 2px rgba(0, 0, 0, 0.3));\n",
       "      fill: #FFFFFF;\n",
       "    }\n",
       "  </style>\n",
       "\n",
       "      <script>\n",
       "        const buttonEl =\n",
       "          document.querySelector('#df-0030d432-cca0-484f-881a-ee1065507ae1 button.colab-df-convert');\n",
       "        buttonEl.style.display =\n",
       "          google.colab.kernel.accessAllowed ? 'block' : 'none';\n",
       "\n",
       "        async function convertToInteractive(key) {\n",
       "          const element = document.querySelector('#df-0030d432-cca0-484f-881a-ee1065507ae1');\n",
       "          const dataTable =\n",
       "            await google.colab.kernel.invokeFunction('convertToInteractive',\n",
       "                                                     [key], {});\n",
       "          if (!dataTable) return;\n",
       "\n",
       "          const docLinkHtml = 'Like what you see? Visit the ' +\n",
       "            '<a target=\"_blank\" href=https://colab.research.google.com/notebooks/data_table.ipynb>data table notebook</a>'\n",
       "            + ' to learn more about interactive tables.';\n",
       "          element.innerHTML = '';\n",
       "          dataTable['output_type'] = 'display_data';\n",
       "          await google.colab.output.renderOutput(dataTable, element);\n",
       "          const docLink = document.createElement('div');\n",
       "          docLink.innerHTML = docLinkHtml;\n",
       "          element.appendChild(docLink);\n",
       "        }\n",
       "      </script>\n",
       "    </div>\n",
       "  </div>\n",
       "  "
      ],
      "text/plain": [
       "     DepDelay  Distance    TaxiIn   TaxiOut  Season  Temperature (°F)  \\\n",
       "min       0.0       0.0  0.000000  0.003021     0.0          0.051039   \n",
       "max       1.0       1.0  0.874286  0.861027     1.0          1.000000   \n",
       "\n",
       "     Dew Point (°F)  Humidity (%)  Wind Speed (mph)  Pressure (in)  FlightNum  \n",
       "min        0.047661           0.0          0.004512            0.0   0.000000  \n",
       "max        0.974931           1.0          0.895628            1.0   0.803779  "
      ]
     },
     "execution_count": 42,
     "metadata": {},
     "output_type": "execute_result"
    }
   ],
   "source": [
    "test_inputs[numeric_cols].describe().loc[['min', 'max']]"
   ]
  },
  {
   "cell_type": "markdown",
   "metadata": {
    "id": "Y2PthSKm-pxD"
   },
   "source": [
    "## Encoding"
   ]
  },
  {
   "cell_type": "code",
   "execution_count": 43,
   "metadata": {
    "colab": {
     "base_uri": "https://localhost:8080/"
    },
    "executionInfo": {
     "elapsed": 6,
     "status": "ok",
     "timestamp": 1663262250239,
     "user": {
      "displayName": "Srinath Nanduri",
      "userId": "16683609937496845667"
     },
     "user_tz": 420
    },
    "id": "KZyspmfCfWVo",
    "outputId": "e094a745-7724-44f5-b2bd-bb059e7821fd"
   },
   "outputs": [
    {
     "data": {
      "text/plain": [
       "(['DayofMonth',\n",
       "  'DayOfWeek',\n",
       "  'Month',\n",
       "  'UniqueCarrier',\n",
       "  'Origin',\n",
       "  'Dest',\n",
       "  'Season',\n",
       "  'FlightNum',\n",
       "  'TailNum'],\n",
       " 'DelayCategories')"
      ]
     },
     "execution_count": 43,
     "metadata": {},
     "output_type": "execute_result"
    }
   ],
   "source": [
    "categorical_cols, target_cols"
   ]
  },
  {
   "cell_type": "code",
   "execution_count": 44,
   "metadata": {
    "executionInfo": {
     "elapsed": 4,
     "status": "ok",
     "timestamp": 1663262250239,
     "user": {
      "displayName": "Srinath Nanduri",
      "userId": "16683609937496845667"
     },
     "user_tz": 420
    },
    "id": "c4jUn3C2RJf2"
   },
   "outputs": [],
   "source": [
    "encoder = LabelEncoder().fit(merged_df['DelayCategories'])"
   ]
  },
  {
   "cell_type": "code",
   "execution_count": 45,
   "metadata": {
    "executionInfo": {
     "elapsed": 495,
     "status": "ok",
     "timestamp": 1663262250730,
     "user": {
      "displayName": "Srinath Nanduri",
      "userId": "16683609937496845667"
     },
     "user_tz": 420
    },
    "id": "h62Z8QRSTobZ"
   },
   "outputs": [],
   "source": [
    "for i in merged_df[categorical_cols]:\n",
    "  encoder = LabelEncoder()\n",
    "  train_inputs[i] = encoder.fit_transform(train_inputs[i])\n",
    "  val_inputs[i] = encoder.fit_transform(val_inputs[i])\n",
    "  test_inputs[i] = encoder.fit_transform(test_inputs[i])"
   ]
  },
  {
   "cell_type": "code",
   "execution_count": 46,
   "metadata": {
    "executionInfo": {
     "elapsed": 7,
     "status": "ok",
     "timestamp": 1663262250730,
     "user": {
      "displayName": "Srinath Nanduri",
      "userId": "16683609937496845667"
     },
     "user_tz": 420
    },
    "id": "htSlJ2bjiiPC"
   },
   "outputs": [],
   "source": [
    "# encoded_cols = []\n",
    "# for i in categorical_cols:\n",
    "#   encoded_df = merged_df.groupby(i)[['ArrDelay']].mean()\n",
    "#   encoded_df = encoded_df.reset_index()\n",
    "#   encoded_col = i + '_encoded'\n",
    "#   encoded_df.columns = [i, encoded_col]\n",
    "#   encoded_cols.append(encoded_col)\n",
    "#   train_inputs = train_inputs.merge(encoded_df, on=i)\n",
    "#   val_inputs = val_inputs.merge(encoded_df, on=i)\n",
    "#   test_inputs = test_inputs.merge(encoded_df, on=i)\n",
    "\n",
    "# encoded_cols"
   ]
  },
  {
   "cell_type": "code",
   "execution_count": 47,
   "metadata": {
    "colab": {
     "base_uri": "https://localhost:8080/",
     "height": 522
    },
    "executionInfo": {
     "elapsed": 7,
     "status": "ok",
     "timestamp": 1663262250730,
     "user": {
      "displayName": "Srinath Nanduri",
      "userId": "16683609937496845667"
     },
     "user_tz": 420
    },
    "id": "6MnRPtYG06Gq",
    "outputId": "d1ace75f-e259-413e-eb2a-3b27a1eb6cd8"
   },
   "outputs": [
    {
     "data": {
      "text/html": [
       "\n",
       "  <div id=\"df-f8c389d0-1e67-4ba0-ba6d-4f3c6bfae482\">\n",
       "    <div class=\"colab-df-container\">\n",
       "      <div>\n",
       "<style scoped>\n",
       "    .dataframe tbody tr th:only-of-type {\n",
       "        vertical-align: middle;\n",
       "    }\n",
       "\n",
       "    .dataframe tbody tr th {\n",
       "        vertical-align: top;\n",
       "    }\n",
       "\n",
       "    .dataframe thead th {\n",
       "        text-align: right;\n",
       "    }\n",
       "</style>\n",
       "<table border=\"1\" class=\"dataframe\">\n",
       "  <thead>\n",
       "    <tr style=\"text-align: right;\">\n",
       "      <th></th>\n",
       "      <th>Month</th>\n",
       "      <th>DayofMonth</th>\n",
       "      <th>DayOfWeek</th>\n",
       "      <th>UniqueCarrier</th>\n",
       "      <th>TailNum</th>\n",
       "      <th>Origin</th>\n",
       "      <th>Dest</th>\n",
       "      <th>DepDelay</th>\n",
       "      <th>Distance</th>\n",
       "      <th>TaxiIn</th>\n",
       "      <th>TaxiOut</th>\n",
       "      <th>Season</th>\n",
       "      <th>Temperature (°F)</th>\n",
       "      <th>Dew Point (°F)</th>\n",
       "      <th>Humidity (%)</th>\n",
       "      <th>Wind Speed (mph)</th>\n",
       "      <th>Pressure (in)</th>\n",
       "      <th>FlightNum</th>\n",
       "    </tr>\n",
       "  </thead>\n",
       "  <tbody>\n",
       "    <tr>\n",
       "      <th>1163328</th>\n",
       "      <td>7</td>\n",
       "      <td>12</td>\n",
       "      <td>2</td>\n",
       "      <td>17</td>\n",
       "      <td>2896</td>\n",
       "      <td>164</td>\n",
       "      <td>154</td>\n",
       "      <td>0.000629</td>\n",
       "      <td>0.079580</td>\n",
       "      <td>0.017143</td>\n",
       "      <td>0.039275</td>\n",
       "      <td>2</td>\n",
       "      <td>0.760892</td>\n",
       "      <td>0.835009</td>\n",
       "      <td>0.716250</td>\n",
       "      <td>0.081232</td>\n",
       "      <td>0.935058</td>\n",
       "      <td>53</td>\n",
       "    </tr>\n",
       "    <tr>\n",
       "      <th>1302021</th>\n",
       "      <td>8</td>\n",
       "      <td>10</td>\n",
       "      <td>3</td>\n",
       "      <td>17</td>\n",
       "      <td>1926</td>\n",
       "      <td>226</td>\n",
       "      <td>233</td>\n",
       "      <td>0.008799</td>\n",
       "      <td>0.094728</td>\n",
       "      <td>0.022857</td>\n",
       "      <td>0.024169</td>\n",
       "      <td>3</td>\n",
       "      <td>0.741641</td>\n",
       "      <td>0.747267</td>\n",
       "      <td>0.579062</td>\n",
       "      <td>0.137694</td>\n",
       "      <td>0.967529</td>\n",
       "      <td>903</td>\n",
       "    </tr>\n",
       "    <tr>\n",
       "      <th>643608</th>\n",
       "      <td>3</td>\n",
       "      <td>13</td>\n",
       "      <td>0</td>\n",
       "      <td>1</td>\n",
       "      <td>2406</td>\n",
       "      <td>71</td>\n",
       "      <td>212</td>\n",
       "      <td>0.013828</td>\n",
       "      <td>0.269441</td>\n",
       "      <td>0.040000</td>\n",
       "      <td>0.036254</td>\n",
       "      <td>1</td>\n",
       "      <td>0.650963</td>\n",
       "      <td>0.432881</td>\n",
       "      <td>0.220937</td>\n",
       "      <td>0.462623</td>\n",
       "      <td>0.821410</td>\n",
       "      <td>1053</td>\n",
       "    </tr>\n",
       "    <tr>\n",
       "      <th>1521587</th>\n",
       "      <td>10</td>\n",
       "      <td>13</td>\n",
       "      <td>4</td>\n",
       "      <td>6</td>\n",
       "      <td>5106</td>\n",
       "      <td>15</td>\n",
       "      <td>166</td>\n",
       "      <td>0.115651</td>\n",
       "      <td>0.132902</td>\n",
       "      <td>0.028571</td>\n",
       "      <td>0.030211</td>\n",
       "      <td>3</td>\n",
       "      <td>0.546353</td>\n",
       "      <td>0.598018</td>\n",
       "      <td>0.801875</td>\n",
       "      <td>0.182828</td>\n",
       "      <td>0.938610</td>\n",
       "      <td>1270</td>\n",
       "    </tr>\n",
       "    <tr>\n",
       "      <th>254112</th>\n",
       "      <td>1</td>\n",
       "      <td>0</td>\n",
       "      <td>4</td>\n",
       "      <td>17</td>\n",
       "      <td>1393</td>\n",
       "      <td>160</td>\n",
       "      <td>67</td>\n",
       "      <td>0.013199</td>\n",
       "      <td>0.090891</td>\n",
       "      <td>0.022857</td>\n",
       "      <td>0.021148</td>\n",
       "      <td>0</td>\n",
       "      <td>0.523556</td>\n",
       "      <td>0.458971</td>\n",
       "      <td>0.458125</td>\n",
       "      <td>0.232370</td>\n",
       "      <td>0.960934</td>\n",
       "      <td>2781</td>\n",
       "    </tr>\n",
       "    <tr>\n",
       "      <th>...</th>\n",
       "      <td>...</td>\n",
       "      <td>...</td>\n",
       "      <td>...</td>\n",
       "      <td>...</td>\n",
       "      <td>...</td>\n",
       "      <td>...</td>\n",
       "      <td>...</td>\n",
       "      <td>...</td>\n",
       "      <td>...</td>\n",
       "      <td>...</td>\n",
       "      <td>...</td>\n",
       "      <td>...</td>\n",
       "      <td>...</td>\n",
       "      <td>...</td>\n",
       "      <td>...</td>\n",
       "      <td>...</td>\n",
       "      <td>...</td>\n",
       "      <td>...</td>\n",
       "    </tr>\n",
       "    <tr>\n",
       "      <th>238897</th>\n",
       "      <td>1</td>\n",
       "      <td>11</td>\n",
       "      <td>1</td>\n",
       "      <td>15</td>\n",
       "      <td>4846</td>\n",
       "      <td>194</td>\n",
       "      <td>183</td>\n",
       "      <td>0.022627</td>\n",
       "      <td>0.081802</td>\n",
       "      <td>0.011429</td>\n",
       "      <td>0.081571</td>\n",
       "      <td>0</td>\n",
       "      <td>0.245567</td>\n",
       "      <td>0.278002</td>\n",
       "      <td>0.730000</td>\n",
       "      <td>0.162465</td>\n",
       "      <td>0.944698</td>\n",
       "      <td>633</td>\n",
       "    </tr>\n",
       "    <tr>\n",
       "      <th>921108</th>\n",
       "      <td>5</td>\n",
       "      <td>17</td>\n",
       "      <td>2</td>\n",
       "      <td>11</td>\n",
       "      <td>2257</td>\n",
       "      <td>71</td>\n",
       "      <td>105</td>\n",
       "      <td>0.002514</td>\n",
       "      <td>0.024843</td>\n",
       "      <td>0.017143</td>\n",
       "      <td>0.039275</td>\n",
       "      <td>2</td>\n",
       "      <td>0.856636</td>\n",
       "      <td>0.845212</td>\n",
       "      <td>0.515000</td>\n",
       "      <td>0.117331</td>\n",
       "      <td>0.951294</td>\n",
       "      <td>3392</td>\n",
       "    </tr>\n",
       "    <tr>\n",
       "      <th>1567751</th>\n",
       "      <td>10</td>\n",
       "      <td>1</td>\n",
       "      <td>6</td>\n",
       "      <td>6</td>\n",
       "      <td>1095</td>\n",
       "      <td>246</td>\n",
       "      <td>14</td>\n",
       "      <td>0.007542</td>\n",
       "      <td>0.385377</td>\n",
       "      <td>0.068571</td>\n",
       "      <td>0.030211</td>\n",
       "      <td>3</td>\n",
       "      <td>0.637791</td>\n",
       "      <td>0.614633</td>\n",
       "      <td>0.514062</td>\n",
       "      <td>0.088020</td>\n",
       "      <td>0.948250</td>\n",
       "      <td>894</td>\n",
       "    </tr>\n",
       "    <tr>\n",
       "      <th>1098812</th>\n",
       "      <td>6</td>\n",
       "      <td>30</td>\n",
       "      <td>3</td>\n",
       "      <td>11</td>\n",
       "      <td>3325</td>\n",
       "      <td>83</td>\n",
       "      <td>185</td>\n",
       "      <td>0.031427</td>\n",
       "      <td>0.052919</td>\n",
       "      <td>0.051429</td>\n",
       "      <td>0.353474</td>\n",
       "      <td>2</td>\n",
       "      <td>0.784701</td>\n",
       "      <td>0.884565</td>\n",
       "      <td>0.755000</td>\n",
       "      <td>0.153473</td>\n",
       "      <td>0.941654</td>\n",
       "      <td>4140</td>\n",
       "    </tr>\n",
       "    <tr>\n",
       "      <th>385907</th>\n",
       "      <td>2</td>\n",
       "      <td>20</td>\n",
       "      <td>4</td>\n",
       "      <td>18</td>\n",
       "      <td>667</td>\n",
       "      <td>54</td>\n",
       "      <td>85</td>\n",
       "      <td>0.122564</td>\n",
       "      <td>0.104625</td>\n",
       "      <td>0.034286</td>\n",
       "      <td>0.057402</td>\n",
       "      <td>1</td>\n",
       "      <td>0.493668</td>\n",
       "      <td>0.347034</td>\n",
       "      <td>0.310000</td>\n",
       "      <td>0.435473</td>\n",
       "      <td>0.974125</td>\n",
       "      <td>2296</td>\n",
       "    </tr>\n",
       "  </tbody>\n",
       "</table>\n",
       "<p>105045 rows × 18 columns</p>\n",
       "</div>\n",
       "      <button class=\"colab-df-convert\" onclick=\"convertToInteractive('df-f8c389d0-1e67-4ba0-ba6d-4f3c6bfae482')\"\n",
       "              title=\"Convert this dataframe to an interactive table.\"\n",
       "              style=\"display:none;\">\n",
       "        \n",
       "  <svg xmlns=\"http://www.w3.org/2000/svg\" height=\"24px\"viewBox=\"0 0 24 24\"\n",
       "       width=\"24px\">\n",
       "    <path d=\"M0 0h24v24H0V0z\" fill=\"none\"/>\n",
       "    <path d=\"M18.56 5.44l.94 2.06.94-2.06 2.06-.94-2.06-.94-.94-2.06-.94 2.06-2.06.94zm-11 1L8.5 8.5l.94-2.06 2.06-.94-2.06-.94L8.5 2.5l-.94 2.06-2.06.94zm10 10l.94 2.06.94-2.06 2.06-.94-2.06-.94-.94-2.06-.94 2.06-2.06.94z\"/><path d=\"M17.41 7.96l-1.37-1.37c-.4-.4-.92-.59-1.43-.59-.52 0-1.04.2-1.43.59L10.3 9.45l-7.72 7.72c-.78.78-.78 2.05 0 2.83L4 21.41c.39.39.9.59 1.41.59.51 0 1.02-.2 1.41-.59l7.78-7.78 2.81-2.81c.8-.78.8-2.07 0-2.86zM5.41 20L4 18.59l7.72-7.72 1.47 1.35L5.41 20z\"/>\n",
       "  </svg>\n",
       "      </button>\n",
       "      \n",
       "  <style>\n",
       "    .colab-df-container {\n",
       "      display:flex;\n",
       "      flex-wrap:wrap;\n",
       "      gap: 12px;\n",
       "    }\n",
       "\n",
       "    .colab-df-convert {\n",
       "      background-color: #E8F0FE;\n",
       "      border: none;\n",
       "      border-radius: 50%;\n",
       "      cursor: pointer;\n",
       "      display: none;\n",
       "      fill: #1967D2;\n",
       "      height: 32px;\n",
       "      padding: 0 0 0 0;\n",
       "      width: 32px;\n",
       "    }\n",
       "\n",
       "    .colab-df-convert:hover {\n",
       "      background-color: #E2EBFA;\n",
       "      box-shadow: 0px 1px 2px rgba(60, 64, 67, 0.3), 0px 1px 3px 1px rgba(60, 64, 67, 0.15);\n",
       "      fill: #174EA6;\n",
       "    }\n",
       "\n",
       "    [theme=dark] .colab-df-convert {\n",
       "      background-color: #3B4455;\n",
       "      fill: #D2E3FC;\n",
       "    }\n",
       "\n",
       "    [theme=dark] .colab-df-convert:hover {\n",
       "      background-color: #434B5C;\n",
       "      box-shadow: 0px 1px 3px 1px rgba(0, 0, 0, 0.15);\n",
       "      filter: drop-shadow(0px 1px 2px rgba(0, 0, 0, 0.3));\n",
       "      fill: #FFFFFF;\n",
       "    }\n",
       "  </style>\n",
       "\n",
       "      <script>\n",
       "        const buttonEl =\n",
       "          document.querySelector('#df-f8c389d0-1e67-4ba0-ba6d-4f3c6bfae482 button.colab-df-convert');\n",
       "        buttonEl.style.display =\n",
       "          google.colab.kernel.accessAllowed ? 'block' : 'none';\n",
       "\n",
       "        async function convertToInteractive(key) {\n",
       "          const element = document.querySelector('#df-f8c389d0-1e67-4ba0-ba6d-4f3c6bfae482');\n",
       "          const dataTable =\n",
       "            await google.colab.kernel.invokeFunction('convertToInteractive',\n",
       "                                                     [key], {});\n",
       "          if (!dataTable) return;\n",
       "\n",
       "          const docLinkHtml = 'Like what you see? Visit the ' +\n",
       "            '<a target=\"_blank\" href=https://colab.research.google.com/notebooks/data_table.ipynb>data table notebook</a>'\n",
       "            + ' to learn more about interactive tables.';\n",
       "          element.innerHTML = '';\n",
       "          dataTable['output_type'] = 'display_data';\n",
       "          await google.colab.output.renderOutput(dataTable, element);\n",
       "          const docLink = document.createElement('div');\n",
       "          docLink.innerHTML = docLinkHtml;\n",
       "          element.appendChild(docLink);\n",
       "        }\n",
       "      </script>\n",
       "    </div>\n",
       "  </div>\n",
       "  "
      ],
      "text/plain": [
       "         Month  DayofMonth  DayOfWeek  UniqueCarrier  TailNum  Origin  Dest  \\\n",
       "1163328      7          12          2             17     2896     164   154   \n",
       "1302021      8          10          3             17     1926     226   233   \n",
       "643608       3          13          0              1     2406      71   212   \n",
       "1521587     10          13          4              6     5106      15   166   \n",
       "254112       1           0          4             17     1393     160    67   \n",
       "...        ...         ...        ...            ...      ...     ...   ...   \n",
       "238897       1          11          1             15     4846     194   183   \n",
       "921108       5          17          2             11     2257      71   105   \n",
       "1567751     10           1          6              6     1095     246    14   \n",
       "1098812      6          30          3             11     3325      83   185   \n",
       "385907       2          20          4             18      667      54    85   \n",
       "\n",
       "         DepDelay  Distance    TaxiIn   TaxiOut  Season  Temperature (°F)  \\\n",
       "1163328  0.000629  0.079580  0.017143  0.039275       2          0.760892   \n",
       "1302021  0.008799  0.094728  0.022857  0.024169       3          0.741641   \n",
       "643608   0.013828  0.269441  0.040000  0.036254       1          0.650963   \n",
       "1521587  0.115651  0.132902  0.028571  0.030211       3          0.546353   \n",
       "254112   0.013199  0.090891  0.022857  0.021148       0          0.523556   \n",
       "...           ...       ...       ...       ...     ...               ...   \n",
       "238897   0.022627  0.081802  0.011429  0.081571       0          0.245567   \n",
       "921108   0.002514  0.024843  0.017143  0.039275       2          0.856636   \n",
       "1567751  0.007542  0.385377  0.068571  0.030211       3          0.637791   \n",
       "1098812  0.031427  0.052919  0.051429  0.353474       2          0.784701   \n",
       "385907   0.122564  0.104625  0.034286  0.057402       1          0.493668   \n",
       "\n",
       "         Dew Point (°F)  Humidity (%)  Wind Speed (mph)  Pressure (in)  \\\n",
       "1163328        0.835009      0.716250          0.081232       0.935058   \n",
       "1302021        0.747267      0.579062          0.137694       0.967529   \n",
       "643608         0.432881      0.220937          0.462623       0.821410   \n",
       "1521587        0.598018      0.801875          0.182828       0.938610   \n",
       "254112         0.458971      0.458125          0.232370       0.960934   \n",
       "...                 ...           ...               ...            ...   \n",
       "238897         0.278002      0.730000          0.162465       0.944698   \n",
       "921108         0.845212      0.515000          0.117331       0.951294   \n",
       "1567751        0.614633      0.514062          0.088020       0.948250   \n",
       "1098812        0.884565      0.755000          0.153473       0.941654   \n",
       "385907         0.347034      0.310000          0.435473       0.974125   \n",
       "\n",
       "         FlightNum  \n",
       "1163328         53  \n",
       "1302021        903  \n",
       "643608        1053  \n",
       "1521587       1270  \n",
       "254112        2781  \n",
       "...            ...  \n",
       "238897         633  \n",
       "921108        3392  \n",
       "1567751        894  \n",
       "1098812       4140  \n",
       "385907        2296  \n",
       "\n",
       "[105045 rows x 18 columns]"
      ]
     },
     "execution_count": 47,
     "metadata": {},
     "output_type": "execute_result"
    }
   ],
   "source": [
    "train_inputs"
   ]
  },
  {
   "cell_type": "code",
   "execution_count": 48,
   "metadata": {
    "colab": {
     "base_uri": "https://localhost:8080/",
     "height": 522
    },
    "executionInfo": {
     "elapsed": 6,
     "status": "ok",
     "timestamp": 1663262250730,
     "user": {
      "displayName": "Srinath Nanduri",
      "userId": "16683609937496845667"
     },
     "user_tz": 420
    },
    "id": "3IlFjw3s0566",
    "outputId": "ae421a98-aa17-40df-e35a-92b937513153"
   },
   "outputs": [
    {
     "data": {
      "text/html": [
       "\n",
       "  <div id=\"df-78d03db1-f103-4278-9b3c-006d8f2890fd\">\n",
       "    <div class=\"colab-df-container\">\n",
       "      <div>\n",
       "<style scoped>\n",
       "    .dataframe tbody tr th:only-of-type {\n",
       "        vertical-align: middle;\n",
       "    }\n",
       "\n",
       "    .dataframe tbody tr th {\n",
       "        vertical-align: top;\n",
       "    }\n",
       "\n",
       "    .dataframe thead th {\n",
       "        text-align: right;\n",
       "    }\n",
       "</style>\n",
       "<table border=\"1\" class=\"dataframe\">\n",
       "  <thead>\n",
       "    <tr style=\"text-align: right;\">\n",
       "      <th></th>\n",
       "      <th>Month</th>\n",
       "      <th>DayofMonth</th>\n",
       "      <th>DayOfWeek</th>\n",
       "      <th>UniqueCarrier</th>\n",
       "      <th>TailNum</th>\n",
       "      <th>Origin</th>\n",
       "      <th>Dest</th>\n",
       "      <th>DepDelay</th>\n",
       "      <th>Distance</th>\n",
       "      <th>TaxiIn</th>\n",
       "      <th>TaxiOut</th>\n",
       "      <th>Season</th>\n",
       "      <th>Temperature (°F)</th>\n",
       "      <th>Dew Point (°F)</th>\n",
       "      <th>Humidity (%)</th>\n",
       "      <th>Wind Speed (mph)</th>\n",
       "      <th>Pressure (in)</th>\n",
       "      <th>FlightNum</th>\n",
       "    </tr>\n",
       "  </thead>\n",
       "  <tbody>\n",
       "    <tr>\n",
       "      <th>1206058</th>\n",
       "      <td>7</td>\n",
       "      <td>2</td>\n",
       "      <td>6</td>\n",
       "      <td>15</td>\n",
       "      <td>1096</td>\n",
       "      <td>36</td>\n",
       "      <td>179</td>\n",
       "      <td>0.032684</td>\n",
       "      <td>0.093314</td>\n",
       "      <td>0.040000</td>\n",
       "      <td>0.024169</td>\n",
       "      <td>2</td>\n",
       "      <td>0.770010</td>\n",
       "      <td>0.818977</td>\n",
       "      <td>0.640000</td>\n",
       "      <td>0.135402</td>\n",
       "      <td>0.951294</td>\n",
       "      <td>124</td>\n",
       "    </tr>\n",
       "    <tr>\n",
       "      <th>87668</th>\n",
       "      <td>0</td>\n",
       "      <td>17</td>\n",
       "      <td>4</td>\n",
       "      <td>6</td>\n",
       "      <td>3051</td>\n",
       "      <td>14</td>\n",
       "      <td>178</td>\n",
       "      <td>0.002514</td>\n",
       "      <td>0.381539</td>\n",
       "      <td>0.017143</td>\n",
       "      <td>0.048338</td>\n",
       "      <td>0</td>\n",
       "      <td>0.606383</td>\n",
       "      <td>0.492494</td>\n",
       "      <td>0.358125</td>\n",
       "      <td>0.148977</td>\n",
       "      <td>0.944698</td>\n",
       "      <td>896</td>\n",
       "    </tr>\n",
       "    <tr>\n",
       "      <th>1139379</th>\n",
       "      <td>6</td>\n",
       "      <td>19</td>\n",
       "      <td>6</td>\n",
       "      <td>5</td>\n",
       "      <td>3857</td>\n",
       "      <td>116</td>\n",
       "      <td>184</td>\n",
       "      <td>0.000629</td>\n",
       "      <td>0.366391</td>\n",
       "      <td>0.022857</td>\n",
       "      <td>0.054381</td>\n",
       "      <td>2</td>\n",
       "      <td>0.699595</td>\n",
       "      <td>0.732401</td>\n",
       "      <td>0.630000</td>\n",
       "      <td>0.153473</td>\n",
       "      <td>0.971081</td>\n",
       "      <td>206</td>\n",
       "    </tr>\n",
       "    <tr>\n",
       "      <th>1072211</th>\n",
       "      <td>6</td>\n",
       "      <td>28</td>\n",
       "      <td>1</td>\n",
       "      <td>6</td>\n",
       "      <td>2857</td>\n",
       "      <td>132</td>\n",
       "      <td>128</td>\n",
       "      <td>0.000629</td>\n",
       "      <td>0.451828</td>\n",
       "      <td>0.091429</td>\n",
       "      <td>0.054381</td>\n",
       "      <td>2</td>\n",
       "      <td>0.820162</td>\n",
       "      <td>0.818977</td>\n",
       "      <td>0.515938</td>\n",
       "      <td>0.230254</td>\n",
       "      <td>0.971081</td>\n",
       "      <td>125</td>\n",
       "    </tr>\n",
       "    <tr>\n",
       "      <th>996481</th>\n",
       "      <td>6</td>\n",
       "      <td>9</td>\n",
       "      <td>3</td>\n",
       "      <td>17</td>\n",
       "      <td>3451</td>\n",
       "      <td>224</td>\n",
       "      <td>132</td>\n",
       "      <td>0.035198</td>\n",
       "      <td>0.065845</td>\n",
       "      <td>0.051429</td>\n",
       "      <td>0.051360</td>\n",
       "      <td>2</td>\n",
       "      <td>0.735056</td>\n",
       "      <td>0.816353</td>\n",
       "      <td>0.711875</td>\n",
       "      <td>0.144394</td>\n",
       "      <td>0.964485</td>\n",
       "      <td>1883</td>\n",
       "    </tr>\n",
       "    <tr>\n",
       "      <th>...</th>\n",
       "      <td>...</td>\n",
       "      <td>...</td>\n",
       "      <td>...</td>\n",
       "      <td>...</td>\n",
       "      <td>...</td>\n",
       "      <td>...</td>\n",
       "      <td>...</td>\n",
       "      <td>...</td>\n",
       "      <td>...</td>\n",
       "      <td>...</td>\n",
       "      <td>...</td>\n",
       "      <td>...</td>\n",
       "      <td>...</td>\n",
       "      <td>...</td>\n",
       "      <td>...</td>\n",
       "      <td>...</td>\n",
       "      <td>...</td>\n",
       "      <td>...</td>\n",
       "    </tr>\n",
       "    <tr>\n",
       "      <th>74230</th>\n",
       "      <td>0</td>\n",
       "      <td>2</td>\n",
       "      <td>3</td>\n",
       "      <td>16</td>\n",
       "      <td>1860</td>\n",
       "      <td>162</td>\n",
       "      <td>51</td>\n",
       "      <td>0.002514</td>\n",
       "      <td>0.146637</td>\n",
       "      <td>0.011429</td>\n",
       "      <td>0.042296</td>\n",
       "      <td>0</td>\n",
       "      <td>0.380193</td>\n",
       "      <td>0.332094</td>\n",
       "      <td>0.480000</td>\n",
       "      <td>0.124118</td>\n",
       "      <td>0.971081</td>\n",
       "      <td>1047</td>\n",
       "    </tr>\n",
       "    <tr>\n",
       "      <th>1319204</th>\n",
       "      <td>8</td>\n",
       "      <td>11</td>\n",
       "      <td>4</td>\n",
       "      <td>19</td>\n",
       "      <td>4533</td>\n",
       "      <td>251</td>\n",
       "      <td>187</td>\n",
       "      <td>0.025141</td>\n",
       "      <td>0.019996</td>\n",
       "      <td>0.040000</td>\n",
       "      <td>0.042296</td>\n",
       "      <td>3</td>\n",
       "      <td>0.848024</td>\n",
       "      <td>0.754555</td>\n",
       "      <td>0.370937</td>\n",
       "      <td>0.121827</td>\n",
       "      <td>0.928463</td>\n",
       "      <td>2844</td>\n",
       "    </tr>\n",
       "    <tr>\n",
       "      <th>302460</th>\n",
       "      <td>1</td>\n",
       "      <td>0</td>\n",
       "      <td>4</td>\n",
       "      <td>0</td>\n",
       "      <td>57</td>\n",
       "      <td>209</td>\n",
       "      <td>73</td>\n",
       "      <td>0.067253</td>\n",
       "      <td>0.089881</td>\n",
       "      <td>0.057143</td>\n",
       "      <td>0.048338</td>\n",
       "      <td>0</td>\n",
       "      <td>0.402862</td>\n",
       "      <td>0.487830</td>\n",
       "      <td>0.850000</td>\n",
       "      <td>0.250529</td>\n",
       "      <td>0.948250</td>\n",
       "      <td>3566</td>\n",
       "    </tr>\n",
       "    <tr>\n",
       "      <th>842647</th>\n",
       "      <td>5</td>\n",
       "      <td>29</td>\n",
       "      <td>0</td>\n",
       "      <td>17</td>\n",
       "      <td>3632</td>\n",
       "      <td>110</td>\n",
       "      <td>146</td>\n",
       "      <td>0.019485</td>\n",
       "      <td>0.086851</td>\n",
       "      <td>0.017143</td>\n",
       "      <td>0.030211</td>\n",
       "      <td>2</td>\n",
       "      <td>0.726444</td>\n",
       "      <td>0.847836</td>\n",
       "      <td>0.843750</td>\n",
       "      <td>0.187236</td>\n",
       "      <td>0.879756</td>\n",
       "      <td>3331</td>\n",
       "    </tr>\n",
       "    <tr>\n",
       "      <th>774704</th>\n",
       "      <td>4</td>\n",
       "      <td>1</td>\n",
       "      <td>4</td>\n",
       "      <td>0</td>\n",
       "      <td>7</td>\n",
       "      <td>259</td>\n",
       "      <td>154</td>\n",
       "      <td>0.120679</td>\n",
       "      <td>0.049889</td>\n",
       "      <td>0.034286</td>\n",
       "      <td>0.108761</td>\n",
       "      <td>1</td>\n",
       "      <td>0.740122</td>\n",
       "      <td>0.861245</td>\n",
       "      <td>0.826250</td>\n",
       "      <td>0.318230</td>\n",
       "      <td>0.954845</td>\n",
       "      <td>5241</td>\n",
       "    </tr>\n",
       "  </tbody>\n",
       "</table>\n",
       "<p>35015 rows × 18 columns</p>\n",
       "</div>\n",
       "      <button class=\"colab-df-convert\" onclick=\"convertToInteractive('df-78d03db1-f103-4278-9b3c-006d8f2890fd')\"\n",
       "              title=\"Convert this dataframe to an interactive table.\"\n",
       "              style=\"display:none;\">\n",
       "        \n",
       "  <svg xmlns=\"http://www.w3.org/2000/svg\" height=\"24px\"viewBox=\"0 0 24 24\"\n",
       "       width=\"24px\">\n",
       "    <path d=\"M0 0h24v24H0V0z\" fill=\"none\"/>\n",
       "    <path d=\"M18.56 5.44l.94 2.06.94-2.06 2.06-.94-2.06-.94-.94-2.06-.94 2.06-2.06.94zm-11 1L8.5 8.5l.94-2.06 2.06-.94-2.06-.94L8.5 2.5l-.94 2.06-2.06.94zm10 10l.94 2.06.94-2.06 2.06-.94-2.06-.94-.94-2.06-.94 2.06-2.06.94z\"/><path d=\"M17.41 7.96l-1.37-1.37c-.4-.4-.92-.59-1.43-.59-.52 0-1.04.2-1.43.59L10.3 9.45l-7.72 7.72c-.78.78-.78 2.05 0 2.83L4 21.41c.39.39.9.59 1.41.59.51 0 1.02-.2 1.41-.59l7.78-7.78 2.81-2.81c.8-.78.8-2.07 0-2.86zM5.41 20L4 18.59l7.72-7.72 1.47 1.35L5.41 20z\"/>\n",
       "  </svg>\n",
       "      </button>\n",
       "      \n",
       "  <style>\n",
       "    .colab-df-container {\n",
       "      display:flex;\n",
       "      flex-wrap:wrap;\n",
       "      gap: 12px;\n",
       "    }\n",
       "\n",
       "    .colab-df-convert {\n",
       "      background-color: #E8F0FE;\n",
       "      border: none;\n",
       "      border-radius: 50%;\n",
       "      cursor: pointer;\n",
       "      display: none;\n",
       "      fill: #1967D2;\n",
       "      height: 32px;\n",
       "      padding: 0 0 0 0;\n",
       "      width: 32px;\n",
       "    }\n",
       "\n",
       "    .colab-df-convert:hover {\n",
       "      background-color: #E2EBFA;\n",
       "      box-shadow: 0px 1px 2px rgba(60, 64, 67, 0.3), 0px 1px 3px 1px rgba(60, 64, 67, 0.15);\n",
       "      fill: #174EA6;\n",
       "    }\n",
       "\n",
       "    [theme=dark] .colab-df-convert {\n",
       "      background-color: #3B4455;\n",
       "      fill: #D2E3FC;\n",
       "    }\n",
       "\n",
       "    [theme=dark] .colab-df-convert:hover {\n",
       "      background-color: #434B5C;\n",
       "      box-shadow: 0px 1px 3px 1px rgba(0, 0, 0, 0.15);\n",
       "      filter: drop-shadow(0px 1px 2px rgba(0, 0, 0, 0.3));\n",
       "      fill: #FFFFFF;\n",
       "    }\n",
       "  </style>\n",
       "\n",
       "      <script>\n",
       "        const buttonEl =\n",
       "          document.querySelector('#df-78d03db1-f103-4278-9b3c-006d8f2890fd button.colab-df-convert');\n",
       "        buttonEl.style.display =\n",
       "          google.colab.kernel.accessAllowed ? 'block' : 'none';\n",
       "\n",
       "        async function convertToInteractive(key) {\n",
       "          const element = document.querySelector('#df-78d03db1-f103-4278-9b3c-006d8f2890fd');\n",
       "          const dataTable =\n",
       "            await google.colab.kernel.invokeFunction('convertToInteractive',\n",
       "                                                     [key], {});\n",
       "          if (!dataTable) return;\n",
       "\n",
       "          const docLinkHtml = 'Like what you see? Visit the ' +\n",
       "            '<a target=\"_blank\" href=https://colab.research.google.com/notebooks/data_table.ipynb>data table notebook</a>'\n",
       "            + ' to learn more about interactive tables.';\n",
       "          element.innerHTML = '';\n",
       "          dataTable['output_type'] = 'display_data';\n",
       "          await google.colab.output.renderOutput(dataTable, element);\n",
       "          const docLink = document.createElement('div');\n",
       "          docLink.innerHTML = docLinkHtml;\n",
       "          element.appendChild(docLink);\n",
       "        }\n",
       "      </script>\n",
       "    </div>\n",
       "  </div>\n",
       "  "
      ],
      "text/plain": [
       "         Month  DayofMonth  DayOfWeek  UniqueCarrier  TailNum  Origin  Dest  \\\n",
       "1206058      7           2          6             15     1096      36   179   \n",
       "87668        0          17          4              6     3051      14   178   \n",
       "1139379      6          19          6              5     3857     116   184   \n",
       "1072211      6          28          1              6     2857     132   128   \n",
       "996481       6           9          3             17     3451     224   132   \n",
       "...        ...         ...        ...            ...      ...     ...   ...   \n",
       "74230        0           2          3             16     1860     162    51   \n",
       "1319204      8          11          4             19     4533     251   187   \n",
       "302460       1           0          4              0       57     209    73   \n",
       "842647       5          29          0             17     3632     110   146   \n",
       "774704       4           1          4              0        7     259   154   \n",
       "\n",
       "         DepDelay  Distance    TaxiIn   TaxiOut  Season  Temperature (°F)  \\\n",
       "1206058  0.032684  0.093314  0.040000  0.024169       2          0.770010   \n",
       "87668    0.002514  0.381539  0.017143  0.048338       0          0.606383   \n",
       "1139379  0.000629  0.366391  0.022857  0.054381       2          0.699595   \n",
       "1072211  0.000629  0.451828  0.091429  0.054381       2          0.820162   \n",
       "996481   0.035198  0.065845  0.051429  0.051360       2          0.735056   \n",
       "...           ...       ...       ...       ...     ...               ...   \n",
       "74230    0.002514  0.146637  0.011429  0.042296       0          0.380193   \n",
       "1319204  0.025141  0.019996  0.040000  0.042296       3          0.848024   \n",
       "302460   0.067253  0.089881  0.057143  0.048338       0          0.402862   \n",
       "842647   0.019485  0.086851  0.017143  0.030211       2          0.726444   \n",
       "774704   0.120679  0.049889  0.034286  0.108761       1          0.740122   \n",
       "\n",
       "         Dew Point (°F)  Humidity (%)  Wind Speed (mph)  Pressure (in)  \\\n",
       "1206058        0.818977      0.640000          0.135402       0.951294   \n",
       "87668          0.492494      0.358125          0.148977       0.944698   \n",
       "1139379        0.732401      0.630000          0.153473       0.971081   \n",
       "1072211        0.818977      0.515938          0.230254       0.971081   \n",
       "996481         0.816353      0.711875          0.144394       0.964485   \n",
       "...                 ...           ...               ...            ...   \n",
       "74230          0.332094      0.480000          0.124118       0.971081   \n",
       "1319204        0.754555      0.370937          0.121827       0.928463   \n",
       "302460         0.487830      0.850000          0.250529       0.948250   \n",
       "842647         0.847836      0.843750          0.187236       0.879756   \n",
       "774704         0.861245      0.826250          0.318230       0.954845   \n",
       "\n",
       "         FlightNum  \n",
       "1206058        124  \n",
       "87668          896  \n",
       "1139379        206  \n",
       "1072211        125  \n",
       "996481        1883  \n",
       "...            ...  \n",
       "74230         1047  \n",
       "1319204       2844  \n",
       "302460        3566  \n",
       "842647        3331  \n",
       "774704        5241  \n",
       "\n",
       "[35015 rows x 18 columns]"
      ]
     },
     "execution_count": 48,
     "metadata": {},
     "output_type": "execute_result"
    }
   ],
   "source": [
    "val_inputs"
   ]
  },
  {
   "cell_type": "code",
   "execution_count": 49,
   "metadata": {
    "colab": {
     "base_uri": "https://localhost:8080/",
     "height": 522
    },
    "executionInfo": {
     "elapsed": 7,
     "status": "ok",
     "timestamp": 1663262250731,
     "user": {
      "displayName": "Srinath Nanduri",
      "userId": "16683609937496845667"
     },
     "user_tz": 420
    },
    "id": "lLrBfYof1kef",
    "outputId": "1f7204ba-2db9-4309-a523-b92ea4375ccc"
   },
   "outputs": [
    {
     "data": {
      "text/html": [
       "\n",
       "  <div id=\"df-08860583-224d-4f29-ac31-7be73db2abf9\">\n",
       "    <div class=\"colab-df-container\">\n",
       "      <div>\n",
       "<style scoped>\n",
       "    .dataframe tbody tr th:only-of-type {\n",
       "        vertical-align: middle;\n",
       "    }\n",
       "\n",
       "    .dataframe tbody tr th {\n",
       "        vertical-align: top;\n",
       "    }\n",
       "\n",
       "    .dataframe thead th {\n",
       "        text-align: right;\n",
       "    }\n",
       "</style>\n",
       "<table border=\"1\" class=\"dataframe\">\n",
       "  <thead>\n",
       "    <tr style=\"text-align: right;\">\n",
       "      <th></th>\n",
       "      <th>Month</th>\n",
       "      <th>DayofMonth</th>\n",
       "      <th>DayOfWeek</th>\n",
       "      <th>UniqueCarrier</th>\n",
       "      <th>TailNum</th>\n",
       "      <th>Origin</th>\n",
       "      <th>Dest</th>\n",
       "      <th>DepDelay</th>\n",
       "      <th>Distance</th>\n",
       "      <th>TaxiIn</th>\n",
       "      <th>TaxiOut</th>\n",
       "      <th>Season</th>\n",
       "      <th>Temperature (°F)</th>\n",
       "      <th>Dew Point (°F)</th>\n",
       "      <th>Humidity (%)</th>\n",
       "      <th>Wind Speed (mph)</th>\n",
       "      <th>Pressure (in)</th>\n",
       "      <th>FlightNum</th>\n",
       "    </tr>\n",
       "  </thead>\n",
       "  <tbody>\n",
       "    <tr>\n",
       "      <th>644678</th>\n",
       "      <td>3</td>\n",
       "      <td>9</td>\n",
       "      <td>3</td>\n",
       "      <td>1</td>\n",
       "      <td>2121</td>\n",
       "      <td>174</td>\n",
       "      <td>136</td>\n",
       "      <td>0.105594</td>\n",
       "      <td>0.203797</td>\n",
       "      <td>0.028571</td>\n",
       "      <td>0.078550</td>\n",
       "      <td>1</td>\n",
       "      <td>0.644377</td>\n",
       "      <td>0.656610</td>\n",
       "      <td>0.630000</td>\n",
       "      <td>0.121827</td>\n",
       "      <td>0.977169</td>\n",
       "      <td>1184</td>\n",
       "    </tr>\n",
       "    <tr>\n",
       "      <th>650768</th>\n",
       "      <td>3</td>\n",
       "      <td>15</td>\n",
       "      <td>2</td>\n",
       "      <td>1</td>\n",
       "      <td>2707</td>\n",
       "      <td>184</td>\n",
       "      <td>158</td>\n",
       "      <td>0.063482</td>\n",
       "      <td>0.239548</td>\n",
       "      <td>0.028571</td>\n",
       "      <td>0.072508</td>\n",
       "      <td>1</td>\n",
       "      <td>0.702634</td>\n",
       "      <td>0.685760</td>\n",
       "      <td>0.496875</td>\n",
       "      <td>0.230254</td>\n",
       "      <td>0.977169</td>\n",
       "      <td>2044</td>\n",
       "    </tr>\n",
       "    <tr>\n",
       "      <th>1645808</th>\n",
       "      <td>11</td>\n",
       "      <td>6</td>\n",
       "      <td>6</td>\n",
       "      <td>15</td>\n",
       "      <td>2576</td>\n",
       "      <td>184</td>\n",
       "      <td>188</td>\n",
       "      <td>0.007542</td>\n",
       "      <td>0.080994</td>\n",
       "      <td>0.022857</td>\n",
       "      <td>0.057402</td>\n",
       "      <td>0</td>\n",
       "      <td>0.337133</td>\n",
       "      <td>0.353593</td>\n",
       "      <td>0.650000</td>\n",
       "      <td>0.347496</td>\n",
       "      <td>0.935058</td>\n",
       "      <td>1196</td>\n",
       "    </tr>\n",
       "    <tr>\n",
       "      <th>1415378</th>\n",
       "      <td>9</td>\n",
       "      <td>12</td>\n",
       "      <td>0</td>\n",
       "      <td>14</td>\n",
       "      <td>2570</td>\n",
       "      <td>225</td>\n",
       "      <td>21</td>\n",
       "      <td>0.038341</td>\n",
       "      <td>0.045849</td>\n",
       "      <td>0.022857</td>\n",
       "      <td>0.063444</td>\n",
       "      <td>3</td>\n",
       "      <td>0.644377</td>\n",
       "      <td>0.458096</td>\n",
       "      <td>0.260937</td>\n",
       "      <td>0.146685</td>\n",
       "      <td>0.964485</td>\n",
       "      <td>5079</td>\n",
       "    </tr>\n",
       "    <tr>\n",
       "      <th>1195276</th>\n",
       "      <td>7</td>\n",
       "      <td>13</td>\n",
       "      <td>3</td>\n",
       "      <td>13</td>\n",
       "      <td>4788</td>\n",
       "      <td>140</td>\n",
       "      <td>211</td>\n",
       "      <td>0.005657</td>\n",
       "      <td>0.143607</td>\n",
       "      <td>0.022857</td>\n",
       "      <td>0.141994</td>\n",
       "      <td>2</td>\n",
       "      <td>0.774063</td>\n",
       "      <td>0.897391</td>\n",
       "      <td>0.831250</td>\n",
       "      <td>0.083480</td>\n",
       "      <td>0.967529</td>\n",
       "      <td>4767</td>\n",
       "    </tr>\n",
       "    <tr>\n",
       "      <th>...</th>\n",
       "      <td>...</td>\n",
       "      <td>...</td>\n",
       "      <td>...</td>\n",
       "      <td>...</td>\n",
       "      <td>...</td>\n",
       "      <td>...</td>\n",
       "      <td>...</td>\n",
       "      <td>...</td>\n",
       "      <td>...</td>\n",
       "      <td>...</td>\n",
       "      <td>...</td>\n",
       "      <td>...</td>\n",
       "      <td>...</td>\n",
       "      <td>...</td>\n",
       "      <td>...</td>\n",
       "      <td>...</td>\n",
       "      <td>...</td>\n",
       "      <td>...</td>\n",
       "    </tr>\n",
       "    <tr>\n",
       "      <th>1546587</th>\n",
       "      <td>10</td>\n",
       "      <td>16</td>\n",
       "      <td>0</td>\n",
       "      <td>12</td>\n",
       "      <td>1215</td>\n",
       "      <td>174</td>\n",
       "      <td>129</td>\n",
       "      <td>0.038969</td>\n",
       "      <td>0.260351</td>\n",
       "      <td>0.057143</td>\n",
       "      <td>0.057402</td>\n",
       "      <td>3</td>\n",
       "      <td>0.703647</td>\n",
       "      <td>0.482291</td>\n",
       "      <td>0.214062</td>\n",
       "      <td>0.063205</td>\n",
       "      <td>0.906139</td>\n",
       "      <td>775</td>\n",
       "    </tr>\n",
       "    <tr>\n",
       "      <th>532747</th>\n",
       "      <td>3</td>\n",
       "      <td>3</td>\n",
       "      <td>4</td>\n",
       "      <td>17</td>\n",
       "      <td>983</td>\n",
       "      <td>225</td>\n",
       "      <td>131</td>\n",
       "      <td>0.113765</td>\n",
       "      <td>0.065845</td>\n",
       "      <td>0.028571</td>\n",
       "      <td>0.030211</td>\n",
       "      <td>1</td>\n",
       "      <td>0.622594</td>\n",
       "      <td>0.727736</td>\n",
       "      <td>0.823750</td>\n",
       "      <td>0.164757</td>\n",
       "      <td>0.974125</td>\n",
       "      <td>468</td>\n",
       "    </tr>\n",
       "    <tr>\n",
       "      <th>246275</th>\n",
       "      <td>1</td>\n",
       "      <td>7</td>\n",
       "      <td>4</td>\n",
       "      <td>16</td>\n",
       "      <td>1213</td>\n",
       "      <td>133</td>\n",
       "      <td>209</td>\n",
       "      <td>0.037084</td>\n",
       "      <td>0.049889</td>\n",
       "      <td>0.045714</td>\n",
       "      <td>0.027190</td>\n",
       "      <td>0</td>\n",
       "      <td>0.627406</td>\n",
       "      <td>0.665063</td>\n",
       "      <td>0.651250</td>\n",
       "      <td>0.060913</td>\n",
       "      <td>0.974125</td>\n",
       "      <td>529</td>\n",
       "    </tr>\n",
       "    <tr>\n",
       "      <th>456340</th>\n",
       "      <td>2</td>\n",
       "      <td>19</td>\n",
       "      <td>3</td>\n",
       "      <td>9</td>\n",
       "      <td>4703</td>\n",
       "      <td>14</td>\n",
       "      <td>183</td>\n",
       "      <td>0.001257</td>\n",
       "      <td>0.100384</td>\n",
       "      <td>0.022857</td>\n",
       "      <td>0.036254</td>\n",
       "      <td>1</td>\n",
       "      <td>0.638804</td>\n",
       "      <td>0.575572</td>\n",
       "      <td>0.446875</td>\n",
       "      <td>0.390339</td>\n",
       "      <td>0.964485</td>\n",
       "      <td>900</td>\n",
       "    </tr>\n",
       "    <tr>\n",
       "      <th>462205</th>\n",
       "      <td>2</td>\n",
       "      <td>29</td>\n",
       "      <td>6</td>\n",
       "      <td>11</td>\n",
       "      <td>3971</td>\n",
       "      <td>226</td>\n",
       "      <td>68</td>\n",
       "      <td>0.015085</td>\n",
       "      <td>0.071299</td>\n",
       "      <td>0.057143</td>\n",
       "      <td>0.027190</td>\n",
       "      <td>1</td>\n",
       "      <td>0.767477</td>\n",
       "      <td>0.856581</td>\n",
       "      <td>0.731250</td>\n",
       "      <td>0.266220</td>\n",
       "      <td>0.951294</td>\n",
       "      <td>3437</td>\n",
       "    </tr>\n",
       "  </tbody>\n",
       "</table>\n",
       "<p>35015 rows × 18 columns</p>\n",
       "</div>\n",
       "      <button class=\"colab-df-convert\" onclick=\"convertToInteractive('df-08860583-224d-4f29-ac31-7be73db2abf9')\"\n",
       "              title=\"Convert this dataframe to an interactive table.\"\n",
       "              style=\"display:none;\">\n",
       "        \n",
       "  <svg xmlns=\"http://www.w3.org/2000/svg\" height=\"24px\"viewBox=\"0 0 24 24\"\n",
       "       width=\"24px\">\n",
       "    <path d=\"M0 0h24v24H0V0z\" fill=\"none\"/>\n",
       "    <path d=\"M18.56 5.44l.94 2.06.94-2.06 2.06-.94-2.06-.94-.94-2.06-.94 2.06-2.06.94zm-11 1L8.5 8.5l.94-2.06 2.06-.94-2.06-.94L8.5 2.5l-.94 2.06-2.06.94zm10 10l.94 2.06.94-2.06 2.06-.94-2.06-.94-.94-2.06-.94 2.06-2.06.94z\"/><path d=\"M17.41 7.96l-1.37-1.37c-.4-.4-.92-.59-1.43-.59-.52 0-1.04.2-1.43.59L10.3 9.45l-7.72 7.72c-.78.78-.78 2.05 0 2.83L4 21.41c.39.39.9.59 1.41.59.51 0 1.02-.2 1.41-.59l7.78-7.78 2.81-2.81c.8-.78.8-2.07 0-2.86zM5.41 20L4 18.59l7.72-7.72 1.47 1.35L5.41 20z\"/>\n",
       "  </svg>\n",
       "      </button>\n",
       "      \n",
       "  <style>\n",
       "    .colab-df-container {\n",
       "      display:flex;\n",
       "      flex-wrap:wrap;\n",
       "      gap: 12px;\n",
       "    }\n",
       "\n",
       "    .colab-df-convert {\n",
       "      background-color: #E8F0FE;\n",
       "      border: none;\n",
       "      border-radius: 50%;\n",
       "      cursor: pointer;\n",
       "      display: none;\n",
       "      fill: #1967D2;\n",
       "      height: 32px;\n",
       "      padding: 0 0 0 0;\n",
       "      width: 32px;\n",
       "    }\n",
       "\n",
       "    .colab-df-convert:hover {\n",
       "      background-color: #E2EBFA;\n",
       "      box-shadow: 0px 1px 2px rgba(60, 64, 67, 0.3), 0px 1px 3px 1px rgba(60, 64, 67, 0.15);\n",
       "      fill: #174EA6;\n",
       "    }\n",
       "\n",
       "    [theme=dark] .colab-df-convert {\n",
       "      background-color: #3B4455;\n",
       "      fill: #D2E3FC;\n",
       "    }\n",
       "\n",
       "    [theme=dark] .colab-df-convert:hover {\n",
       "      background-color: #434B5C;\n",
       "      box-shadow: 0px 1px 3px 1px rgba(0, 0, 0, 0.15);\n",
       "      filter: drop-shadow(0px 1px 2px rgba(0, 0, 0, 0.3));\n",
       "      fill: #FFFFFF;\n",
       "    }\n",
       "  </style>\n",
       "\n",
       "      <script>\n",
       "        const buttonEl =\n",
       "          document.querySelector('#df-08860583-224d-4f29-ac31-7be73db2abf9 button.colab-df-convert');\n",
       "        buttonEl.style.display =\n",
       "          google.colab.kernel.accessAllowed ? 'block' : 'none';\n",
       "\n",
       "        async function convertToInteractive(key) {\n",
       "          const element = document.querySelector('#df-08860583-224d-4f29-ac31-7be73db2abf9');\n",
       "          const dataTable =\n",
       "            await google.colab.kernel.invokeFunction('convertToInteractive',\n",
       "                                                     [key], {});\n",
       "          if (!dataTable) return;\n",
       "\n",
       "          const docLinkHtml = 'Like what you see? Visit the ' +\n",
       "            '<a target=\"_blank\" href=https://colab.research.google.com/notebooks/data_table.ipynb>data table notebook</a>'\n",
       "            + ' to learn more about interactive tables.';\n",
       "          element.innerHTML = '';\n",
       "          dataTable['output_type'] = 'display_data';\n",
       "          await google.colab.output.renderOutput(dataTable, element);\n",
       "          const docLink = document.createElement('div');\n",
       "          docLink.innerHTML = docLinkHtml;\n",
       "          element.appendChild(docLink);\n",
       "        }\n",
       "      </script>\n",
       "    </div>\n",
       "  </div>\n",
       "  "
      ],
      "text/plain": [
       "         Month  DayofMonth  DayOfWeek  UniqueCarrier  TailNum  Origin  Dest  \\\n",
       "644678       3           9          3              1     2121     174   136   \n",
       "650768       3          15          2              1     2707     184   158   \n",
       "1645808     11           6          6             15     2576     184   188   \n",
       "1415378      9          12          0             14     2570     225    21   \n",
       "1195276      7          13          3             13     4788     140   211   \n",
       "...        ...         ...        ...            ...      ...     ...   ...   \n",
       "1546587     10          16          0             12     1215     174   129   \n",
       "532747       3           3          4             17      983     225   131   \n",
       "246275       1           7          4             16     1213     133   209   \n",
       "456340       2          19          3              9     4703      14   183   \n",
       "462205       2          29          6             11     3971     226    68   \n",
       "\n",
       "         DepDelay  Distance    TaxiIn   TaxiOut  Season  Temperature (°F)  \\\n",
       "644678   0.105594  0.203797  0.028571  0.078550       1          0.644377   \n",
       "650768   0.063482  0.239548  0.028571  0.072508       1          0.702634   \n",
       "1645808  0.007542  0.080994  0.022857  0.057402       0          0.337133   \n",
       "1415378  0.038341  0.045849  0.022857  0.063444       3          0.644377   \n",
       "1195276  0.005657  0.143607  0.022857  0.141994       2          0.774063   \n",
       "...           ...       ...       ...       ...     ...               ...   \n",
       "1546587  0.038969  0.260351  0.057143  0.057402       3          0.703647   \n",
       "532747   0.113765  0.065845  0.028571  0.030211       1          0.622594   \n",
       "246275   0.037084  0.049889  0.045714  0.027190       0          0.627406   \n",
       "456340   0.001257  0.100384  0.022857  0.036254       1          0.638804   \n",
       "462205   0.015085  0.071299  0.057143  0.027190       1          0.767477   \n",
       "\n",
       "         Dew Point (°F)  Humidity (%)  Wind Speed (mph)  Pressure (in)  \\\n",
       "644678         0.656610      0.630000          0.121827       0.977169   \n",
       "650768         0.685760      0.496875          0.230254       0.977169   \n",
       "1645808        0.353593      0.650000          0.347496       0.935058   \n",
       "1415378        0.458096      0.260937          0.146685       0.964485   \n",
       "1195276        0.897391      0.831250          0.083480       0.967529   \n",
       "...                 ...           ...               ...            ...   \n",
       "1546587        0.482291      0.214062          0.063205       0.906139   \n",
       "532747         0.727736      0.823750          0.164757       0.974125   \n",
       "246275         0.665063      0.651250          0.060913       0.974125   \n",
       "456340         0.575572      0.446875          0.390339       0.964485   \n",
       "462205         0.856581      0.731250          0.266220       0.951294   \n",
       "\n",
       "         FlightNum  \n",
       "644678        1184  \n",
       "650768        2044  \n",
       "1645808       1196  \n",
       "1415378       5079  \n",
       "1195276       4767  \n",
       "...            ...  \n",
       "1546587        775  \n",
       "532747         468  \n",
       "246275         529  \n",
       "456340         900  \n",
       "462205        3437  \n",
       "\n",
       "[35015 rows x 18 columns]"
      ]
     },
     "execution_count": 49,
     "metadata": {},
     "output_type": "execute_result"
    }
   ],
   "source": [
    "test_inputs"
   ]
  },
  {
   "cell_type": "markdown",
   "metadata": {
    "id": "SG4a09iSOSnk"
   },
   "source": [
    "# 10. Machine Learning Models"
   ]
  },
  {
   "cell_type": "markdown",
   "metadata": {
    "id": "qZRw37ISRcOP"
   },
   "source": [
    "The machine learning models being tested in this section are as follows:\n",
    "\n",
    "- [Logistic Regression](https://scikit-learn.org/stable/modules/generated/sklearn.linear_model.LogisticRegression.html)\n",
    "- [XGB Classifier](https://xgboost.readthedocs.io/en/stable/python/index.html)\n",
    "- [Decision Tree Classifier](https://scikit-learn.org/stable/modules/generated/sklearn.tree.DecisionTreeClassifier.html)\n",
    "- [Random Forest Classifier](https://scikit-learn.org/stable/modules/generated/sklearn.ensemble.RandomForestClassifier.html)\n",
    "\n",
    "The model evaluation tool being used for this section is:\n",
    "\n",
    "- [Accuracy Score](https://scikit-learn.org/stable/modules/generated/sklearn.metrics.accuracy_score.html)\n",
    "\n",
    "\n"
   ]
  },
  {
   "cell_type": "code",
   "execution_count": 50,
   "metadata": {
    "executionInfo": {
     "elapsed": 6,
     "status": "ok",
     "timestamp": 1663262250731,
     "user": {
      "displayName": "Srinath Nanduri",
      "userId": "16683609937496845667"
     },
     "user_tz": 420
    },
    "id": "7o_Vkf7LJ8RV"
   },
   "outputs": [],
   "source": [
    "def try_model(model):\n",
    "  # Fit the model\n",
    "  model.fit(train_inputs, train_targets)\n",
    "  \n",
    "  # Generate predictions\n",
    "  train_preds = model.predict(train_inputs)\n",
    "  val_preds = model.predict(val_inputs)\n",
    "  test_preds = model.predict(test_inputs)\n",
    "  \n",
    "  # Compute Accuracy\n",
    "  train_accuracy = accuracy_score(train_targets, train_preds)\n",
    "  print(\"Training Accuracy: {:.2f}%\".format(train_accuracy * 100))\n",
    "\n",
    "  val_accuracy = accuracy_score(val_targets, val_preds)\n",
    "  print(\"Validation Accuracy: {:.2f}%\".format(val_accuracy * 100))\n",
    "\n",
    "  test_accuracy = accuracy_score(test_targets, test_preds)\n",
    "  print(\"Test Accuracy: {:.2f}%\".format(test_accuracy * 100))\n",
    "\n",
    "  cf1 = confusion_matrix(train_targets, train_preds, normalize='true')\n",
    "  cf2 = confusion_matrix(val_targets, val_preds, normalize='true')\n",
    "  cf3 = confusion_matrix(test_targets, test_preds, normalize='true')\n",
    "\n",
    "  fig, axes = plt.subplots(1, 3, figsize=(25, 10))\n",
    "  fig.suptitle('Confusion Matrix')\n",
    "\n",
    "  sns.heatmap(cf1, ax=axes[0], annot=True)\n",
    "  axes[0].set_title('Training Accuracy')\n",
    "  axes[0].set_xlabel(\"Prediction\")\n",
    "  axes[0].set_ylabel(\"Target\")\n",
    "\n",
    "  sns.heatmap(cf2, ax=axes[1], annot=True)\n",
    "  axes[1].set_title('Validation Accuracy')\n",
    "  axes[1].set_xlabel(\"Prediction\")\n",
    "  axes[1].set_ylabel(\"Target\")\n",
    "\n",
    "  sns.heatmap(cf3, ax=axes[2], annot=True)\n",
    "  axes[2].set_title('Test Accuracy')\n",
    "  axes[2].set_xlabel(\"Prediction\")\n",
    "  axes[2].set_ylabel(\"Target\")\n",
    "\n",
    "  plt.show()\n",
    "\n",
    "  return (train_accuracy, val_accuracy, test_accuracy)"
   ]
  },
  {
   "cell_type": "code",
   "execution_count": 51,
   "metadata": {
    "executionInfo": {
     "elapsed": 6,
     "status": "ok",
     "timestamp": 1663262250731,
     "user": {
      "displayName": "Srinath Nanduri",
      "userId": "16683609937496845667"
     },
     "user_tz": 420
    },
    "id": "1QKcWCP_4fUB"
   },
   "outputs": [],
   "source": [
    "def hyper_tune(model, params_dict):\n",
    "  # Initialize grid\n",
    "  grid = RandomizedSearchCV(estimator=model,\n",
    "                          param_distributions=params_dict,\n",
    "                          n_iter=20,\n",
    "                          cv=5)\n",
    "  \n",
    "  grid_results = grid.fit(train_inputs, train_targets)\n",
    "\n",
    "  best_model = grid_results.best_estimator_\n",
    "  print(best_model)\n",
    "\n",
    "  return best_model"
   ]
  },
  {
   "cell_type": "markdown",
   "metadata": {
    "id": "TPfXoZkFXQLb"
   },
   "source": [
    "## Logistic Regression"
   ]
  },
  {
   "cell_type": "code",
   "execution_count": 52,
   "metadata": {
    "colab": {
     "base_uri": "https://localhost:8080/",
     "height": 759
    },
    "executionInfo": {
     "elapsed": 123059,
     "status": "ok",
     "timestamp": 1663262373784,
     "user": {
      "displayName": "Srinath Nanduri",
      "userId": "16683609937496845667"
     },
     "user_tz": 420
    },
    "id": "PgO5gowWXPOB",
    "outputId": "58999c31-1ff5-490e-994d-0da67460d38a"
   },
   "outputs": [
    {
     "name": "stdout",
     "output_type": "stream",
     "text": [
      "Training Accuracy: 63.04%\n",
      "Validation Accuracy: 62.75%\n",
      "Test Accuracy: 62.94%\n"
     ]
    },
    {
     "data": {
      "image/png": "[encoded data removed]",
      "text/plain": [
       "<Figure size 1800x720 with 6 Axes>"
      ]
     },
     "metadata": {
      "needs_background": "light"
     },
     "output_type": "display_data"
    },
    {
     "name": "stdout",
     "output_type": "stream",
     "text": [
      "CPU times: user 1.9 s, sys: 910 ms, total: 2.81 s\n",
      "Wall time: 2min 3s\n"
     ]
    }
   ],
   "source": [
    "%%time\n",
    "log_model = try_model(LogisticRegression(solver='newton-cg', n_jobs=-1))"
   ]
  },
  {
   "cell_type": "markdown",
   "metadata": {
    "id": "2-Jt2r8CXyMG"
   },
   "source": [
    "## XGBoost Classifier"
   ]
  },
  {
   "cell_type": "code",
   "execution_count": 53,
   "metadata": {
    "colab": {
     "base_uri": "https://localhost:8080/",
     "height": 759
    },
    "executionInfo": {
     "elapsed": 34100,
     "status": "ok",
     "timestamp": 1663262407881,
     "user": {
      "displayName": "Srinath Nanduri",
      "userId": "16683609937496845667"
     },
     "user_tz": 420
    },
    "id": "kXkRNfTxsZGr",
    "outputId": "3b068ac8-57ac-424c-f661-dcf8818e72ec"
   },
   "outputs": [
    {
     "name": "stdout",
     "output_type": "stream",
     "text": [
      "Training Accuracy: 73.06%\n",
      "Validation Accuracy: 72.87%\n",
      "Test Accuracy: 72.92%\n"
     ]
    },
    {
     "data": {
      "image/png": "[encoded data removed]",
      "text/plain": [
       "<Figure size 1800x720 with 6 Axes>"
      ]
     },
     "metadata": {
      "needs_background": "light"
     },
     "output_type": "display_data"
    },
    {
     "name": "stdout",
     "output_type": "stream",
     "text": [
      "CPU times: user 34 s, sys: 313 ms, total: 34.3 s\n",
      "Wall time: 34 s\n"
     ]
    }
   ],
   "source": [
    "%%time\n",
    "xgb_model = try_model(xgb.XGBClassifier())"
   ]
  },
  {
   "cell_type": "code",
   "execution_count": 54,
   "metadata": {
    "executionInfo": {
     "elapsed": 4,
     "status": "ok",
     "timestamp": 1663262407881,
     "user": {
      "displayName": "Srinath Nanduri",
      "userId": "16683609937496845667"
     },
     "user_tz": 420
    },
    "id": "dIyUbVXWbbHr"
   },
   "outputs": [],
   "source": [
    "from bayes_opt import BayesianOptimization"
   ]
  },
  {
   "cell_type": "code",
   "execution_count": 55,
   "metadata": {
    "executionInfo": {
     "elapsed": 3,
     "status": "ok",
     "timestamp": 1663262407881,
     "user": {
      "displayName": "Srinath Nanduri",
      "userId": "16683609937496845667"
     },
     "user_tz": 420
    },
    "id": "wroiskRhppfq"
   },
   "outputs": [],
   "source": [
    "dtrain = xgb.DMatrix(train_inputs, train_targets)"
   ]
  },
  {
   "cell_type": "code",
   "execution_count": 56,
   "metadata": {
    "executionInfo": {
     "elapsed": 4,
     "status": "ok",
     "timestamp": 1663262407882,
     "user": {
      "displayName": "Srinath Nanduri",
      "userId": "16683609937496845667"
     },
     "user_tz": 420
    },
    "id": "H8sgF4qUmxv0"
   },
   "outputs": [],
   "source": [
    "def bo_tune_xgb(max_depth, gamma, n_estimators ,learning_rate):\n",
    "  params = {'max_depth': int(max_depth),\n",
    "              'gamma': gamma,\n",
    "              'n_estimators': int(n_estimators),\n",
    "              'learning_rate':learning_rate,\n",
    "              'subsample': 0.8,\n",
    "              'eta': 0.1,\n",
    "              'eval_metric': 'rmse'}\n",
    "\n",
    "  #Cross validating with the specified parameters in 5 folds and 70 iterations\n",
    "  cv_result = xgb.cv(params, dtrain, num_boost_round=70, nfold=5)\n",
    "\n",
    "  #Return the negative RMSE\n",
    "  return -1.0 * cv_result['test-rmse-mean'].iloc[-1]\n",
    "\n",
    "#Invoking the Bayesian Optimizer with the specified parameters to tune\n",
    "xgb_bo = BayesianOptimization(bo_tune_xgb, {'max_depth': (3, 10),\n",
    "                                             'gamma': (0, 1),\n",
    "                                             'learning_rate':(0,1),\n",
    "                                             'n_estimators':(100,300)\n",
    "                                            })"
   ]
  },
  {
   "cell_type": "code",
   "execution_count": 57,
   "metadata": {
    "colab": {
     "base_uri": "https://localhost:8080/"
    },
    "executionInfo": {
     "elapsed": 965907,
     "status": "ok",
     "timestamp": 1663263373785,
     "user": {
      "displayName": "Srinath Nanduri",
      "userId": "16683609937496845667"
     },
     "user_tz": 420
    },
    "id": "kZItUtIWpQuL",
    "outputId": "2d9c233a-0e19-4eb8-9f63-699754e2b588"
   },
   "outputs": [
    {
     "name": "stdout",
     "output_type": "stream",
     "text": [
      "|   iter    |  target   |   gamma   | learni... | max_depth | n_esti... |\n",
      "-------------------------------------------------------------------------\n",
      "| \u001b[0m 1       \u001b[0m | \u001b[0m-0.9175  \u001b[0m | \u001b[0m 0.7462  \u001b[0m | \u001b[0m 0.9088  \u001b[0m | \u001b[0m 7.16    \u001b[0m | \u001b[0m 166.6   \u001b[0m |\n",
      "| \u001b[95m 2       \u001b[0m | \u001b[95m-0.8809  \u001b[0m | \u001b[95m 0.29    \u001b[0m | \u001b[95m 0.7938  \u001b[0m | \u001b[95m 7.822   \u001b[0m | \u001b[95m 209.8   \u001b[0m |\n",
      "| \u001b[95m 3       \u001b[0m | \u001b[95m-0.8606  \u001b[0m | \u001b[95m 0.3932  \u001b[0m | \u001b[95m 0.7121  \u001b[0m | \u001b[95m 7.672   \u001b[0m | \u001b[95m 251.4   \u001b[0m |\n",
      "| \u001b[95m 4       \u001b[0m | \u001b[95m-0.8252  \u001b[0m | \u001b[95m 0.2308  \u001b[0m | \u001b[95m 0.8928  \u001b[0m | \u001b[95m 5.027   \u001b[0m | \u001b[95m 160.5   \u001b[0m |\n",
      "| \u001b[95m 5       \u001b[0m | \u001b[95m-0.7861  \u001b[0m | \u001b[95m 0.3771  \u001b[0m | \u001b[95m 0.4609  \u001b[0m | \u001b[95m 3.91    \u001b[0m | \u001b[95m 199.4   \u001b[0m |\n",
      "| \u001b[95m 6       \u001b[0m | \u001b[95m-0.7851  \u001b[0m | \u001b[95m 0.7628  \u001b[0m | \u001b[95m 0.4349  \u001b[0m | \u001b[95m 3.468   \u001b[0m | \u001b[95m 202.2   \u001b[0m |\n",
      "| \u001b[95m 7       \u001b[0m | \u001b[95m-0.7828  \u001b[0m | \u001b[95m 0.2307  \u001b[0m | \u001b[95m 0.2048  \u001b[0m | \u001b[95m 9.903   \u001b[0m | \u001b[95m 229.0   \u001b[0m |\n",
      "| \u001b[95m 8       \u001b[0m | \u001b[95m-0.7824  \u001b[0m | \u001b[95m 0.3908  \u001b[0m | \u001b[95m 0.4066  \u001b[0m | \u001b[95m 5.428   \u001b[0m | \u001b[95m 115.7   \u001b[0m |\n",
      "| \u001b[0m 9       \u001b[0m | \u001b[0m-0.7946  \u001b[0m | \u001b[0m 0.06353 \u001b[0m | \u001b[0m 0.7539  \u001b[0m | \u001b[0m 4.73    \u001b[0m | \u001b[0m 165.8   \u001b[0m |\n",
      "| \u001b[0m 10      \u001b[0m | \u001b[0m-0.8726  \u001b[0m | \u001b[0m 0.8998  \u001b[0m | \u001b[0m 0.5645  \u001b[0m | \u001b[0m 9.765   \u001b[0m | \u001b[0m 207.6   \u001b[0m |\n",
      "| \u001b[0m 11      \u001b[0m | \u001b[0m-0.7906  \u001b[0m | \u001b[0m 0.8975  \u001b[0m | \u001b[0m 0.7953  \u001b[0m | \u001b[0m 3.633   \u001b[0m | \u001b[0m 109.7   \u001b[0m |\n",
      "| \u001b[0m 12      \u001b[0m | \u001b[0m-0.7985  \u001b[0m | \u001b[0m 0.781   \u001b[0m | \u001b[0m 0.4926  \u001b[0m | \u001b[0m 6.639   \u001b[0m | \u001b[0m 153.8   \u001b[0m |\n",
      "| \u001b[0m 13      \u001b[0m | \u001b[0m-0.7887  \u001b[0m | \u001b[0m 0.2276  \u001b[0m | \u001b[0m 0.7401  \u001b[0m | \u001b[0m 3.423   \u001b[0m | \u001b[0m 267.3   \u001b[0m |\n",
      "| \u001b[0m 14      \u001b[0m | \u001b[0m-0.8212  \u001b[0m | \u001b[0m 0.6863  \u001b[0m | \u001b[0m 0.6699  \u001b[0m | \u001b[0m 6.416   \u001b[0m | \u001b[0m 244.2   \u001b[0m |\n",
      "| \u001b[0m 15      \u001b[0m | \u001b[0m-0.7841  \u001b[0m | \u001b[0m 0.05697 \u001b[0m | \u001b[0m 0.3648  \u001b[0m | \u001b[0m 6.775   \u001b[0m | \u001b[0m 181.0   \u001b[0m |\n",
      "| \u001b[0m 16      \u001b[0m | \u001b[0m-0.785   \u001b[0m | \u001b[0m 0.5744  \u001b[0m | \u001b[0m 0.4478  \u001b[0m | \u001b[0m 3.684   \u001b[0m | \u001b[0m 200.8   \u001b[0m |\n",
      "| \u001b[0m 17      \u001b[0m | \u001b[0m-0.7879  \u001b[0m | \u001b[0m 0.278   \u001b[0m | \u001b[0m 0.2292  \u001b[0m | \u001b[0m 3.056   \u001b[0m | \u001b[0m 165.6   \u001b[0m |\n",
      "| \u001b[0m 18      \u001b[0m | \u001b[0m-0.7989  \u001b[0m | \u001b[0m 0.3561  \u001b[0m | \u001b[0m 0.8321  \u001b[0m | \u001b[0m 4.899   \u001b[0m | \u001b[0m 113.6   \u001b[0m |\n",
      "| \u001b[0m 19      \u001b[0m | \u001b[0m-0.8422  \u001b[0m | \u001b[0m 0.5197  \u001b[0m | \u001b[0m 0.6313  \u001b[0m | \u001b[0m 7.331   \u001b[0m | \u001b[0m 116.2   \u001b[0m |\n",
      "| \u001b[0m 20      \u001b[0m | \u001b[0m-0.7834  \u001b[0m | \u001b[0m 0.3172  \u001b[0m | \u001b[0m 0.1466  \u001b[0m | \u001b[0m 4.153   \u001b[0m | \u001b[0m 115.7   \u001b[0m |\n",
      "=========================================================================\n",
      "CPU times: user 16min 7s, sys: 4.71 s, total: 16min 12s\n",
      "Wall time: 16min 6s\n"
     ]
    }
   ],
   "source": [
    "%%time\n",
    "xgb_bo.maximize(n_iter=8, init_points=12, acq='ei')"
   ]
  },
  {
   "cell_type": "code",
   "execution_count": 58,
   "metadata": {
    "executionInfo": {
     "elapsed": 11,
     "status": "ok",
     "timestamp": 1663263373785,
     "user": {
      "displayName": "Srinath Nanduri",
      "userId": "16683609937496845667"
     },
     "user_tz": 420
    },
    "id": "bouXa36eqlhZ"
   },
   "outputs": [],
   "source": [
    "params = xgb_bo.max['params']\n",
    "params['max_depth'] = int(params['max_depth'])\n",
    "params['n_estimators'] = int(params['n_estimators'])"
   ]
  },
  {
   "cell_type": "code",
   "execution_count": 59,
   "metadata": {
    "colab": {
     "base_uri": "https://localhost:8080/"
    },
    "executionInfo": {
     "elapsed": 4,
     "status": "ok",
     "timestamp": 1663263373785,
     "user": {
      "displayName": "Srinath Nanduri",
      "userId": "16683609937496845667"
     },
     "user_tz": 420
    },
    "id": "Y8zR35EH9H4W",
    "outputId": "4b59382b-46e8-4c12-95ef-45cd843b3c58"
   },
   "outputs": [
    {
     "data": {
      "text/plain": [
       "{'gamma': 0.3908368161002379,\n",
       " 'learning_rate': 0.40661511515342597,\n",
       " 'max_depth': 5,\n",
       " 'n_estimators': 115}"
      ]
     },
     "execution_count": 59,
     "metadata": {},
     "output_type": "execute_result"
    }
   ],
   "source": [
    "params"
   ]
  },
  {
   "cell_type": "code",
   "execution_count": 60,
   "metadata": {
    "colab": {
     "base_uri": "https://localhost:8080/",
     "height": 759
    },
    "executionInfo": {
     "elapsed": 70824,
     "status": "ok",
     "timestamp": 1663263444606,
     "user": {
      "displayName": "Srinath Nanduri",
      "userId": "16683609937496845667"
     },
     "user_tz": 420
    },
    "id": "mdoX6ahGhhze",
    "outputId": "8f125d03-ec74-4925-9048-4fd56835acdd"
   },
   "outputs": [
    {
     "name": "stdout",
     "output_type": "stream",
     "text": [
      "Training Accuracy: 80.51%\n",
      "Validation Accuracy: 74.47%\n",
      "Test Accuracy: 74.41%\n"
     ]
    },
    {
     "data": {
      "image/png": "[encoded data removed]",
      "text/plain": [
       "<Figure size 1800x720 with 6 Axes>"
      ]
     },
     "metadata": {
      "needs_background": "light"
     },
     "output_type": "display_data"
    },
    {
     "name": "stdout",
     "output_type": "stream",
     "text": [
      "CPU times: user 1min 10s, sys: 378 ms, total: 1min 11s\n",
      "Wall time: 1min 10s\n"
     ]
    }
   ],
   "source": [
    "%%time\n",
    "xgb_hyper = try_model(xgb.XGBClassifier(**params))"
   ]
  },
  {
   "cell_type": "markdown",
   "metadata": {
    "id": "EywZNsCJKFf_"
   },
   "source": [
    "## Decision Tree Classifier"
   ]
  },
  {
   "cell_type": "code",
   "execution_count": 68,
   "metadata": {
    "executionInfo": {
     "elapsed": 547,
     "status": "ok",
     "timestamp": 1663264828956,
     "user": {
      "displayName": "Srinath Nanduri",
      "userId": "16683609937496845667"
     },
     "user_tz": 420
    },
    "id": "tV1PyPEFThkO"
   },
   "outputs": [],
   "source": [
    "clf = DecisionTreeClassifier(random_state=42)"
   ]
  },
  {
   "cell_type": "code",
   "execution_count": 61,
   "metadata": {
    "colab": {
     "base_uri": "https://localhost:8080/",
     "height": 725
    },
    "executionInfo": {
     "elapsed": 3402,
     "status": "ok",
     "timestamp": 1663263448003,
     "user": {
      "displayName": "Srinath Nanduri",
      "userId": "16683609937496845667"
     },
     "user_tz": 420
    },
    "id": "-WSBI7oi4r1Q",
    "outputId": "3e283327-84b4-4069-ea86-5cf7d6d3a90b"
   },
   "outputs": [
    {
     "name": "stdout",
     "output_type": "stream",
     "text": [
      "Training Accuracy: 100.00%\n",
      "Validation Accuracy: 63.88%\n",
      "Test Accuracy: 64.72%\n"
     ]
    },
    {
     "data": {
      "image/png": "[encoded data removed]",
      "text/plain": [
       "<Figure size 1800x720 with 6 Axes>"
      ]
     },
     "metadata": {
      "needs_background": "light"
     },
     "output_type": "display_data"
    }
   ],
   "source": [
    "clf_model = try_model(clf)"
   ]
  },
  {
   "cell_type": "code",
   "execution_count": 62,
   "metadata": {
    "executionInfo": {
     "elapsed": 7,
     "status": "ok",
     "timestamp": 1663263448004,
     "user": {
      "displayName": "Srinath Nanduri",
      "userId": "16683609937496845667"
     },
     "user_tz": 420
    },
    "id": "NdDGlyBm4sGw"
   },
   "outputs": [],
   "source": [
    "clf_params =  {\n",
    " 'max_depth': [3, 5, 7, 10, 13],\n",
    " 'max_leaf_nodes': [5, 7, 9],\n",
    " 'min_samples_leaf': [3, 5, 7],\n",
    " 'min_samples_split': [4, 6, 8],\n",
    " }"
   ]
  },
  {
   "cell_type": "code",
   "execution_count": 69,
   "metadata": {
    "colab": {
     "base_uri": "https://localhost:8080/",
     "height": 794
    },
    "executionInfo": {
     "elapsed": 39725,
     "status": "ok",
     "timestamp": 1663264874375,
     "user": {
      "displayName": "Srinath Nanduri",
      "userId": "16683609937496845667"
     },
     "user_tz": 420
    },
    "id": "SFF93_UtATBz",
    "outputId": "82d2fa38-9105-4fd8-dc38-4c47fa9709e9"
   },
   "outputs": [
    {
     "name": "stdout",
     "output_type": "stream",
     "text": [
      "DecisionTreeClassifier(max_depth=5, max_leaf_nodes=7, min_samples_leaf=3,\n",
      "                       min_samples_split=6, random_state=42)\n",
      "Training Accuracy: 69.02%\n",
      "Validation Accuracy: 68.63%\n",
      "Test Accuracy: 68.98%\n"
     ]
    },
    {
     "data": {
      "image/png": "[encoded data removed]",
      "text/plain": [
       "<Figure size 1800x720 with 6 Axes>"
      ]
     },
     "metadata": {
      "needs_background": "light"
     },
     "output_type": "display_data"
    },
    {
     "name": "stdout",
     "output_type": "stream",
     "text": [
      "CPU times: user 39.2 s, sys: 341 ms, total: 39.6 s\n",
      "Wall time: 39.3 s\n"
     ]
    }
   ],
   "source": [
    "%%time\n",
    "clf_hyper = try_model(hyper_tune(clf, clf_params))"
   ]
  },
  {
   "cell_type": "markdown",
   "metadata": {
    "id": "w2v3g13nJO_k"
   },
   "source": [
    "## Random Forest Classifier"
   ]
  },
  {
   "cell_type": "code",
   "execution_count": 70,
   "metadata": {
    "executionInfo": {
     "elapsed": 4,
     "status": "ok",
     "timestamp": 1663264874375,
     "user": {
      "displayName": "Srinath Nanduri",
      "userId": "16683609937496845667"
     },
     "user_tz": 420
    },
    "id": "1Z2OdEstTsgh"
   },
   "outputs": [],
   "source": [
    "rfc = RandomForestClassifier(random_state=42)"
   ]
  },
  {
   "cell_type": "code",
   "execution_count": 71,
   "metadata": {
    "colab": {
     "base_uri": "https://localhost:8080/",
     "height": 725
    },
    "executionInfo": {
     "elapsed": 46111,
     "status": "ok",
     "timestamp": 1663264920483,
     "user": {
      "displayName": "Srinath Nanduri",
      "userId": "16683609937496845667"
     },
     "user_tz": 420
    },
    "id": "SQvu_QiMJUdG",
    "outputId": "338c4eb7-3cca-4806-ce52-806b71b39fed"
   },
   "outputs": [
    {
     "name": "stdout",
     "output_type": "stream",
     "text": [
      "Training Accuracy: 100.00%\n",
      "Validation Accuracy: 73.89%\n",
      "Test Accuracy: 73.92%\n"
     ]
    },
    {
     "data": {
      "image/png": "[encoded data removed]",
      "text/plain": [
       "<Figure size 1800x720 with 6 Axes>"
      ]
     },
     "metadata": {
      "needs_background": "light"
     },
     "output_type": "display_data"
    }
   ],
   "source": [
    "%%time\n",
    "rfc_model = try_model(rfc)"
   ]
  },
  {
   "cell_type": "code",
   "execution_count": 78,
   "metadata": {
    "executionInfo": {
     "elapsed": 273,
     "status": "ok",
     "timestamp": 1663266937183,
     "user": {
      "displayName": "Srinath Nanduri",
      "userId": "16683609937496845667"
     },
     "user_tz": 420
    },
    "id": "BqtNXp2UKBHW"
   },
   "outputs": [],
   "source": [
    "rfc_params = {\n",
    " 'max_depth': [3, 5, 7, 10, 13],\n",
    " 'max_leaf_nodes': [7, 9, 11],\n",
    " 'min_samples_leaf': [7, 9, 11],\n",
    " 'min_samples_split': [2, 4, 6],\n",
    " }"
   ]
  },
  {
   "cell_type": "code",
   "execution_count": 79,
   "metadata": {
    "colab": {
     "base_uri": "https://localhost:8080/",
     "height": 794
    },
    "executionInfo": {
     "elapsed": 699507,
     "status": "ok",
     "timestamp": 1663267637063,
     "user": {
      "displayName": "Srinath Nanduri",
      "userId": "16683609937496845667"
     },
     "user_tz": 420
    },
    "id": "6zHJdJ4pK7dk",
    "outputId": "58691ede-3553-4f8e-f6c8-c76e29725bcf"
   },
   "outputs": [
    {
     "name": "stdout",
     "output_type": "stream",
     "text": [
      "RandomForestClassifier(max_depth=10, max_leaf_nodes=11, min_samples_leaf=9,\n",
      "                       random_state=42)\n",
      "Training Accuracy: 63.26%\n",
      "Validation Accuracy: 62.91%\n",
      "Test Accuracy: 63.02%\n"
     ]
    },
    {
     "data": {
      "image/png": "[encoded data removed]",
      "text/plain": [
       "<Figure size 1800x720 with 6 Axes>"
      ]
     },
     "metadata": {
      "needs_background": "light"
     },
     "output_type": "display_data"
    },
    {
     "name": "stdout",
     "output_type": "stream",
     "text": [
      "CPU times: user 11min 39s, sys: 3.25 s, total: 11min 42s\n",
      "Wall time: 11min 39s\n"
     ]
    }
   ],
   "source": [
    "%%time\n",
    "rfc_hyper = try_model(hyper_tune(rfc, rfc_params))"
   ]
  },
  {
   "cell_type": "markdown",
   "metadata": {
    "id": "2H2D0qV_J_SY"
   },
   "source": [
    "# 11. Comparing Results"
   ]
  },
  {
   "cell_type": "code",
   "execution_count": 87,
   "metadata": {
    "executionInfo": {
     "elapsed": 276,
     "status": "ok",
     "timestamp": 1663267872343,
     "user": {
      "displayName": "Srinath Nanduri",
      "userId": "16683609937496845667"
     },
     "user_tz": 420
    },
    "id": "xb3WdDaHLU5e"
   },
   "outputs": [],
   "source": [
    "results_matrix = np.array([log_model, xgb_model, xgb_hyper, clf_model, clf_hyper, rfc_model, rfc_hyper])"
   ]
  },
  {
   "cell_type": "code",
   "execution_count": 88,
   "metadata": {
    "executionInfo": {
     "elapsed": 2,
     "status": "ok",
     "timestamp": 1663267872607,
     "user": {
      "displayName": "Srinath Nanduri",
      "userId": "16683609937496845667"
     },
     "user_tz": 420
    },
    "id": "FWFpvTpsLT0R"
   },
   "outputs": [],
   "source": [
    "models = [\"Logistic Regression\", \"XGB Classifier\",\" XGB Classifier - Tuned\", \n",
    "          \"Decision Tree Classifier\", \"Decision Tree Classifier - Tuned\", \"Random Forest Classifier\", \"Random Forest Classifier - Tuned\"]"
   ]
  },
  {
   "cell_type": "code",
   "execution_count": 89,
   "metadata": {
    "colab": {
     "base_uri": "https://localhost:8080/",
     "height": 269
    },
    "executionInfo": {
     "elapsed": 4,
     "status": "ok",
     "timestamp": 1663267873130,
     "user": {
      "displayName": "Srinath Nanduri",
      "userId": "16683609937496845667"
     },
     "user_tz": 420
    },
    "id": "_6sy1kFkMCUp",
    "outputId": "6114ed40-ca02-491c-db5e-9b6abfcdd213"
   },
   "outputs": [
    {
     "data": {
      "text/html": [
       "\n",
       "  <div id=\"df-7026179e-4d29-4874-9205-580a75418117\">\n",
       "    <div class=\"colab-df-container\">\n",
       "      <div>\n",
       "<style scoped>\n",
       "    .dataframe tbody tr th:only-of-type {\n",
       "        vertical-align: middle;\n",
       "    }\n",
       "\n",
       "    .dataframe tbody tr th {\n",
       "        vertical-align: top;\n",
       "    }\n",
       "\n",
       "    .dataframe thead th {\n",
       "        text-align: right;\n",
       "    }\n",
       "</style>\n",
       "<table border=\"1\" class=\"dataframe\">\n",
       "  <thead>\n",
       "    <tr style=\"text-align: right;\">\n",
       "      <th></th>\n",
       "      <th>Training Accuracy %</th>\n",
       "      <th>Validation Accuracy %</th>\n",
       "      <th>Test Accuracy %</th>\n",
       "      <th>Model</th>\n",
       "    </tr>\n",
       "  </thead>\n",
       "  <tbody>\n",
       "    <tr>\n",
       "      <th>0</th>\n",
       "      <td>80.51</td>\n",
       "      <td>74.47</td>\n",
       "      <td>74.41</td>\n",
       "      <td>XGB Classifier - Tuned</td>\n",
       "    </tr>\n",
       "    <tr>\n",
       "      <th>1</th>\n",
       "      <td>100.00</td>\n",
       "      <td>73.89</td>\n",
       "      <td>73.92</td>\n",
       "      <td>Random Forest Classifier</td>\n",
       "    </tr>\n",
       "    <tr>\n",
       "      <th>2</th>\n",
       "      <td>73.06</td>\n",
       "      <td>72.87</td>\n",
       "      <td>72.92</td>\n",
       "      <td>XGB Classifier</td>\n",
       "    </tr>\n",
       "    <tr>\n",
       "      <th>3</th>\n",
       "      <td>69.02</td>\n",
       "      <td>68.63</td>\n",
       "      <td>68.98</td>\n",
       "      <td>Decision Tree Classifier - Tuned</td>\n",
       "    </tr>\n",
       "    <tr>\n",
       "      <th>4</th>\n",
       "      <td>100.00</td>\n",
       "      <td>63.88</td>\n",
       "      <td>64.72</td>\n",
       "      <td>Decision Tree Classifier</td>\n",
       "    </tr>\n",
       "    <tr>\n",
       "      <th>5</th>\n",
       "      <td>63.26</td>\n",
       "      <td>62.91</td>\n",
       "      <td>63.02</td>\n",
       "      <td>Random Forest Classifier - Tuned</td>\n",
       "    </tr>\n",
       "    <tr>\n",
       "      <th>6</th>\n",
       "      <td>63.04</td>\n",
       "      <td>62.75</td>\n",
       "      <td>62.94</td>\n",
       "      <td>Logistic Regression</td>\n",
       "    </tr>\n",
       "  </tbody>\n",
       "</table>\n",
       "</div>\n",
       "      <button class=\"colab-df-convert\" onclick=\"convertToInteractive('df-7026179e-4d29-4874-9205-580a75418117')\"\n",
       "              title=\"Convert this dataframe to an interactive table.\"\n",
       "              style=\"display:none;\">\n",
       "        \n",
       "  <svg xmlns=\"http://www.w3.org/2000/svg\" height=\"24px\"viewBox=\"0 0 24 24\"\n",
       "       width=\"24px\">\n",
       "    <path d=\"M0 0h24v24H0V0z\" fill=\"none\"/>\n",
       "    <path d=\"M18.56 5.44l.94 2.06.94-2.06 2.06-.94-2.06-.94-.94-2.06-.94 2.06-2.06.94zm-11 1L8.5 8.5l.94-2.06 2.06-.94-2.06-.94L8.5 2.5l-.94 2.06-2.06.94zm10 10l.94 2.06.94-2.06 2.06-.94-2.06-.94-.94-2.06-.94 2.06-2.06.94z\"/><path d=\"M17.41 7.96l-1.37-1.37c-.4-.4-.92-.59-1.43-.59-.52 0-1.04.2-1.43.59L10.3 9.45l-7.72 7.72c-.78.78-.78 2.05 0 2.83L4 21.41c.39.39.9.59 1.41.59.51 0 1.02-.2 1.41-.59l7.78-7.78 2.81-2.81c.8-.78.8-2.07 0-2.86zM5.41 20L4 18.59l7.72-7.72 1.47 1.35L5.41 20z\"/>\n",
       "  </svg>\n",
       "      </button>\n",
       "      \n",
       "  <style>\n",
       "    .colab-df-container {\n",
       "      display:flex;\n",
       "      flex-wrap:wrap;\n",
       "      gap: 12px;\n",
       "    }\n",
       "\n",
       "    .colab-df-convert {\n",
       "      background-color: #E8F0FE;\n",
       "      border: none;\n",
       "      border-radius: 50%;\n",
       "      cursor: pointer;\n",
       "      display: none;\n",
       "      fill: #1967D2;\n",
       "      height: 32px;\n",
       "      padding: 0 0 0 0;\n",
       "      width: 32px;\n",
       "    }\n",
       "\n",
       "    .colab-df-convert:hover {\n",
       "      background-color: #E2EBFA;\n",
       "      box-shadow: 0px 1px 2px rgba(60, 64, 67, 0.3), 0px 1px 3px 1px rgba(60, 64, 67, 0.15);\n",
       "      fill: #174EA6;\n",
       "    }\n",
       "\n",
       "    [theme=dark] .colab-df-convert {\n",
       "      background-color: #3B4455;\n",
       "      fill: #D2E3FC;\n",
       "    }\n",
       "\n",
       "    [theme=dark] .colab-df-convert:hover {\n",
       "      background-color: #434B5C;\n",
       "      box-shadow: 0px 1px 3px 1px rgba(0, 0, 0, 0.15);\n",
       "      filter: drop-shadow(0px 1px 2px rgba(0, 0, 0, 0.3));\n",
       "      fill: #FFFFFF;\n",
       "    }\n",
       "  </style>\n",
       "\n",
       "      <script>\n",
       "        const buttonEl =\n",
       "          document.querySelector('#df-7026179e-4d29-4874-9205-580a75418117 button.colab-df-convert');\n",
       "        buttonEl.style.display =\n",
       "          google.colab.kernel.accessAllowed ? 'block' : 'none';\n",
       "\n",
       "        async function convertToInteractive(key) {\n",
       "          const element = document.querySelector('#df-7026179e-4d29-4874-9205-580a75418117');\n",
       "          const dataTable =\n",
       "            await google.colab.kernel.invokeFunction('convertToInteractive',\n",
       "                                                     [key], {});\n",
       "          if (!dataTable) return;\n",
       "\n",
       "          const docLinkHtml = 'Like what you see? Visit the ' +\n",
       "            '<a target=\"_blank\" href=https://colab.research.google.com/notebooks/data_table.ipynb>data table notebook</a>'\n",
       "            + ' to learn more about interactive tables.';\n",
       "          element.innerHTML = '';\n",
       "          dataTable['output_type'] = 'display_data';\n",
       "          await google.colab.output.renderOutput(dataTable, element);\n",
       "          const docLink = document.createElement('div');\n",
       "          docLink.innerHTML = docLinkHtml;\n",
       "          element.appendChild(docLink);\n",
       "        }\n",
       "      </script>\n",
       "    </div>\n",
       "  </div>\n",
       "  "
      ],
      "text/plain": [
       "   Training Accuracy %  Validation Accuracy %  Test Accuracy %  \\\n",
       "0                80.51                  74.47            74.41   \n",
       "1               100.00                  73.89            73.92   \n",
       "2                73.06                  72.87            72.92   \n",
       "3                69.02                  68.63            68.98   \n",
       "4               100.00                  63.88            64.72   \n",
       "5                63.26                  62.91            63.02   \n",
       "6                63.04                  62.75            62.94   \n",
       "\n",
       "                              Model  \n",
       "0            XGB Classifier - Tuned  \n",
       "1          Random Forest Classifier  \n",
       "2                    XGB Classifier  \n",
       "3  Decision Tree Classifier - Tuned  \n",
       "4          Decision Tree Classifier  \n",
       "5  Random Forest Classifier - Tuned  \n",
       "6               Logistic Regression  "
      ]
     },
     "execution_count": 89,
     "metadata": {},
     "output_type": "execute_result"
    }
   ],
   "source": [
    "results_df = pd.DataFrame(results_matrix, columns=['Training Accuracy %', 'Validation Accuracy %', 'Test Accuracy %'])\n",
    "results_df['Model'] = models\n",
    "results_df[['Training Accuracy %', 'Validation Accuracy %', 'Test Accuracy %']] = round(results_df[['Training Accuracy %', 'Validation Accuracy %', 'Test Accuracy %']] * 100, 2)\n",
    "results_df.sort_values('Test Accuracy %', ascending=False).reset_index(drop=True)"
   ]
  },
  {
   "cell_type": "markdown",
   "metadata": {
    "id": "io_9uikpW3oL"
   },
   "source": [
    "# 12. Conclusion and References"
   ]
  },
  {
   "cell_type": "markdown",
   "metadata": {
    "id": "9DvT6GWd98uy"
   },
   "source": [
    "## i. Conclusion\n",
    "\n",
    "The intention for this project is to show the use of machine learning in taking large sets of data and using it to display useful information. In this case its a prediction of Airplane arrival delay given factors such as the day of the year, the various delays in security, departure delay, time to taxi and such. The various machine learning models used in this project (Logistic Regression, Decision Tree Classifier, XGB Classifier and Random Forest Classifier) all showed various levels of accuracy, however the best one was the XGB Classifier at a test accuracy of 75%."
   ]
  },
  {
   "cell_type": "markdown",
   "metadata": {
    "id": "2OhSuQ3tRe_r"
   },
   "source": [
    "## iii. References\n",
    "\n",
    "- https://scikit-learn.org/stable/modules/classes.html#\n",
    "- https://stackoverflow.com/\n",
    "- https://www.kaggle.com/datasets/giovamata/airlinedelaycauses\n",
    "- https://www.kaggle.com/datasets/srinathnanduri97/weather-data-for-265-airports-in-the-united-states\n",
    "- https://jovian.ai/learn/zero-to-data-analyst-bootcamp/lesson/how-to-approach-machine-learning-problems\n",
    "- https://www.wunderground.com/\n",
    "- https://jovian.ai/learn/zero-to-data-analyst-bootcamp/lesson/logistic-regression-for-classification\n",
    "- https://scikit-learn.org/stable/modules/generated/sklearn.svm.SVC.html#sklearn.svm.SVC\n",
    "- https://www.kaggle.com/code/vaishnavidixit12/flight-delay-prediction-0-9983-accuracy\n",
    "- https://analyticsindiamag.com/implementing-bayesian-optimization-on-xgboost-a-beginners-guide/"
   ]
  },
  {
   "cell_type": "markdown",
   "metadata": {
    "id": "HoLbBokU5xu7"
   },
   "source": [
    "# 13. Save the Project"
   ]
  },
  {
   "cell_type": "code",
   "execution_count": 77,
   "metadata": {
    "colab": {
     "base_uri": "https://localhost:8080/",
     "height": 88
    },
    "executionInfo": {
     "elapsed": 2883,
     "status": "ok",
     "timestamp": 1663265587081,
     "user": {
      "displayName": "Srinath Nanduri",
      "userId": "16683609937496845667"
     },
     "user_tz": 420
    },
    "id": "qbcnTa3no_bj",
    "outputId": "2544c0bb-dafe-4c05-fc76-133d9fbcf753"
   },
   "outputs": [
    {
     "name": "stdout",
     "output_type": "stream",
     "text": [
      "[jovian] Detected Colab notebook...\u001b[0m\n",
      "[jovian] Uploading colab notebook to Jovian...\u001b[0m\n",
      "Committed successfully! https://jovian.ai/nsrinath97/airplane-delay-prediction-machine-learning-project\n"
     ]
    },
    {
     "data": {
      "application/vnd.google.colaboratory.intrinsic+json": {
       "type": "string"
      },
      "text/plain": [
       "'https://jovian.ai/nsrinath97/airplane-delay-prediction-machine-learning-project'"
      ]
     },
     "execution_count": 77,
     "metadata": {},
     "output_type": "execute_result"
    }
   ],
   "source": [
    "jovian.commit()"
   ]
  }
 ],
 "metadata": {
  "colab": {
   "machine_shape": "hm",
   "provenance": []
  },
  "gpuClass": "standard",
  "language_info": {
   "codemirror_mode": {
    "name": "ipython",
    "version": 3
   },
   "file_extension": ".py",
   "mimetype": "text/x-python",
   "name": "python",
   "nbconvert_exporter": "python",
   "pygments_lexer": "ipython3",
   "version": "3.9.6"
  }
 },
 "nbformat": 4,
 "nbformat_minor": 0
}